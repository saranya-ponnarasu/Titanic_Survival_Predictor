{
 "cells": [
  {
   "cell_type": "markdown",
   "id": "2e5440e1",
   "metadata": {},
   "source": [
    "## 1. Importing libraries"
   ]
  },
  {
   "cell_type": "code",
   "execution_count": 95,
   "id": "9308618a",
   "metadata": {},
   "outputs": [],
   "source": [
    "# Importing warning\n",
    "import warnings\n",
    "warnings.filterwarnings('ignore')"
   ]
  },
  {
   "cell_type": "code",
   "execution_count": 96,
   "id": "3ec60eb2",
   "metadata": {},
   "outputs": [],
   "source": [
    "# Importing necessary libraries\n",
    "\n",
    "import numpy as np\n",
    "import pandas as pd\n",
    "import matplotlib.pyplot as plt\n",
    "import seaborn as sns"
   ]
  },
  {
   "cell_type": "markdown",
   "id": "84f9ead9",
   "metadata": {},
   "source": [
    "## 2. Importing Dataset"
   ]
  },
  {
   "cell_type": "code",
   "execution_count": 97,
   "id": "61bc55a7",
   "metadata": {
    "scrolled": true
   },
   "outputs": [
    {
     "data": {
      "text/html": [
       "<div>\n",
       "<style scoped>\n",
       "    .dataframe tbody tr th:only-of-type {\n",
       "        vertical-align: middle;\n",
       "    }\n",
       "\n",
       "    .dataframe tbody tr th {\n",
       "        vertical-align: top;\n",
       "    }\n",
       "\n",
       "    .dataframe thead th {\n",
       "        text-align: right;\n",
       "    }\n",
       "</style>\n",
       "<table border=\"1\" class=\"dataframe\">\n",
       "  <thead>\n",
       "    <tr style=\"text-align: right;\">\n",
       "      <th></th>\n",
       "      <th>PassengerId</th>\n",
       "      <th>Survived</th>\n",
       "      <th>Pclass</th>\n",
       "      <th>Name</th>\n",
       "      <th>Sex</th>\n",
       "      <th>Age</th>\n",
       "      <th>SibSp</th>\n",
       "      <th>Parch</th>\n",
       "      <th>Ticket</th>\n",
       "      <th>Fare</th>\n",
       "      <th>Cabin</th>\n",
       "      <th>Embarked</th>\n",
       "    </tr>\n",
       "  </thead>\n",
       "  <tbody>\n",
       "    <tr>\n",
       "      <th>0</th>\n",
       "      <td>1</td>\n",
       "      <td>0</td>\n",
       "      <td>3</td>\n",
       "      <td>Braund, Mr. Owen Harris</td>\n",
       "      <td>male</td>\n",
       "      <td>22.0</td>\n",
       "      <td>1</td>\n",
       "      <td>0</td>\n",
       "      <td>A/5 21171</td>\n",
       "      <td>7.2500</td>\n",
       "      <td>NaN</td>\n",
       "      <td>S</td>\n",
       "    </tr>\n",
       "    <tr>\n",
       "      <th>1</th>\n",
       "      <td>2</td>\n",
       "      <td>1</td>\n",
       "      <td>1</td>\n",
       "      <td>Cumings, Mrs. John Bradley (Florence Briggs Th...</td>\n",
       "      <td>female</td>\n",
       "      <td>38.0</td>\n",
       "      <td>1</td>\n",
       "      <td>0</td>\n",
       "      <td>PC 17599</td>\n",
       "      <td>71.2833</td>\n",
       "      <td>C85</td>\n",
       "      <td>C</td>\n",
       "    </tr>\n",
       "    <tr>\n",
       "      <th>2</th>\n",
       "      <td>3</td>\n",
       "      <td>1</td>\n",
       "      <td>3</td>\n",
       "      <td>Heikkinen, Miss. Laina</td>\n",
       "      <td>female</td>\n",
       "      <td>26.0</td>\n",
       "      <td>0</td>\n",
       "      <td>0</td>\n",
       "      <td>STON/O2. 3101282</td>\n",
       "      <td>7.9250</td>\n",
       "      <td>NaN</td>\n",
       "      <td>S</td>\n",
       "    </tr>\n",
       "    <tr>\n",
       "      <th>3</th>\n",
       "      <td>4</td>\n",
       "      <td>1</td>\n",
       "      <td>1</td>\n",
       "      <td>Futrelle, Mrs. Jacques Heath (Lily May Peel)</td>\n",
       "      <td>female</td>\n",
       "      <td>35.0</td>\n",
       "      <td>1</td>\n",
       "      <td>0</td>\n",
       "      <td>113803</td>\n",
       "      <td>53.1000</td>\n",
       "      <td>C123</td>\n",
       "      <td>S</td>\n",
       "    </tr>\n",
       "    <tr>\n",
       "      <th>4</th>\n",
       "      <td>5</td>\n",
       "      <td>0</td>\n",
       "      <td>3</td>\n",
       "      <td>Allen, Mr. William Henry</td>\n",
       "      <td>male</td>\n",
       "      <td>35.0</td>\n",
       "      <td>0</td>\n",
       "      <td>0</td>\n",
       "      <td>373450</td>\n",
       "      <td>8.0500</td>\n",
       "      <td>NaN</td>\n",
       "      <td>S</td>\n",
       "    </tr>\n",
       "  </tbody>\n",
       "</table>\n",
       "</div>"
      ],
      "text/plain": [
       "   PassengerId  Survived  Pclass  \\\n",
       "0            1         0       3   \n",
       "1            2         1       1   \n",
       "2            3         1       3   \n",
       "3            4         1       1   \n",
       "4            5         0       3   \n",
       "\n",
       "                                                Name     Sex   Age  SibSp  \\\n",
       "0                            Braund, Mr. Owen Harris    male  22.0      1   \n",
       "1  Cumings, Mrs. John Bradley (Florence Briggs Th...  female  38.0      1   \n",
       "2                             Heikkinen, Miss. Laina  female  26.0      0   \n",
       "3       Futrelle, Mrs. Jacques Heath (Lily May Peel)  female  35.0      1   \n",
       "4                           Allen, Mr. William Henry    male  35.0      0   \n",
       "\n",
       "   Parch            Ticket     Fare Cabin Embarked  \n",
       "0      0         A/5 21171   7.2500   NaN        S  \n",
       "1      0          PC 17599  71.2833   C85        C  \n",
       "2      0  STON/O2. 3101282   7.9250   NaN        S  \n",
       "3      0            113803  53.1000  C123        S  \n",
       "4      0            373450   8.0500   NaN        S  "
      ]
     },
     "execution_count": 97,
     "metadata": {},
     "output_type": "execute_result"
    }
   ],
   "source": [
    "# Importing Training Dataset\n",
    "train = pd.read_csv('train.csv')\n",
    "\n",
    "# Verify\n",
    "train.head()"
   ]
  },
  {
   "cell_type": "code",
   "execution_count": 98,
   "id": "e19315db",
   "metadata": {},
   "outputs": [
    {
     "data": {
      "text/html": [
       "<div>\n",
       "<style scoped>\n",
       "    .dataframe tbody tr th:only-of-type {\n",
       "        vertical-align: middle;\n",
       "    }\n",
       "\n",
       "    .dataframe tbody tr th {\n",
       "        vertical-align: top;\n",
       "    }\n",
       "\n",
       "    .dataframe thead th {\n",
       "        text-align: right;\n",
       "    }\n",
       "</style>\n",
       "<table border=\"1\" class=\"dataframe\">\n",
       "  <thead>\n",
       "    <tr style=\"text-align: right;\">\n",
       "      <th></th>\n",
       "      <th>PassengerId</th>\n",
       "      <th>Pclass</th>\n",
       "      <th>Name</th>\n",
       "      <th>Sex</th>\n",
       "      <th>Age</th>\n",
       "      <th>SibSp</th>\n",
       "      <th>Parch</th>\n",
       "      <th>Ticket</th>\n",
       "      <th>Fare</th>\n",
       "      <th>Cabin</th>\n",
       "      <th>Embarked</th>\n",
       "    </tr>\n",
       "  </thead>\n",
       "  <tbody>\n",
       "    <tr>\n",
       "      <th>0</th>\n",
       "      <td>892</td>\n",
       "      <td>3</td>\n",
       "      <td>Kelly, Mr. James</td>\n",
       "      <td>male</td>\n",
       "      <td>34.5</td>\n",
       "      <td>0</td>\n",
       "      <td>0</td>\n",
       "      <td>330911</td>\n",
       "      <td>7.8292</td>\n",
       "      <td>NaN</td>\n",
       "      <td>Q</td>\n",
       "    </tr>\n",
       "    <tr>\n",
       "      <th>1</th>\n",
       "      <td>893</td>\n",
       "      <td>3</td>\n",
       "      <td>Wilkes, Mrs. James (Ellen Needs)</td>\n",
       "      <td>female</td>\n",
       "      <td>47.0</td>\n",
       "      <td>1</td>\n",
       "      <td>0</td>\n",
       "      <td>363272</td>\n",
       "      <td>7.0000</td>\n",
       "      <td>NaN</td>\n",
       "      <td>S</td>\n",
       "    </tr>\n",
       "    <tr>\n",
       "      <th>2</th>\n",
       "      <td>894</td>\n",
       "      <td>2</td>\n",
       "      <td>Myles, Mr. Thomas Francis</td>\n",
       "      <td>male</td>\n",
       "      <td>62.0</td>\n",
       "      <td>0</td>\n",
       "      <td>0</td>\n",
       "      <td>240276</td>\n",
       "      <td>9.6875</td>\n",
       "      <td>NaN</td>\n",
       "      <td>Q</td>\n",
       "    </tr>\n",
       "    <tr>\n",
       "      <th>3</th>\n",
       "      <td>895</td>\n",
       "      <td>3</td>\n",
       "      <td>Wirz, Mr. Albert</td>\n",
       "      <td>male</td>\n",
       "      <td>27.0</td>\n",
       "      <td>0</td>\n",
       "      <td>0</td>\n",
       "      <td>315154</td>\n",
       "      <td>8.6625</td>\n",
       "      <td>NaN</td>\n",
       "      <td>S</td>\n",
       "    </tr>\n",
       "    <tr>\n",
       "      <th>4</th>\n",
       "      <td>896</td>\n",
       "      <td>3</td>\n",
       "      <td>Hirvonen, Mrs. Alexander (Helga E Lindqvist)</td>\n",
       "      <td>female</td>\n",
       "      <td>22.0</td>\n",
       "      <td>1</td>\n",
       "      <td>1</td>\n",
       "      <td>3101298</td>\n",
       "      <td>12.2875</td>\n",
       "      <td>NaN</td>\n",
       "      <td>S</td>\n",
       "    </tr>\n",
       "  </tbody>\n",
       "</table>\n",
       "</div>"
      ],
      "text/plain": [
       "   PassengerId  Pclass                                          Name     Sex  \\\n",
       "0          892       3                              Kelly, Mr. James    male   \n",
       "1          893       3              Wilkes, Mrs. James (Ellen Needs)  female   \n",
       "2          894       2                     Myles, Mr. Thomas Francis    male   \n",
       "3          895       3                              Wirz, Mr. Albert    male   \n",
       "4          896       3  Hirvonen, Mrs. Alexander (Helga E Lindqvist)  female   \n",
       "\n",
       "    Age  SibSp  Parch   Ticket     Fare Cabin Embarked  \n",
       "0  34.5      0      0   330911   7.8292   NaN        Q  \n",
       "1  47.0      1      0   363272   7.0000   NaN        S  \n",
       "2  62.0      0      0   240276   9.6875   NaN        Q  \n",
       "3  27.0      0      0   315154   8.6625   NaN        S  \n",
       "4  22.0      1      1  3101298  12.2875   NaN        S  "
      ]
     },
     "execution_count": 98,
     "metadata": {},
     "output_type": "execute_result"
    }
   ],
   "source": [
    "# Importing Test Dataset\n",
    "test = pd.read_csv('test.csv')\n",
    "\n",
    "# Verify\n",
    "test.head()"
   ]
  },
  {
   "cell_type": "markdown",
   "id": "b79add2a",
   "metadata": {},
   "source": [
    "## 3. Data Understanding"
   ]
  },
  {
   "cell_type": "markdown",
   "id": "2433d22e",
   "metadata": {},
   "source": [
    "The Titanic dataset from ([Kaggle](https://www.kaggle.com/c/titanic/data)) includes two separate files: `train` and `test`. The `train` file is used for building the model and evaluating it, while the `test` file is to predict and submit the results to Kaggle - Titanic - Machine Learning from Disaster Competition."
   ]
  },
  {
   "cell_type": "markdown",
   "id": "72b27566",
   "metadata": {},
   "source": [
    "\n",
    "#### Column Definitions\n",
    "\n",
    "1. **Passenger ID** - Unique identifier for each passenger, starting from **1**.\n",
    "2. **Survived** - Indicates whether the passenger survived (1: Survived | 0: Not Survived).\n",
    "3. **Pclass** - Ticket class of the passenger (1: First class | 2: Second class | 3: Third class).\n",
    "4. **Name** - Full name of the passenger, formatted as \"Lastname, Title. Firstname\". For married women, it is formatted as \"Lastname of spouse, Title-Mrs. Firstname of spouse (Firstname Middlename Lastname)\".\n",
    "5. **Sex** - Gender of the passenger (male or female).\n",
    "6. **Age** - Age of the passenger, ranging from 5 months (0.42) to 80 years.\n",
    "7. **SibSp** - Number of siblings/spouses aboard the Titanic.\n",
    "8. **Parch** - Number of parents/children aboard the Titanic.\n",
    "9. **Ticket** - Ticket number, which may include both a prefix and a number.\n",
    "10. **Fare** - Fare paid by the passenger, ranging from 0.0 to 512.33.\n",
    "11. **Embarked** - Port where the passenger boarded the Titanic (C: Cherbourg | Q: Queenstown | S: Southampton)."
   ]
  },
  {
   "cell_type": "markdown",
   "id": "855697ce",
   "metadata": {},
   "source": [
    "## 4. Handling missing values"
   ]
  },
  {
   "cell_type": "code",
   "execution_count": 99,
   "id": "642293b3",
   "metadata": {
    "scrolled": true
   },
   "outputs": [
    {
     "name": "stdout",
     "output_type": "stream",
     "text": [
      "<class 'pandas.core.frame.DataFrame'>\n",
      "RangeIndex: 891 entries, 0 to 890\n",
      "Data columns (total 12 columns):\n",
      " #   Column       Non-Null Count  Dtype  \n",
      "---  ------       --------------  -----  \n",
      " 0   PassengerId  891 non-null    int64  \n",
      " 1   Survived     891 non-null    int64  \n",
      " 2   Pclass       891 non-null    int64  \n",
      " 3   Name         891 non-null    object \n",
      " 4   Sex          891 non-null    object \n",
      " 5   Age          714 non-null    float64\n",
      " 6   SibSp        891 non-null    int64  \n",
      " 7   Parch        891 non-null    int64  \n",
      " 8   Ticket       891 non-null    object \n",
      " 9   Fare         891 non-null    float64\n",
      " 10  Cabin        204 non-null    object \n",
      " 11  Embarked     889 non-null    object \n",
      "dtypes: float64(2), int64(5), object(5)\n",
      "memory usage: 83.7+ KB\n"
     ]
    }
   ],
   "source": [
    "# Viewing the dataset info\n",
    "train.info()"
   ]
  },
  {
   "cell_type": "code",
   "execution_count": 100,
   "id": "de284d7a",
   "metadata": {
    "scrolled": true
   },
   "outputs": [
    {
     "data": {
      "text/plain": [
       "PassengerId      0\n",
       "Survived         0\n",
       "Pclass           0\n",
       "Name             0\n",
       "Sex              0\n",
       "Age            177\n",
       "SibSp            0\n",
       "Parch            0\n",
       "Ticket           0\n",
       "Fare             0\n",
       "Cabin          687\n",
       "Embarked         2\n",
       "dtype: int64"
      ]
     },
     "execution_count": 100,
     "metadata": {},
     "output_type": "execute_result"
    }
   ],
   "source": [
    "# Viewing the null values\n",
    "train.isnull().sum()"
   ]
  },
  {
   "cell_type": "code",
   "execution_count": 101,
   "id": "6ef165a3",
   "metadata": {},
   "outputs": [
    {
     "name": "stdout",
     "output_type": "stream",
     "text": [
      "% of missing values \n",
      "\n",
      "Cabin       77.10\n",
      "Age         19.87\n",
      "Embarked     0.22\n",
      "dtype: float64\n"
     ]
    }
   ],
   "source": [
    "# Missing values percent\n",
    "print('% of missing values \\n')\n",
    "print(round(((train.isnull().sum()*100)/train.shape[0])[train.isnull().sum()>0] , 2).sort_values(ascending = False))\n"
   ]
  },
  {
   "cell_type": "markdown",
   "id": "f2ebc6a3",
   "metadata": {},
   "source": [
    "The \"Cabin\" column has 77% missing values, which is a substantial proportion and should be dropped to avoid potential misinterpretations."
   ]
  },
  {
   "cell_type": "markdown",
   "id": "04f4a81d",
   "metadata": {},
   "source": [
    "#### 4.1 Handling missing values - Dropping"
   ]
  },
  {
   "cell_type": "code",
   "execution_count": 102,
   "id": "2de69ca8",
   "metadata": {
    "scrolled": true
   },
   "outputs": [
    {
     "data": {
      "text/plain": [
       "Age         177\n",
       "Embarked      2\n",
       "dtype: int64"
      ]
     },
     "execution_count": 102,
     "metadata": {},
     "output_type": "execute_result"
    }
   ],
   "source": [
    "# Dropping 'Cabin' column\n",
    "train.drop('Cabin' , inplace = True, axis = 1)\n",
    "\n",
    "# Verify\n",
    "train.isnull().sum()[train.isnull().sum()>0]"
   ]
  },
  {
   "cell_type": "markdown",
   "id": "5470e4df",
   "metadata": {},
   "source": [
    "#### 4.2 Handling missing values - Imputing"
   ]
  },
  {
   "cell_type": "code",
   "execution_count": 103,
   "id": "96ae769a",
   "metadata": {},
   "outputs": [
    {
     "name": "stdout",
     "output_type": "stream",
     "text": [
      "% of missing values \n",
      "\n",
      "Age         19.87\n",
      "Embarked     0.22\n",
      "dtype: float64\n"
     ]
    }
   ],
   "source": [
    "# Missing values percent\n",
    "print('% of missing values \\n')\n",
    "print(round(((train.isnull().sum()*100)/train.shape[0])[train.isnull().sum()>0] , 2).sort_values(ascending = False))"
   ]
  },
  {
   "cell_type": "code",
   "execution_count": 104,
   "id": "c99f404a",
   "metadata": {
    "scrolled": true
   },
   "outputs": [
    {
     "data": {
      "text/html": [
       "<div>\n",
       "<style scoped>\n",
       "    .dataframe tbody tr th:only-of-type {\n",
       "        vertical-align: middle;\n",
       "    }\n",
       "\n",
       "    .dataframe tbody tr th {\n",
       "        vertical-align: top;\n",
       "    }\n",
       "\n",
       "    .dataframe thead th {\n",
       "        text-align: right;\n",
       "    }\n",
       "</style>\n",
       "<table border=\"1\" class=\"dataframe\">\n",
       "  <thead>\n",
       "    <tr style=\"text-align: right;\">\n",
       "      <th></th>\n",
       "      <th>PassengerId</th>\n",
       "      <th>Survived</th>\n",
       "      <th>Pclass</th>\n",
       "      <th>Name</th>\n",
       "      <th>Sex</th>\n",
       "      <th>Age</th>\n",
       "      <th>SibSp</th>\n",
       "      <th>Parch</th>\n",
       "      <th>Ticket</th>\n",
       "      <th>Fare</th>\n",
       "      <th>Embarked</th>\n",
       "    </tr>\n",
       "  </thead>\n",
       "  <tbody>\n",
       "    <tr>\n",
       "      <th>61</th>\n",
       "      <td>62</td>\n",
       "      <td>1</td>\n",
       "      <td>1</td>\n",
       "      <td>Icard, Miss. Amelie</td>\n",
       "      <td>female</td>\n",
       "      <td>38.0</td>\n",
       "      <td>0</td>\n",
       "      <td>0</td>\n",
       "      <td>113572</td>\n",
       "      <td>80.0</td>\n",
       "      <td>NaN</td>\n",
       "    </tr>\n",
       "    <tr>\n",
       "      <th>829</th>\n",
       "      <td>830</td>\n",
       "      <td>1</td>\n",
       "      <td>1</td>\n",
       "      <td>Stone, Mrs. George Nelson (Martha Evelyn)</td>\n",
       "      <td>female</td>\n",
       "      <td>62.0</td>\n",
       "      <td>0</td>\n",
       "      <td>0</td>\n",
       "      <td>113572</td>\n",
       "      <td>80.0</td>\n",
       "      <td>NaN</td>\n",
       "    </tr>\n",
       "  </tbody>\n",
       "</table>\n",
       "</div>"
      ],
      "text/plain": [
       "     PassengerId  Survived  Pclass                                       Name  \\\n",
       "61            62         1       1                        Icard, Miss. Amelie   \n",
       "829          830         1       1  Stone, Mrs. George Nelson (Martha Evelyn)   \n",
       "\n",
       "        Sex   Age  SibSp  Parch  Ticket  Fare Embarked  \n",
       "61   female  38.0      0      0  113572  80.0      NaN  \n",
       "829  female  62.0      0      0  113572  80.0      NaN  "
      ]
     },
     "execution_count": 104,
     "metadata": {},
     "output_type": "execute_result"
    }
   ],
   "source": [
    "# Viewing the rows with missing values - 1. Embarked\n",
    "train[train.Embarked.isna()]"
   ]
  },
  {
   "cell_type": "code",
   "execution_count": 105,
   "id": "bb56d723",
   "metadata": {},
   "outputs": [
    {
     "data": {
      "text/plain": [
       "Embarked\n",
       "S    644\n",
       "C    168\n",
       "Q     77\n",
       "Name: count, dtype: int64"
      ]
     },
     "execution_count": 105,
     "metadata": {},
     "output_type": "execute_result"
    }
   ],
   "source": [
    "# Finding the most common value - 1.Embarked\n",
    "train.Embarked.value_counts()"
   ]
  },
  {
   "cell_type": "markdown",
   "id": "0022b1c6",
   "metadata": {},
   "source": [
    "Since neither passenger has any siblings or parents onboard, we can't figure out where they embarked from. So, let's just fill in the most common embarked value = 'S'."
   ]
  },
  {
   "cell_type": "code",
   "execution_count": 106,
   "id": "d6e8913a",
   "metadata": {},
   "outputs": [
    {
     "name": "stdout",
     "output_type": "stream",
     "text": [
      "Columns with missing values \n",
      "\n",
      "Age    177\n",
      "dtype: int64\n"
     ]
    }
   ],
   "source": [
    "# Imputing with most common value\n",
    "train.Embarked[train.Embarked.isnull()] = 'S'\n",
    "\n",
    "# Verify\n",
    "print('Columns with missing values \\n')\n",
    "print(train.isnull().sum()[train.isnull().sum()>0])"
   ]
  },
  {
   "cell_type": "code",
   "execution_count": 107,
   "id": "41880b26",
   "metadata": {},
   "outputs": [
    {
     "name": "stdout",
     "output_type": "stream",
     "text": [
      "% of Missing values in Age :  19.87 %\n"
     ]
    }
   ],
   "source": [
    "# % of missing values\n",
    "print('% of Missing values in Age : ',round((train.isnull().sum()['Age']*100) / train.shape[0] , 2),'%')"
   ]
  },
  {
   "cell_type": "markdown",
   "id": "f4fc51c2",
   "metadata": {},
   "source": [
    "Imputing the missing values in Age is critical because they constitute approximately 20% of the dataset. Misinterpreting these missing values could significantly impact the accuracy and integrity of the results."
   ]
  },
  {
   "cell_type": "code",
   "execution_count": 108,
   "id": "30363531",
   "metadata": {},
   "outputs": [
    {
     "data": {
      "image/png": "[encoded data removed]",
      "text/plain": [
       "<Figure size 640x480 with 1 Axes>"
      ]
     },
     "metadata": {},
     "output_type": "display_data"
    }
   ],
   "source": [
    "# Viewing the feature using boxplot - 2. Age\n",
    "plt.title('Age Distribution')\n",
    "train.Age.plot.box()\n",
    "plt.show()"
   ]
  },
  {
   "cell_type": "markdown",
   "id": "9bcfd721",
   "metadata": {},
   "source": [
    "Based on the box plot, we see that ages span from 0 to 80 years, with a notable concentration of individuals aged between 20 and 40 years. The median age is around 28 years. However, it wouldn't be appropriate to impute missing ages uniformly, as they represent a significant portion of the dataset."
   ]
  },
  {
   "cell_type": "code",
   "execution_count": 109,
   "id": "f0b59c4d",
   "metadata": {},
   "outputs": [
    {
     "data": {
      "image/png": "[encoded data removed]",
      "text/plain": [
       "<Figure size 640x480 with 2 Axes>"
      ]
     },
     "metadata": {},
     "output_type": "display_data"
    }
   ],
   "source": [
    "# Visualizing the correlation of Age feature with other variables\n",
    "plt.title('Correlation of Age with other variables')\n",
    "sns.heatmap(train[['Survived', 'Pclass','Age', 'SibSp','Parch', 'Fare']].corr() , annot = True , cmap = 'twilight_shifted' )\n",
    "plt.show()"
   ]
  },
  {
   "cell_type": "markdown",
   "id": "2e9b1a15",
   "metadata": {},
   "source": [
    "The heatmap suggests that Age lacks strong correlations with other features for imputation, whereas P_class shows a notable correlation of -0.41, which could be significant for decision-making regarding imputation strategies.\n",
    "\n",
    "We can extract titles from the feature 'Name' and use their mean values within their 'Pclass' to impute age."
   ]
  },
  {
   "cell_type": "markdown",
   "id": "9c1064a8",
   "metadata": {},
   "source": [
    "#### 4.2.1 Feature engineering"
   ]
  },
  {
   "cell_type": "code",
   "execution_count": 110,
   "id": "b732d87f",
   "metadata": {},
   "outputs": [
    {
     "data": {
      "text/html": [
       "<div>\n",
       "<style scoped>\n",
       "    .dataframe tbody tr th:only-of-type {\n",
       "        vertical-align: middle;\n",
       "    }\n",
       "\n",
       "    .dataframe tbody tr th {\n",
       "        vertical-align: top;\n",
       "    }\n",
       "\n",
       "    .dataframe thead th {\n",
       "        text-align: right;\n",
       "    }\n",
       "</style>\n",
       "<table border=\"1\" class=\"dataframe\">\n",
       "  <thead>\n",
       "    <tr style=\"text-align: right;\">\n",
       "      <th></th>\n",
       "      <th>PassengerId</th>\n",
       "      <th>Survived</th>\n",
       "      <th>Pclass</th>\n",
       "      <th>Name</th>\n",
       "      <th>Sex</th>\n",
       "      <th>Age</th>\n",
       "      <th>SibSp</th>\n",
       "      <th>Parch</th>\n",
       "      <th>Ticket</th>\n",
       "      <th>Fare</th>\n",
       "      <th>Embarked</th>\n",
       "      <th>Title</th>\n",
       "    </tr>\n",
       "  </thead>\n",
       "  <tbody>\n",
       "    <tr>\n",
       "      <th>0</th>\n",
       "      <td>1</td>\n",
       "      <td>0</td>\n",
       "      <td>3</td>\n",
       "      <td>Braund, Mr. Owen Harris</td>\n",
       "      <td>male</td>\n",
       "      <td>22.0</td>\n",
       "      <td>1</td>\n",
       "      <td>0</td>\n",
       "      <td>A/5 21171</td>\n",
       "      <td>7.2500</td>\n",
       "      <td>S</td>\n",
       "      <td>Mr</td>\n",
       "    </tr>\n",
       "    <tr>\n",
       "      <th>1</th>\n",
       "      <td>2</td>\n",
       "      <td>1</td>\n",
       "      <td>1</td>\n",
       "      <td>Cumings, Mrs. John Bradley (Florence Briggs Th...</td>\n",
       "      <td>female</td>\n",
       "      <td>38.0</td>\n",
       "      <td>1</td>\n",
       "      <td>0</td>\n",
       "      <td>PC 17599</td>\n",
       "      <td>71.2833</td>\n",
       "      <td>C</td>\n",
       "      <td>Mrs</td>\n",
       "    </tr>\n",
       "    <tr>\n",
       "      <th>2</th>\n",
       "      <td>3</td>\n",
       "      <td>1</td>\n",
       "      <td>3</td>\n",
       "      <td>Heikkinen, Miss. Laina</td>\n",
       "      <td>female</td>\n",
       "      <td>26.0</td>\n",
       "      <td>0</td>\n",
       "      <td>0</td>\n",
       "      <td>STON/O2. 3101282</td>\n",
       "      <td>7.9250</td>\n",
       "      <td>S</td>\n",
       "      <td>Miss</td>\n",
       "    </tr>\n",
       "    <tr>\n",
       "      <th>3</th>\n",
       "      <td>4</td>\n",
       "      <td>1</td>\n",
       "      <td>1</td>\n",
       "      <td>Futrelle, Mrs. Jacques Heath (Lily May Peel)</td>\n",
       "      <td>female</td>\n",
       "      <td>35.0</td>\n",
       "      <td>1</td>\n",
       "      <td>0</td>\n",
       "      <td>113803</td>\n",
       "      <td>53.1000</td>\n",
       "      <td>S</td>\n",
       "      <td>Mrs</td>\n",
       "    </tr>\n",
       "    <tr>\n",
       "      <th>4</th>\n",
       "      <td>5</td>\n",
       "      <td>0</td>\n",
       "      <td>3</td>\n",
       "      <td>Allen, Mr. William Henry</td>\n",
       "      <td>male</td>\n",
       "      <td>35.0</td>\n",
       "      <td>0</td>\n",
       "      <td>0</td>\n",
       "      <td>373450</td>\n",
       "      <td>8.0500</td>\n",
       "      <td>S</td>\n",
       "      <td>Mr</td>\n",
       "    </tr>\n",
       "  </tbody>\n",
       "</table>\n",
       "</div>"
      ],
      "text/plain": [
       "   PassengerId  Survived  Pclass  \\\n",
       "0            1         0       3   \n",
       "1            2         1       1   \n",
       "2            3         1       3   \n",
       "3            4         1       1   \n",
       "4            5         0       3   \n",
       "\n",
       "                                                Name     Sex   Age  SibSp  \\\n",
       "0                            Braund, Mr. Owen Harris    male  22.0      1   \n",
       "1  Cumings, Mrs. John Bradley (Florence Briggs Th...  female  38.0      1   \n",
       "2                             Heikkinen, Miss. Laina  female  26.0      0   \n",
       "3       Futrelle, Mrs. Jacques Heath (Lily May Peel)  female  35.0      1   \n",
       "4                           Allen, Mr. William Henry    male  35.0      0   \n",
       "\n",
       "   Parch            Ticket     Fare Embarked Title  \n",
       "0      0         A/5 21171   7.2500        S    Mr  \n",
       "1      0          PC 17599  71.2833        C   Mrs  \n",
       "2      0  STON/O2. 3101282   7.9250        S  Miss  \n",
       "3      0            113803  53.1000        S   Mrs  \n",
       "4      0            373450   8.0500        S    Mr  "
      ]
     },
     "execution_count": 110,
     "metadata": {},
     "output_type": "execute_result"
    }
   ],
   "source": [
    "# Extracting the Title\n",
    "train['Title'] = train['Name'].str.extract('([A-Za-z]+)\\.' , expand = False)\n",
    "\n",
    "# Verify\n",
    "train.head()"
   ]
  },
  {
   "cell_type": "code",
   "execution_count": 111,
   "id": "12edd054",
   "metadata": {
    "scrolled": true
   },
   "outputs": [
    {
     "data": {
      "text/plain": [
       "Title\n",
       "Mr        119\n",
       "Miss       36\n",
       "Mrs        17\n",
       "Master      4\n",
       "Dr          1\n",
       "Name: count, dtype: int64"
      ]
     },
     "execution_count": 111,
     "metadata": {},
     "output_type": "execute_result"
    }
   ],
   "source": [
    "# Finding the number of missing values for each title\n",
    "train[['Title','Age']][train['Age'].isnull()].Title.value_counts()"
   ]
  },
  {
   "cell_type": "code",
   "execution_count": 112,
   "id": "2ec2ef77",
   "metadata": {},
   "outputs": [
    {
     "data": {
      "text/html": [
       "<div>\n",
       "<style scoped>\n",
       "    .dataframe tbody tr th:only-of-type {\n",
       "        vertical-align: middle;\n",
       "    }\n",
       "\n",
       "    .dataframe tbody tr th {\n",
       "        vertical-align: top;\n",
       "    }\n",
       "\n",
       "    .dataframe thead th {\n",
       "        text-align: right;\n",
       "    }\n",
       "</style>\n",
       "<table border=\"1\" class=\"dataframe\">\n",
       "  <thead>\n",
       "    <tr style=\"text-align: right;\">\n",
       "      <th></th>\n",
       "      <th></th>\n",
       "      <th>count</th>\n",
       "      <th>mean</th>\n",
       "    </tr>\n",
       "    <tr>\n",
       "      <th>Title</th>\n",
       "      <th>Pclass</th>\n",
       "      <th></th>\n",
       "      <th></th>\n",
       "    </tr>\n",
       "  </thead>\n",
       "  <tbody>\n",
       "    <tr>\n",
       "      <th>Capt</th>\n",
       "      <th>1</th>\n",
       "      <td>1</td>\n",
       "      <td>70.000000</td>\n",
       "    </tr>\n",
       "    <tr>\n",
       "      <th>Col</th>\n",
       "      <th>1</th>\n",
       "      <td>2</td>\n",
       "      <td>58.000000</td>\n",
       "    </tr>\n",
       "    <tr>\n",
       "      <th>Countess</th>\n",
       "      <th>1</th>\n",
       "      <td>1</td>\n",
       "      <td>33.000000</td>\n",
       "    </tr>\n",
       "    <tr>\n",
       "      <th>Don</th>\n",
       "      <th>1</th>\n",
       "      <td>1</td>\n",
       "      <td>40.000000</td>\n",
       "    </tr>\n",
       "    <tr>\n",
       "      <th rowspan=\"2\" valign=\"top\">Dr</th>\n",
       "      <th>1</th>\n",
       "      <td>4</td>\n",
       "      <td>43.750000</td>\n",
       "    </tr>\n",
       "    <tr>\n",
       "      <th>2</th>\n",
       "      <td>2</td>\n",
       "      <td>38.500000</td>\n",
       "    </tr>\n",
       "    <tr>\n",
       "      <th>Jonkheer</th>\n",
       "      <th>1</th>\n",
       "      <td>1</td>\n",
       "      <td>38.000000</td>\n",
       "    </tr>\n",
       "    <tr>\n",
       "      <th>Lady</th>\n",
       "      <th>1</th>\n",
       "      <td>1</td>\n",
       "      <td>48.000000</td>\n",
       "    </tr>\n",
       "    <tr>\n",
       "      <th>Major</th>\n",
       "      <th>1</th>\n",
       "      <td>2</td>\n",
       "      <td>48.500000</td>\n",
       "    </tr>\n",
       "    <tr>\n",
       "      <th rowspan=\"3\" valign=\"top\">Master</th>\n",
       "      <th>1</th>\n",
       "      <td>3</td>\n",
       "      <td>5.306667</td>\n",
       "    </tr>\n",
       "    <tr>\n",
       "      <th>2</th>\n",
       "      <td>9</td>\n",
       "      <td>2.258889</td>\n",
       "    </tr>\n",
       "    <tr>\n",
       "      <th>3</th>\n",
       "      <td>24</td>\n",
       "      <td>5.350833</td>\n",
       "    </tr>\n",
       "    <tr>\n",
       "      <th rowspan=\"3\" valign=\"top\">Miss</th>\n",
       "      <th>1</th>\n",
       "      <td>45</td>\n",
       "      <td>30.000000</td>\n",
       "    </tr>\n",
       "    <tr>\n",
       "      <th>2</th>\n",
       "      <td>32</td>\n",
       "      <td>22.390625</td>\n",
       "    </tr>\n",
       "    <tr>\n",
       "      <th>3</th>\n",
       "      <td>69</td>\n",
       "      <td>16.123188</td>\n",
       "    </tr>\n",
       "    <tr>\n",
       "      <th>Mlle</th>\n",
       "      <th>1</th>\n",
       "      <td>2</td>\n",
       "      <td>24.000000</td>\n",
       "    </tr>\n",
       "    <tr>\n",
       "      <th>Mme</th>\n",
       "      <th>1</th>\n",
       "      <td>1</td>\n",
       "      <td>24.000000</td>\n",
       "    </tr>\n",
       "    <tr>\n",
       "      <th rowspan=\"3\" valign=\"top\">Mr</th>\n",
       "      <th>1</th>\n",
       "      <td>87</td>\n",
       "      <td>41.580460</td>\n",
       "    </tr>\n",
       "    <tr>\n",
       "      <th>2</th>\n",
       "      <td>82</td>\n",
       "      <td>32.768293</td>\n",
       "    </tr>\n",
       "    <tr>\n",
       "      <th>3</th>\n",
       "      <td>229</td>\n",
       "      <td>28.724891</td>\n",
       "    </tr>\n",
       "    <tr>\n",
       "      <th rowspan=\"3\" valign=\"top\">Mrs</th>\n",
       "      <th>1</th>\n",
       "      <td>34</td>\n",
       "      <td>40.882353</td>\n",
       "    </tr>\n",
       "    <tr>\n",
       "      <th>2</th>\n",
       "      <td>41</td>\n",
       "      <td>33.682927</td>\n",
       "    </tr>\n",
       "    <tr>\n",
       "      <th>3</th>\n",
       "      <td>33</td>\n",
       "      <td>33.515152</td>\n",
       "    </tr>\n",
       "    <tr>\n",
       "      <th>Ms</th>\n",
       "      <th>2</th>\n",
       "      <td>1</td>\n",
       "      <td>28.000000</td>\n",
       "    </tr>\n",
       "    <tr>\n",
       "      <th>Rev</th>\n",
       "      <th>2</th>\n",
       "      <td>6</td>\n",
       "      <td>43.166667</td>\n",
       "    </tr>\n",
       "    <tr>\n",
       "      <th>Sir</th>\n",
       "      <th>1</th>\n",
       "      <td>1</td>\n",
       "      <td>49.000000</td>\n",
       "    </tr>\n",
       "  </tbody>\n",
       "</table>\n",
       "</div>"
      ],
      "text/plain": [
       "                 count       mean\n",
       "Title    Pclass                  \n",
       "Capt     1           1  70.000000\n",
       "Col      1           2  58.000000\n",
       "Countess 1           1  33.000000\n",
       "Don      1           1  40.000000\n",
       "Dr       1           4  43.750000\n",
       "         2           2  38.500000\n",
       "Jonkheer 1           1  38.000000\n",
       "Lady     1           1  48.000000\n",
       "Major    1           2  48.500000\n",
       "Master   1           3   5.306667\n",
       "         2           9   2.258889\n",
       "         3          24   5.350833\n",
       "Miss     1          45  30.000000\n",
       "         2          32  22.390625\n",
       "         3          69  16.123188\n",
       "Mlle     1           2  24.000000\n",
       "Mme      1           1  24.000000\n",
       "Mr       1          87  41.580460\n",
       "         2          82  32.768293\n",
       "         3         229  28.724891\n",
       "Mrs      1          34  40.882353\n",
       "         2          41  33.682927\n",
       "         3          33  33.515152\n",
       "Ms       2           1  28.000000\n",
       "Rev      2           6  43.166667\n",
       "Sir      1           1  49.000000"
      ]
     },
     "execution_count": 112,
     "metadata": {},
     "output_type": "execute_result"
    }
   ],
   "source": [
    "# Finding the mean age of each category based on Pclass and Title\n",
    "train.groupby(['Title', 'Pclass'])['Age'].agg(['count', 'mean'])"
   ]
  },
  {
   "cell_type": "markdown",
   "id": "582ed1da",
   "metadata": {},
   "source": [
    "We've identified discrepancies in the dataset where titles appear in different languages, including Spanish, Dutch, French, and English. Our approach now is to standardize these titles."
   ]
  },
  {
   "cell_type": "code",
   "execution_count": 113,
   "id": "4149ce2a",
   "metadata": {},
   "outputs": [
    {
     "data": {
      "text/plain": [
       "Title\n",
       "Mr        119\n",
       "Miss       36\n",
       "Mrs        17\n",
       "Master      4\n",
       "Dr          1\n",
       "Name: count, dtype: int64"
      ]
     },
     "execution_count": 113,
     "metadata": {},
     "output_type": "execute_result"
    }
   ],
   "source": [
    "# 1. Combining Miss, Ms, and Mlle into a single category: Miss.\n",
    "train.Title[(train['Title'] == 'Mlle') | (train['Title'] == 'Ms')] = 'Miss'\n",
    "\n",
    "# 2. Combining Mrs , Lady , Countess and Mme : Mrs\n",
    "train.Title[(train['Title'] == 'Mme')| (train['Title'] == 'Lady') | (train['Title'] == 'Countess')] = 'Mrs'\n",
    "\n",
    "# 3. Combining Mr and Don : Mr\n",
    "train.Title[(train['Title'] == 'Don')] = 'Mr'\n",
    "\n",
    "# Finding the number of missing values for each title\n",
    "train[['Title','Age']][train['Age'].isnull()].Title.value_counts()"
   ]
  },
  {
   "cell_type": "markdown",
   "id": "d9c0afaf",
   "metadata": {},
   "source": [
    "Let's proceed with imputing values based on the mean values derived from the table above."
   ]
  },
  {
   "cell_type": "code",
   "execution_count": 114,
   "id": "930ac3d7",
   "metadata": {},
   "outputs": [
    {
     "data": {
      "text/html": [
       "<div>\n",
       "<style scoped>\n",
       "    .dataframe tbody tr th:only-of-type {\n",
       "        vertical-align: middle;\n",
       "    }\n",
       "\n",
       "    .dataframe tbody tr th {\n",
       "        vertical-align: top;\n",
       "    }\n",
       "\n",
       "    .dataframe thead th {\n",
       "        text-align: right;\n",
       "    }\n",
       "</style>\n",
       "<table border=\"1\" class=\"dataframe\">\n",
       "  <thead>\n",
       "    <tr style=\"text-align: right;\">\n",
       "      <th></th>\n",
       "      <th>PassengerId</th>\n",
       "      <th>Survived</th>\n",
       "      <th>Pclass</th>\n",
       "      <th>Name</th>\n",
       "      <th>Sex</th>\n",
       "      <th>Age</th>\n",
       "      <th>SibSp</th>\n",
       "      <th>Parch</th>\n",
       "      <th>Ticket</th>\n",
       "      <th>Fare</th>\n",
       "      <th>Embarked</th>\n",
       "      <th>Title</th>\n",
       "    </tr>\n",
       "  </thead>\n",
       "  <tbody>\n",
       "    <tr>\n",
       "      <th>65</th>\n",
       "      <td>66</td>\n",
       "      <td>1</td>\n",
       "      <td>3</td>\n",
       "      <td>Moubarek, Master. Gerios</td>\n",
       "      <td>male</td>\n",
       "      <td>NaN</td>\n",
       "      <td>1</td>\n",
       "      <td>1</td>\n",
       "      <td>2661</td>\n",
       "      <td>15.2458</td>\n",
       "      <td>C</td>\n",
       "      <td>Master</td>\n",
       "    </tr>\n",
       "    <tr>\n",
       "      <th>159</th>\n",
       "      <td>160</td>\n",
       "      <td>0</td>\n",
       "      <td>3</td>\n",
       "      <td>Sage, Master. Thomas Henry</td>\n",
       "      <td>male</td>\n",
       "      <td>NaN</td>\n",
       "      <td>8</td>\n",
       "      <td>2</td>\n",
       "      <td>CA. 2343</td>\n",
       "      <td>69.5500</td>\n",
       "      <td>S</td>\n",
       "      <td>Master</td>\n",
       "    </tr>\n",
       "    <tr>\n",
       "      <th>176</th>\n",
       "      <td>177</td>\n",
       "      <td>0</td>\n",
       "      <td>3</td>\n",
       "      <td>Lefebre, Master. Henry Forbes</td>\n",
       "      <td>male</td>\n",
       "      <td>NaN</td>\n",
       "      <td>3</td>\n",
       "      <td>1</td>\n",
       "      <td>4133</td>\n",
       "      <td>25.4667</td>\n",
       "      <td>S</td>\n",
       "      <td>Master</td>\n",
       "    </tr>\n",
       "    <tr>\n",
       "      <th>709</th>\n",
       "      <td>710</td>\n",
       "      <td>1</td>\n",
       "      <td>3</td>\n",
       "      <td>Moubarek, Master. Halim Gonios (\"William George\")</td>\n",
       "      <td>male</td>\n",
       "      <td>NaN</td>\n",
       "      <td>1</td>\n",
       "      <td>1</td>\n",
       "      <td>2661</td>\n",
       "      <td>15.2458</td>\n",
       "      <td>C</td>\n",
       "      <td>Master</td>\n",
       "    </tr>\n",
       "  </tbody>\n",
       "</table>\n",
       "</div>"
      ],
      "text/plain": [
       "     PassengerId  Survived  Pclass  \\\n",
       "65            66         1       3   \n",
       "159          160         0       3   \n",
       "176          177         0       3   \n",
       "709          710         1       3   \n",
       "\n",
       "                                                  Name   Sex  Age  SibSp  \\\n",
       "65                            Moubarek, Master. Gerios  male  NaN      1   \n",
       "159                         Sage, Master. Thomas Henry  male  NaN      8   \n",
       "176                      Lefebre, Master. Henry Forbes  male  NaN      3   \n",
       "709  Moubarek, Master. Halim Gonios (\"William George\")  male  NaN      1   \n",
       "\n",
       "     Parch    Ticket     Fare Embarked   Title  \n",
       "65       1      2661  15.2458        C  Master  \n",
       "159      2  CA. 2343  69.5500        S  Master  \n",
       "176      1      4133  25.4667        S  Master  \n",
       "709      1      2661  15.2458        C  Master  "
      ]
     },
     "execution_count": 114,
     "metadata": {},
     "output_type": "execute_result"
    }
   ],
   "source": [
    "# Imputing Age Categories\n",
    "\n",
    "# 1. Master\n",
    "train[(train['Title'] == 'Master') & (train.Age.isna())]"
   ]
  },
  {
   "cell_type": "markdown",
   "id": "51552daa",
   "metadata": {},
   "source": [
    "\n",
    "All the children belong to Pclass = 3. Let's impute their ages with the mean age for Pclass 3, which is 5."
   ]
  },
  {
   "cell_type": "code",
   "execution_count": 115,
   "id": "beb352d3",
   "metadata": {},
   "outputs": [],
   "source": [
    "# Imputing the Age of Masters\n",
    "train.Age[(train['Title'] == 'Master') & (train.Age.isna())] = 5"
   ]
  },
  {
   "cell_type": "code",
   "execution_count": 116,
   "id": "3c932ed6",
   "metadata": {},
   "outputs": [
    {
     "data": {
      "text/plain": [
       "Title\n",
       "Mr      119\n",
       "Miss     36\n",
       "Mrs      17\n",
       "Dr        1\n",
       "Name: count, dtype: int64"
      ]
     },
     "execution_count": 116,
     "metadata": {},
     "output_type": "execute_result"
    }
   ],
   "source": [
    "# Finding the number of missing values for each title\n",
    "train[['Title','Age']][train['Age'].isnull()].Title.value_counts()"
   ]
  },
  {
   "cell_type": "markdown",
   "id": "71992a45",
   "metadata": {},
   "source": [
    "We have four more titles to handle. Let’s write a simple program to automate the imputation."
   ]
  },
  {
   "cell_type": "code",
   "execution_count": 117,
   "id": "3a5c1d63",
   "metadata": {},
   "outputs": [
    {
     "data": {
      "text/plain": [
       "Series([], dtype: int64)"
      ]
     },
     "execution_count": 117,
     "metadata": {},
     "output_type": "execute_result"
    }
   ],
   "source": [
    "# Creating a simple function to impute age based on Pclass and Mean of age\n",
    "\n",
    "def impute(train):\n",
    "    # Creating a datframe from the groupby output\n",
    "    age_pclass_summary = train.groupby(['Title', 'Pclass'])['Age'].agg(['count', 'mean'])\n",
    "    age_pclass_summary['mean'] = round(age_pclass_summary['mean'],2)\n",
    "\n",
    "    # Assigning the titles to a list variable\n",
    "    titles = ['Mr' , 'Miss' , 'Mrs' , 'Dr']\n",
    "\n",
    "    # Program to impute missing Age values based on title and Pclass\n",
    "    for x in titles:\n",
    "        for index,rows in train[(train['Title'] == x) & (train['Age'].isna())].iterrows():\n",
    "            pclass = train.iloc[index]['Pclass']\n",
    "            train.at[index, 'Age'] = age_pclass_summary.loc[x,pclass][1]\n",
    "\n",
    "    return train\n",
    "\n",
    "train = impute(train)\n",
    "\n",
    "# Verifying the missing values list\n",
    "train.isnull().sum()[train.isnull().sum()>0]"
   ]
  },
  {
   "cell_type": "markdown",
   "id": "c0161a38",
   "metadata": {},
   "source": [
    "All the missing values has been handled. "
   ]
  },
  {
   "cell_type": "markdown",
   "id": "37cdb2ee",
   "metadata": {},
   "source": [
    "## 5. Exploratory Data Analysis\n",
    "\n",
    "To explore the relationship among the features."
   ]
  },
  {
   "cell_type": "code",
   "execution_count": 118,
   "id": "8f48a8e8",
   "metadata": {},
   "outputs": [],
   "source": [
    "# Creating a new dataframe with variables for EDA\n",
    "df_train = train[['Survived', 'Pclass',  'Sex', 'Age', 'SibSp','Parch',  'Fare', 'Embarked']]"
   ]
  },
  {
   "cell_type": "markdown",
   "id": "d91e6539",
   "metadata": {},
   "source": [
    "We excluded 'PassengerId', 'Name','Title' and 'Ticket' from the Titanic dataset as they do not contribute to the dataset's analysis."
   ]
  },
  {
   "cell_type": "code",
   "execution_count": 119,
   "id": "e97cac2c",
   "metadata": {},
   "outputs": [
    {
     "data": {
      "text/html": [
       "<div>\n",
       "<style scoped>\n",
       "    .dataframe tbody tr th:only-of-type {\n",
       "        vertical-align: middle;\n",
       "    }\n",
       "\n",
       "    .dataframe tbody tr th {\n",
       "        vertical-align: top;\n",
       "    }\n",
       "\n",
       "    .dataframe thead th {\n",
       "        text-align: right;\n",
       "    }\n",
       "</style>\n",
       "<table border=\"1\" class=\"dataframe\">\n",
       "  <thead>\n",
       "    <tr style=\"text-align: right;\">\n",
       "      <th></th>\n",
       "      <th>Survived</th>\n",
       "      <th>Pclass</th>\n",
       "      <th>Sex</th>\n",
       "      <th>Age</th>\n",
       "      <th>SibSp</th>\n",
       "      <th>Parch</th>\n",
       "      <th>Fare</th>\n",
       "      <th>Embarked</th>\n",
       "    </tr>\n",
       "  </thead>\n",
       "  <tbody>\n",
       "    <tr>\n",
       "      <th>0</th>\n",
       "      <td>0</td>\n",
       "      <td>3</td>\n",
       "      <td>male</td>\n",
       "      <td>22.0</td>\n",
       "      <td>1</td>\n",
       "      <td>0</td>\n",
       "      <td>7.2500</td>\n",
       "      <td>S</td>\n",
       "    </tr>\n",
       "    <tr>\n",
       "      <th>1</th>\n",
       "      <td>1</td>\n",
       "      <td>1</td>\n",
       "      <td>female</td>\n",
       "      <td>38.0</td>\n",
       "      <td>1</td>\n",
       "      <td>0</td>\n",
       "      <td>71.2833</td>\n",
       "      <td>C</td>\n",
       "    </tr>\n",
       "    <tr>\n",
       "      <th>2</th>\n",
       "      <td>1</td>\n",
       "      <td>3</td>\n",
       "      <td>female</td>\n",
       "      <td>26.0</td>\n",
       "      <td>0</td>\n",
       "      <td>0</td>\n",
       "      <td>7.9250</td>\n",
       "      <td>S</td>\n",
       "    </tr>\n",
       "    <tr>\n",
       "      <th>3</th>\n",
       "      <td>1</td>\n",
       "      <td>1</td>\n",
       "      <td>female</td>\n",
       "      <td>35.0</td>\n",
       "      <td>1</td>\n",
       "      <td>0</td>\n",
       "      <td>53.1000</td>\n",
       "      <td>S</td>\n",
       "    </tr>\n",
       "    <tr>\n",
       "      <th>4</th>\n",
       "      <td>0</td>\n",
       "      <td>3</td>\n",
       "      <td>male</td>\n",
       "      <td>35.0</td>\n",
       "      <td>0</td>\n",
       "      <td>0</td>\n",
       "      <td>8.0500</td>\n",
       "      <td>S</td>\n",
       "    </tr>\n",
       "  </tbody>\n",
       "</table>\n",
       "</div>"
      ],
      "text/plain": [
       "   Survived  Pclass     Sex   Age  SibSp  Parch     Fare Embarked\n",
       "0         0       3    male  22.0      1      0   7.2500        S\n",
       "1         1       1  female  38.0      1      0  71.2833        C\n",
       "2         1       3  female  26.0      0      0   7.9250        S\n",
       "3         1       1  female  35.0      1      0  53.1000        S\n",
       "4         0       3    male  35.0      0      0   8.0500        S"
      ]
     },
     "execution_count": 119,
     "metadata": {},
     "output_type": "execute_result"
    }
   ],
   "source": [
    "# Viewing the data\n",
    "df_train.head()"
   ]
  },
  {
   "cell_type": "markdown",
   "id": "e084d9c2",
   "metadata": {},
   "source": [
    "#### 5.1 Bivariate Analysis"
   ]
  },
  {
   "cell_type": "code",
   "execution_count": 120,
   "id": "bddaef3c",
   "metadata": {},
   "outputs": [
    {
     "name": "stdout",
     "output_type": "stream",
     "text": [
      "Survival %\n",
      "Total : 38.38 %\n",
      "Female: 68.13 %\n",
      "Male  : 31.87 %\n"
     ]
    }
   ],
   "source": [
    "# 1. % of Survivors\n",
    "print('Survival %')\n",
    "print('Total :',round(df_train.Survived.sum() * 100/df_train.shape[0] , 2) , '%')\n",
    "print('Female:',round( df_train[(df_train['Sex'] == 'female') & (df_train.Survived == 1)].shape[0]* 100/df_train.Survived.sum() , 2) , '%')\n",
    "print('Male  :',round( df_train[(df_train['Sex'] == 'male') & (df_train.Survived == 1)].shape[0]* 100/df_train.Survived.sum() , 2) , '%')\n"
   ]
  },
  {
   "cell_type": "code",
   "execution_count": 121,
   "id": "fbaa51b4",
   "metadata": {},
   "outputs": [
    {
     "data": {
      "image/png": "[encoded data removed]",
      "text/plain": [
       "<Figure size 800x400 with 2 Axes>"
      ]
     },
     "metadata": {},
     "output_type": "display_data"
    }
   ],
   "source": [
    "# Plotting the % of Survivors\n",
    "fig, axes = plt.subplots(1,2,figsize = (8,4))\n",
    "\n",
    "Survival = {'Survived': 38.38 , 'Perished' : 61.62}\n",
    "labels= Survival.keys()\n",
    "values = Survival.values()\n",
    "axes[0].pie(values, labels = labels, autopct = '%.2f%%', startangle = 150 , colors = ['green' , 'orangered'])\n",
    "axes[0].set_title('Survival Distribution')\n",
    "\n",
    "plt.subplots_adjust(wspace=0.5)\n",
    "\n",
    "Survival = {'Female': 68.13 , 'Male' : 31.87}\n",
    "labels= Survival.keys()\n",
    "values = Survival.values()\n",
    "axes[1].pie(values, labels = labels, autopct = '%.2f%%', startangle = 75 , colors = ['pink' , 'skyblue'])\n",
    "axes[1].set_title('Gender Distribution Among Survivors')\n",
    "plt.show()"
   ]
  },
  {
   "cell_type": "markdown",
   "id": "b7606c9b",
   "metadata": {},
   "source": [
    "Among the total number of passengers, the survival rate is only 38%. Of those who survived, 68% are female and 31% are male, largely due to     the **\"women and children first\"** policy."
   ]
  },
  {
   "cell_type": "code",
   "execution_count": 122,
   "id": "47c42728",
   "metadata": {},
   "outputs": [
    {
     "data": {
      "image/png": "[encoded data removed]",
      "text/plain": [
       "<Figure size 1000x400 with 2 Axes>"
      ]
     },
     "metadata": {},
     "output_type": "display_data"
    }
   ],
   "source": [
    "# 2. Plotting the Age distribution among Survivors and the Perished\n",
    "fig, axes = plt.subplots(1,2,figsize = (10,4))\n",
    "\n",
    "# Visualizing Age Distribution of Survivors\n",
    "axes[0].hist(df_train.Age[df_train['Survived']==1] , edgecolor ='white' , bins = 16 , color = 'green')\n",
    "axes[0].set_title('Age Distribution of Survivors')\n",
    "axes[0].set_xlabel('Age')\n",
    "axes[0].set_xticks([0,10,20,30,40,50,60,70,80])\n",
    "axes[0].set_yticks([50,100,150,200])\n",
    "axes[0].set_ylabel('Number of Survivors')\n",
    "\n",
    "# Visualizing Age Distribution of the Perished\n",
    "axes[1].hist(df_train.Age[df_train['Survived']==0] , edgecolor ='white' , bins = 14 , color = 'orangered')\n",
    "axes[1].set_title('Age Distribution of the Perished')\n",
    "axes[1].set_xlabel('Age')\n",
    "axes[1].set_xticks([0,10,20,30,40,50,60,70, 80])\n",
    "axes[1].set_ylabel('Number of the Perished')\n",
    "plt.show()"
   ]
  },
  {
   "cell_type": "markdown",
   "id": "277aa3ab",
   "metadata": {},
   "source": [
    "The charts distinctly illustrates a lower count of survivors. The distribution of ages shows a skew towards younger survivors. Individuals around 30 years old had a higher chance of perishing, evident from the peak in the second histogram.\n",
    "\n",
    "Factors contributing to this pattern may include the prioritization of women and children in lifeboats and the presence of stronger individuals within the 20-40 age group."
   ]
  },
  {
   "cell_type": "markdown",
   "id": "52c69ebf",
   "metadata": {},
   "source": [
    "#### 5.2 Multivariate Analysis"
   ]
  },
  {
   "cell_type": "code",
   "execution_count": 123,
   "id": "262b98b4",
   "metadata": {},
   "outputs": [
    {
     "data": {
      "image/png": "[encoded data removed]",
      "text/plain": [
       "<Figure size 1000x400 with 2 Axes>"
      ]
     },
     "metadata": {},
     "output_type": "display_data"
    }
   ],
   "source": [
    "# 2. Visualizing the Age Distribution of Survivors by Gender\n",
    "\n",
    "fig, axes = plt.subplots(1,2,figsize = (10,4))\n",
    "\n",
    "# Visualizing Age Distribution of Survivors - Female\n",
    "axes[0].hist(df_train.Age[(df_train['Survived']==1) & (df_train['Sex'] == 'female')] ,\\\n",
    "             edgecolor ='black' , bins = 16 , color = 'pink')\n",
    "axes[0].set_title('Age Distribution of Survivors - Female')\n",
    "axes[0].set_xlabel('Age')\n",
    "axes[0].set_xticks([0,10,20,30,40,50,60,70,80])\n",
    "axes[0].set_ylabel('Number of Survivors')\n",
    "\n",
    "# Visualizing Age Distribution of Survivors - Male\n",
    "axes[1].hist(df_train.Age[(df_train['Survived']==1) & (df_train['Sex'] == 'male')] ,\\\n",
    "             edgecolor ='black' , bins = 14 , color = 'skyblue')\n",
    "axes[1].set_title('Age Distribution of Survivors - Male')\n",
    "axes[1].set_xlabel('Age')\n",
    "axes[1].set_xticks([0,10,20,30,40,50,60,70,80])\n",
    "axes[1].set_yticks([10,20,30,40,50,60,70,80])\n",
    "axes[1].set_ylabel('Number of Survivors')\n",
    "plt.show()"
   ]
  },
  {
   "cell_type": "markdown",
   "id": "33dff6ea",
   "metadata": {},
   "source": [
    "The chart clearly highlights the difference in survival rates between males and females, showing that more females survived.\n",
    "\n",
    "Women aged 15-35 had the highest survival rates, while those aged 55-80 had the lowest."
   ]
  },
  {
   "cell_type": "code",
   "execution_count": 124,
   "id": "df6a22b6",
   "metadata": {},
   "outputs": [
    {
     "data": {
      "image/png": "[encoded data removed]",
      "text/plain": [
       "<Figure size 1000x400 with 2 Axes>"
      ]
     },
     "metadata": {},
     "output_type": "display_data"
    }
   ],
   "source": [
    "# 3. Visualizing the Survivors from different classes\n",
    "sns.set_theme(style = 'whitegrid')\n",
    "\n",
    "fig, axes = plt.subplots(1,2,figsize = (10,4))\n",
    "\n",
    "# Plotting the count of passengers in each class\n",
    "pclass_total  = df_train.groupby('Pclass')['Survived'].count()\n",
    "\n",
    "axes[0].barh(pclass_total.index , pclass_total.values , edgecolor = 'black' , color = 'slateblue')\n",
    "axes[0].set_title('Count of passengers in each class')\n",
    "axes[0].set_xlabel('Number of Passengers')\n",
    "axes[0].set_ylabel('Ticket Class')\n",
    "axes[0].set_yticks([1 , 2 , 3])\n",
    "\n",
    "# Plotting the count of passengers survived in each class\n",
    "pclass_survival  = df_train.groupby('Pclass')['Survived'].sum()\n",
    "\n",
    "axes[1].barh(pclass_survival.index , pclass_survival.values , edgecolor = 'black' , color = 'green')\n",
    "axes[1].set_title('Count of Passengers Survived in each class')\n",
    "axes[1].set_xlabel('Number of Survivors')\n",
    "axes[1].set_xticks([100 , 200 , 300, 400, 500, 600, 700])\n",
    "axes[1].set_ylabel('Ticket Class')\n",
    "axes[1].set_yticks([1 , 2 , 3])\n",
    "\n",
    "plt.show()\n"
   ]
  },
  {
   "cell_type": "code",
   "execution_count": 125,
   "id": "c6c561b5",
   "metadata": {},
   "outputs": [
    {
     "data": {
      "text/plain": [
       "Pclass\n",
       "1    62.96\n",
       "2    47.28\n",
       "3    24.24\n",
       "Name: Survived, dtype: float64"
      ]
     },
     "execution_count": 125,
     "metadata": {},
     "output_type": "execute_result"
    }
   ],
   "source": [
    "# Calculating the Percentage of Survivors in each class\n",
    "round(df_train.groupby('Pclass')['Survived'].sum()*100/df_train.groupby('Pclass')['Survived'].count(), 2)"
   ]
  },
  {
   "cell_type": "markdown",
   "id": "8302a973",
   "metadata": {},
   "source": [
    "The data exposes a stark contrast in survival rates among passenger classes aboard the Titanic. First-class passengers experienced significantly higher survival rates compared to those in second and third class. This suggests a potential influence of socioeconomic status on access to lifeboats during the tragic events of the disaster."
   ]
  },
  {
   "cell_type": "code",
   "execution_count": 126,
   "id": "64df2fe5",
   "metadata": {},
   "outputs": [
    {
     "data": {
      "image/png": "[encoded data removed]",
      "text/plain": [
       "<Figure size 1000x400 with 2 Axes>"
      ]
     },
     "metadata": {},
     "output_type": "display_data"
    }
   ],
   "source": [
    "# 4.  Visualizing the Distribution of Survivors by Embarked Port\n",
    "fig, axes = plt.subplots(1,2,figsize = (10,4))\n",
    "\n",
    "# Plotting the count of passengers in port\n",
    "port_total  = df_train.groupby('Embarked')['Survived'].count()\n",
    "\n",
    "axes[0].barh(port_total.index , port_total.values , edgecolor = 'black' , color = 'slateblue')\n",
    "axes[0].set_title('Count of Passengers Embarked from Each Port')\n",
    "axes[0].set_xlabel('Number of Passengers')\n",
    "axes[0].set_xticks([100 , 200 , 300, 400, 500, 600, 700,800])\n",
    "axes[0].set_ylabel('Embarked Port')\n",
    "\n",
    "plt.subplots_adjust(wspace=0.5)\n",
    "# Plotting the count of passengers survived who embarked from different classes\n",
    "port_survival  = df_train.groupby('Embarked')['Survived'].sum()\n",
    "\n",
    "axes[1].barh(port_survival.index , port_survival.values , edgecolor = 'black' , color = 'green')\n",
    "axes[1].set_title('Count of Passengers Who Survived from Each Embarkation Port')\n",
    "axes[1].set_xlabel('Number of Survivors')\n",
    "axes[1].set_xticks([100 , 200 , 300, 400, 500, 600, 700,800])\n",
    "axes[1].set_ylabel('Embarked Port')\n",
    "\n",
    "plt.show()"
   ]
  },
  {
   "cell_type": "code",
   "execution_count": 127,
   "id": "482ac78d",
   "metadata": {},
   "outputs": [
    {
     "data": {
      "text/plain": [
       "Embarked\n",
       "C    55.36\n",
       "Q    38.96\n",
       "S    33.90\n",
       "Name: Survived, dtype: float64"
      ]
     },
     "execution_count": 127,
     "metadata": {},
     "output_type": "execute_result"
    }
   ],
   "source": [
    "# Calculating the Percentage of Survivors in each class\n",
    "round(df_train.groupby('Embarked')['Survived'].sum()*100/df_train.groupby('Embarked')['Survived'].count(), 2)"
   ]
  },
  {
   "cell_type": "markdown",
   "id": "76266853",
   "metadata": {},
   "source": [
    "The embarked port doesn't directly influence the survival rate. However, from the chart, we can see that the highest number of passengers boarded at **Southampton**, where the journey began, while the lowest number boarded at **Queenstown**, the last port."
   ]
  },
  {
   "cell_type": "code",
   "execution_count": 128,
   "id": "7adae5d4",
   "metadata": {},
   "outputs": [
    {
     "data": {
      "image/png": "[encoded data removed]",
      "text/plain": [
       "<Figure size 1000x400 with 2 Axes>"
      ]
     },
     "metadata": {},
     "output_type": "display_data"
    }
   ],
   "source": [
    "# 5.Visualizing Fare Distribution Among Different Ticket Classes for Survivors and Non-Survivors\n",
    "\n",
    "fig, axes = plt.subplots(1,2,figsize = (10,4))\n",
    "\n",
    "# Visualizing fare distribution across different classes\n",
    "sns.scatterplot( pd.pivot_table(df_train,values = 'Fare', index ='Survived', columns = 'Pclass', \\\n",
    "                                aggfunc = 'sum' ).round(2), ax =axes[0], palette = 'twilight')\n",
    "axes[0].set_title('Fare distribution across passenger classes \\n for survivors and non-survivors' , pad = 20)\n",
    "axes[0].legend(loc = 'upper left')\n",
    "axes[0].set_xticks([0,1])\n",
    "axes[0].set_xticklabels(['Non-Survivors','Survivors'])\n",
    "axes[0].set_xlabel('')\n",
    "\n",
    "\n",
    "# Visualizing fare distribution across different classes\n",
    "sns.scatterplot(pd.pivot_table(df_train, index ='Survived', columns = 'Pclass', aggfunc='size'), palette = 'twilight')\n",
    "axes[1].set_title('Total Passengers Survived and Not Survived \\nAcross Different Classes', pad = 20)\n",
    "axes[1].legend(loc = 'upper right')\n",
    "\n",
    "axes[1].set_xticks([0,1])\n",
    "axes[1].set_xticklabels(['Non-Survivors','Survivors'])\n",
    "axes[1].set_xlabel('')\n",
    "plt.show()"
   ]
  },
  {
   "cell_type": "markdown",
   "id": "46a02d27",
   "metadata": {},
   "source": [
    "The chart on the left effectively visualizes the survival status of passengers and the distribution of fare across different classes, while the chart on the right displays the number of passengers who survived or not, categorized by their classes.\n",
    "\n",
    "From the chart, it's evident that survivors in the first class paid higher fares, despite having a survival count similar to the second class.\n",
    "\n",
    "The third class shows the lowest fare collection among survivors and non-survivors alike, with fewer survivors overall."
   ]
  },
  {
   "cell_type": "markdown",
   "id": "9a32fcd8",
   "metadata": {},
   "source": [
    "## 6. Data Preparation for modeling"
   ]
  },
  {
   "cell_type": "code",
   "execution_count": 129,
   "id": "7b989080",
   "metadata": {},
   "outputs": [
    {
     "data": {
      "text/plain": [
       "Survived      int64\n",
       "Pclass        int64\n",
       "Sex          object\n",
       "Age         float64\n",
       "SibSp         int64\n",
       "Parch         int64\n",
       "Fare        float64\n",
       "Embarked     object\n",
       "dtype: object"
      ]
     },
     "execution_count": 129,
     "metadata": {},
     "output_type": "execute_result"
    }
   ],
   "source": [
    "# Viewing the data types\n",
    "df_train.dtypes"
   ]
  },
  {
   "cell_type": "markdown",
   "id": "35c0ff05",
   "metadata": {},
   "source": [
    "#### 6.1 Binary Encoding"
   ]
  },
  {
   "cell_type": "code",
   "execution_count": 130,
   "id": "2aa9921c",
   "metadata": {},
   "outputs": [
    {
     "data": {
      "text/html": [
       "<div>\n",
       "<style scoped>\n",
       "    .dataframe tbody tr th:only-of-type {\n",
       "        vertical-align: middle;\n",
       "    }\n",
       "\n",
       "    .dataframe tbody tr th {\n",
       "        vertical-align: top;\n",
       "    }\n",
       "\n",
       "    .dataframe thead th {\n",
       "        text-align: right;\n",
       "    }\n",
       "</style>\n",
       "<table border=\"1\" class=\"dataframe\">\n",
       "  <thead>\n",
       "    <tr style=\"text-align: right;\">\n",
       "      <th></th>\n",
       "      <th>Survived</th>\n",
       "      <th>Pclass</th>\n",
       "      <th>Sex</th>\n",
       "      <th>Age</th>\n",
       "      <th>SibSp</th>\n",
       "      <th>Parch</th>\n",
       "      <th>Fare</th>\n",
       "      <th>Embarked</th>\n",
       "    </tr>\n",
       "  </thead>\n",
       "  <tbody>\n",
       "    <tr>\n",
       "      <th>0</th>\n",
       "      <td>0</td>\n",
       "      <td>3</td>\n",
       "      <td>1</td>\n",
       "      <td>22.0</td>\n",
       "      <td>1</td>\n",
       "      <td>0</td>\n",
       "      <td>7.2500</td>\n",
       "      <td>S</td>\n",
       "    </tr>\n",
       "    <tr>\n",
       "      <th>1</th>\n",
       "      <td>1</td>\n",
       "      <td>1</td>\n",
       "      <td>0</td>\n",
       "      <td>38.0</td>\n",
       "      <td>1</td>\n",
       "      <td>0</td>\n",
       "      <td>71.2833</td>\n",
       "      <td>C</td>\n",
       "    </tr>\n",
       "    <tr>\n",
       "      <th>2</th>\n",
       "      <td>1</td>\n",
       "      <td>3</td>\n",
       "      <td>0</td>\n",
       "      <td>26.0</td>\n",
       "      <td>0</td>\n",
       "      <td>0</td>\n",
       "      <td>7.9250</td>\n",
       "      <td>S</td>\n",
       "    </tr>\n",
       "    <tr>\n",
       "      <th>3</th>\n",
       "      <td>1</td>\n",
       "      <td>1</td>\n",
       "      <td>0</td>\n",
       "      <td>35.0</td>\n",
       "      <td>1</td>\n",
       "      <td>0</td>\n",
       "      <td>53.1000</td>\n",
       "      <td>S</td>\n",
       "    </tr>\n",
       "    <tr>\n",
       "      <th>4</th>\n",
       "      <td>0</td>\n",
       "      <td>3</td>\n",
       "      <td>1</td>\n",
       "      <td>35.0</td>\n",
       "      <td>0</td>\n",
       "      <td>0</td>\n",
       "      <td>8.0500</td>\n",
       "      <td>S</td>\n",
       "    </tr>\n",
       "  </tbody>\n",
       "</table>\n",
       "</div>"
      ],
      "text/plain": [
       "   Survived  Pclass  Sex   Age  SibSp  Parch     Fare Embarked\n",
       "0         0       3    1  22.0      1      0   7.2500        S\n",
       "1         1       1    0  38.0      1      0  71.2833        C\n",
       "2         1       3    0  26.0      0      0   7.9250        S\n",
       "3         1       1    0  35.0      1      0  53.1000        S\n",
       "4         0       3    1  35.0      0      0   8.0500        S"
      ]
     },
     "execution_count": 130,
     "metadata": {},
     "output_type": "execute_result"
    }
   ],
   "source": [
    "# 1. Converting Sex [Binary variable] to 0s and 1s\n",
    "\n",
    "def gender_code(x):\n",
    "    if x == 'male':\n",
    "        return 1\n",
    "    else:\n",
    "        return 0\n",
    "\n",
    "df_train.Sex = df_train.Sex.apply(lambda x: gender_code(x))\n",
    "\n",
    "# Verify\n",
    "df_train.head()"
   ]
  },
  {
   "cell_type": "code",
   "execution_count": 131,
   "id": "0ae12cf7",
   "metadata": {},
   "outputs": [
    {
     "data": {
      "text/html": [
       "<div>\n",
       "<style scoped>\n",
       "    .dataframe tbody tr th:only-of-type {\n",
       "        vertical-align: middle;\n",
       "    }\n",
       "\n",
       "    .dataframe tbody tr th {\n",
       "        vertical-align: top;\n",
       "    }\n",
       "\n",
       "    .dataframe thead th {\n",
       "        text-align: right;\n",
       "    }\n",
       "</style>\n",
       "<table border=\"1\" class=\"dataframe\">\n",
       "  <thead>\n",
       "    <tr style=\"text-align: right;\">\n",
       "      <th></th>\n",
       "      <th>Survived</th>\n",
       "      <th>Pclass</th>\n",
       "      <th>Sex</th>\n",
       "      <th>Age</th>\n",
       "      <th>SibSp</th>\n",
       "      <th>Parch</th>\n",
       "      <th>Fare</th>\n",
       "      <th>Embarked_Q</th>\n",
       "      <th>Embarked_S</th>\n",
       "    </tr>\n",
       "  </thead>\n",
       "  <tbody>\n",
       "    <tr>\n",
       "      <th>0</th>\n",
       "      <td>0</td>\n",
       "      <td>3</td>\n",
       "      <td>1</td>\n",
       "      <td>22.0</td>\n",
       "      <td>1</td>\n",
       "      <td>0</td>\n",
       "      <td>7.2500</td>\n",
       "      <td>0</td>\n",
       "      <td>1</td>\n",
       "    </tr>\n",
       "    <tr>\n",
       "      <th>1</th>\n",
       "      <td>1</td>\n",
       "      <td>1</td>\n",
       "      <td>0</td>\n",
       "      <td>38.0</td>\n",
       "      <td>1</td>\n",
       "      <td>0</td>\n",
       "      <td>71.2833</td>\n",
       "      <td>0</td>\n",
       "      <td>0</td>\n",
       "    </tr>\n",
       "    <tr>\n",
       "      <th>2</th>\n",
       "      <td>1</td>\n",
       "      <td>3</td>\n",
       "      <td>0</td>\n",
       "      <td>26.0</td>\n",
       "      <td>0</td>\n",
       "      <td>0</td>\n",
       "      <td>7.9250</td>\n",
       "      <td>0</td>\n",
       "      <td>1</td>\n",
       "    </tr>\n",
       "    <tr>\n",
       "      <th>3</th>\n",
       "      <td>1</td>\n",
       "      <td>1</td>\n",
       "      <td>0</td>\n",
       "      <td>35.0</td>\n",
       "      <td>1</td>\n",
       "      <td>0</td>\n",
       "      <td>53.1000</td>\n",
       "      <td>0</td>\n",
       "      <td>1</td>\n",
       "    </tr>\n",
       "    <tr>\n",
       "      <th>4</th>\n",
       "      <td>0</td>\n",
       "      <td>3</td>\n",
       "      <td>1</td>\n",
       "      <td>35.0</td>\n",
       "      <td>0</td>\n",
       "      <td>0</td>\n",
       "      <td>8.0500</td>\n",
       "      <td>0</td>\n",
       "      <td>1</td>\n",
       "    </tr>\n",
       "  </tbody>\n",
       "</table>\n",
       "</div>"
      ],
      "text/plain": [
       "   Survived  Pclass  Sex   Age  SibSp  Parch     Fare  Embarked_Q  Embarked_S\n",
       "0         0       3    1  22.0      1      0   7.2500           0           1\n",
       "1         1       1    0  38.0      1      0  71.2833           0           0\n",
       "2         1       3    0  26.0      0      0   7.9250           0           1\n",
       "3         1       1    0  35.0      1      0  53.1000           0           1\n",
       "4         0       3    1  35.0      0      0   8.0500           0           1"
      ]
     },
     "execution_count": 131,
     "metadata": {},
     "output_type": "execute_result"
    }
   ],
   "source": [
    "# Let us encode the Embarked port based on the binary coding\n",
    "\n",
    "#function to convert to 0s and 1s\n",
    "def embarked_code(x):\n",
    "    return x.map({True : 1 , False : 0})\n",
    "    \n",
    "# Saving the result in a separate variable\n",
    "embarked_coded = pd.get_dummies(df_train.Embarked , drop_first = True , prefix = 'Embarked').apply(embarked_code)\n",
    "\n",
    "# Merging to the actual df\n",
    "df_train = pd.concat([df_train , embarked_coded] , axis = 1)\n",
    "\n",
    "# Dropping the original Embarked column\n",
    "df_train.drop('Embarked' , inplace = True , axis = 1)\n",
    "\n",
    "# Verify\n",
    "df_train.head()"
   ]
  },
  {
   "cell_type": "code",
   "execution_count": 132,
   "id": "f076d913",
   "metadata": {},
   "outputs": [
    {
     "data": {
      "text/html": [
       "<div>\n",
       "<style scoped>\n",
       "    .dataframe tbody tr th:only-of-type {\n",
       "        vertical-align: middle;\n",
       "    }\n",
       "\n",
       "    .dataframe tbody tr th {\n",
       "        vertical-align: top;\n",
       "    }\n",
       "\n",
       "    .dataframe thead th {\n",
       "        text-align: right;\n",
       "    }\n",
       "</style>\n",
       "<table border=\"1\" class=\"dataframe\">\n",
       "  <thead>\n",
       "    <tr style=\"text-align: right;\">\n",
       "      <th></th>\n",
       "      <th>Survived</th>\n",
       "      <th>Pclass</th>\n",
       "      <th>Sex</th>\n",
       "      <th>Age</th>\n",
       "      <th>SibSp</th>\n",
       "      <th>Parch</th>\n",
       "      <th>Fare</th>\n",
       "      <th>Embarked_Q</th>\n",
       "      <th>Embarked_S</th>\n",
       "    </tr>\n",
       "  </thead>\n",
       "  <tbody>\n",
       "    <tr>\n",
       "      <th>Survived</th>\n",
       "      <td>1.000000</td>\n",
       "      <td>-0.338481</td>\n",
       "      <td>-0.543351</td>\n",
       "      <td>-0.076970</td>\n",
       "      <td>-0.035322</td>\n",
       "      <td>0.081629</td>\n",
       "      <td>0.257307</td>\n",
       "      <td>0.003650</td>\n",
       "      <td>-0.149683</td>\n",
       "    </tr>\n",
       "    <tr>\n",
       "      <th>Pclass</th>\n",
       "      <td>-0.338481</td>\n",
       "      <td>1.000000</td>\n",
       "      <td>0.131900</td>\n",
       "      <td>-0.403472</td>\n",
       "      <td>0.083081</td>\n",
       "      <td>0.018443</td>\n",
       "      <td>-0.549500</td>\n",
       "      <td>0.221009</td>\n",
       "      <td>0.074053</td>\n",
       "    </tr>\n",
       "    <tr>\n",
       "      <th>Sex</th>\n",
       "      <td>-0.543351</td>\n",
       "      <td>0.131900</td>\n",
       "      <td>1.000000</td>\n",
       "      <td>0.124888</td>\n",
       "      <td>-0.114631</td>\n",
       "      <td>-0.245489</td>\n",
       "      <td>-0.182333</td>\n",
       "      <td>-0.074115</td>\n",
       "      <td>0.119224</td>\n",
       "    </tr>\n",
       "    <tr>\n",
       "      <th>Age</th>\n",
       "      <td>-0.076970</td>\n",
       "      <td>-0.403472</td>\n",
       "      <td>0.124888</td>\n",
       "      <td>1.000000</td>\n",
       "      <td>-0.276189</td>\n",
       "      <td>-0.192607</td>\n",
       "      <td>0.114160</td>\n",
       "      <td>-0.103278</td>\n",
       "      <td>0.020147</td>\n",
       "    </tr>\n",
       "    <tr>\n",
       "      <th>SibSp</th>\n",
       "      <td>-0.035322</td>\n",
       "      <td>0.083081</td>\n",
       "      <td>-0.114631</td>\n",
       "      <td>-0.276189</td>\n",
       "      <td>1.000000</td>\n",
       "      <td>0.414838</td>\n",
       "      <td>0.159651</td>\n",
       "      <td>-0.026354</td>\n",
       "      <td>0.068734</td>\n",
       "    </tr>\n",
       "    <tr>\n",
       "      <th>Parch</th>\n",
       "      <td>0.081629</td>\n",
       "      <td>0.018443</td>\n",
       "      <td>-0.245489</td>\n",
       "      <td>-0.192607</td>\n",
       "      <td>0.414838</td>\n",
       "      <td>1.000000</td>\n",
       "      <td>0.216225</td>\n",
       "      <td>-0.081228</td>\n",
       "      <td>0.060814</td>\n",
       "    </tr>\n",
       "    <tr>\n",
       "      <th>Fare</th>\n",
       "      <td>0.257307</td>\n",
       "      <td>-0.549500</td>\n",
       "      <td>-0.182333</td>\n",
       "      <td>0.114160</td>\n",
       "      <td>0.159651</td>\n",
       "      <td>0.216225</td>\n",
       "      <td>1.000000</td>\n",
       "      <td>-0.117216</td>\n",
       "      <td>-0.162184</td>\n",
       "    </tr>\n",
       "    <tr>\n",
       "      <th>Embarked_Q</th>\n",
       "      <td>0.003650</td>\n",
       "      <td>0.221009</td>\n",
       "      <td>-0.074115</td>\n",
       "      <td>-0.103278</td>\n",
       "      <td>-0.026354</td>\n",
       "      <td>-0.081228</td>\n",
       "      <td>-0.117216</td>\n",
       "      <td>1.000000</td>\n",
       "      <td>-0.499421</td>\n",
       "    </tr>\n",
       "    <tr>\n",
       "      <th>Embarked_S</th>\n",
       "      <td>-0.149683</td>\n",
       "      <td>0.074053</td>\n",
       "      <td>0.119224</td>\n",
       "      <td>0.020147</td>\n",
       "      <td>0.068734</td>\n",
       "      <td>0.060814</td>\n",
       "      <td>-0.162184</td>\n",
       "      <td>-0.499421</td>\n",
       "      <td>1.000000</td>\n",
       "    </tr>\n",
       "  </tbody>\n",
       "</table>\n",
       "</div>"
      ],
      "text/plain": [
       "            Survived    Pclass       Sex       Age     SibSp     Parch  \\\n",
       "Survived    1.000000 -0.338481 -0.543351 -0.076970 -0.035322  0.081629   \n",
       "Pclass     -0.338481  1.000000  0.131900 -0.403472  0.083081  0.018443   \n",
       "Sex        -0.543351  0.131900  1.000000  0.124888 -0.114631 -0.245489   \n",
       "Age        -0.076970 -0.403472  0.124888  1.000000 -0.276189 -0.192607   \n",
       "SibSp      -0.035322  0.083081 -0.114631 -0.276189  1.000000  0.414838   \n",
       "Parch       0.081629  0.018443 -0.245489 -0.192607  0.414838  1.000000   \n",
       "Fare        0.257307 -0.549500 -0.182333  0.114160  0.159651  0.216225   \n",
       "Embarked_Q  0.003650  0.221009 -0.074115 -0.103278 -0.026354 -0.081228   \n",
       "Embarked_S -0.149683  0.074053  0.119224  0.020147  0.068734  0.060814   \n",
       "\n",
       "                Fare  Embarked_Q  Embarked_S  \n",
       "Survived    0.257307    0.003650   -0.149683  \n",
       "Pclass     -0.549500    0.221009    0.074053  \n",
       "Sex        -0.182333   -0.074115    0.119224  \n",
       "Age         0.114160   -0.103278    0.020147  \n",
       "SibSp       0.159651   -0.026354    0.068734  \n",
       "Parch       0.216225   -0.081228    0.060814  \n",
       "Fare        1.000000   -0.117216   -0.162184  \n",
       "Embarked_Q -0.117216    1.000000   -0.499421  \n",
       "Embarked_S -0.162184   -0.499421    1.000000  "
      ]
     },
     "execution_count": 132,
     "metadata": {},
     "output_type": "execute_result"
    }
   ],
   "source": [
    "# Viewing the correlation among variables\n",
    "df_train.corr()"
   ]
  },
  {
   "cell_type": "code",
   "execution_count": 133,
   "id": "be55982f",
   "metadata": {},
   "outputs": [
    {
     "data": {
      "image/png": "[encoded data removed]",
      "text/plain": [
       "<Figure size 640x480 with 2 Axes>"
      ]
     },
     "metadata": {},
     "output_type": "display_data"
    }
   ],
   "source": [
    "# Visualizing the correlation among variables\n",
    "sns.heatmap(df_train.corr() , annot = True , cmap = 'viridis_r' , annot_kws={'fontsize': 10})\n",
    "plt.show()"
   ]
  },
  {
   "cell_type": "markdown",
   "id": "0420d9cc",
   "metadata": {},
   "source": [
    "In the heatmap above, we observe that the target variable \"Survived\" shows moderate correlations primarily with \"Sex\" and \"Pclass\". Apart from these associations, there are no notably strong correlations among the variables. The highest correlation observed is -0.54."
   ]
  },
  {
   "cell_type": "code",
   "execution_count": 134,
   "id": "9eac9a65",
   "metadata": {},
   "outputs": [
    {
     "data": {
      "image/png": "[encoded data removed]",
      "text/plain": [
       "<Figure size 640x480 with 1 Axes>"
      ]
     },
     "metadata": {},
     "output_type": "display_data"
    }
   ],
   "source": [
    "# Viewing all the data on same chart\n",
    "sns.boxplot(df_train[['Survived', 'Pclass', 'Sex', 'Age', 'SibSp', 'Parch', 'Embarked_Q', 'Embarked_S' ]])\n",
    "plt.xticks(rotation = 45)\n",
    "plt.show()"
   ]
  },
  {
   "cell_type": "markdown",
   "id": "fcc8e3f7",
   "metadata": {},
   "source": [
    "We could notice that the data are distributed across different scales, which could influence the accuracy of our predictions. Therefore, it is essential to scale the data appropriately. Let us split the train and test data before scaling"
   ]
  },
  {
   "cell_type": "markdown",
   "id": "061bed49-d87f-4494-a485-0b1ca744449f",
   "metadata": {},
   "source": [
    "#### 6.2 Splitting train and test data set"
   ]
  },
  {
   "cell_type": "code",
   "execution_count": 135,
   "id": "e4d6ea49-761b-490e-86c9-c6f0e3a5bf02",
   "metadata": {},
   "outputs": [],
   "source": [
    "# Importing necessary libraries\n",
    "from sklearn.model_selection import train_test_split"
   ]
  },
  {
   "cell_type": "code",
   "execution_count": 136,
   "id": "4e52081f-fe4c-4358-beae-fa8d4a70c453",
   "metadata": {},
   "outputs": [
    {
     "name": "stdout",
     "output_type": "stream",
     "text": [
      "Train shape :  (712, 9)\n",
      "Test shape :  (179, 9)\n"
     ]
    }
   ],
   "source": [
    "# Splitting the data sets into test and train\n",
    "df_train , df_test = train_test_split(df_train, train_size = 0.80 , random_state = 100)\n",
    "\n",
    "# Verify\n",
    "print('Train shape : ' , df_train.shape)\n",
    "print('Test shape : ' , df_test.shape)"
   ]
  },
  {
   "cell_type": "markdown",
   "id": "ae6069f6",
   "metadata": {},
   "source": [
    "#### 6.3 Resampling Class Imbalance"
   ]
  },
  {
   "cell_type": "code",
   "execution_count": 137,
   "id": "9d6c034a",
   "metadata": {},
   "outputs": [
    {
     "data": {
      "text/plain": [
       "Survived\n",
       "0           445\n",
       "1           267\n",
       "Name: count, dtype: int64"
      ]
     },
     "execution_count": 137,
     "metadata": {},
     "output_type": "execute_result"
    }
   ],
   "source": [
    "# Checking the imbalance\n",
    "df_train[['Survived']].value_counts()"
   ]
  },
  {
   "cell_type": "code",
   "execution_count": 138,
   "id": "58879cd9",
   "metadata": {},
   "outputs": [
    {
     "data": {
      "text/plain": [
       "Survived    37.5\n",
       "dtype: float64"
      ]
     },
     "execution_count": 138,
     "metadata": {},
     "output_type": "execute_result"
    }
   ],
   "source": [
    "# % of Class Imbalance\n",
    "round((df_train[['Survived']].sum()*100)/df_train[['Survived']].count()[0] , 2)"
   ]
  },
  {
   "cell_type": "markdown",
   "id": "35f0c8d8",
   "metadata": {},
   "source": [
    "From the above, it's evident that only 38% of the Titanic passengers survived, indicating a class imbalance. This must be addressed. Let's use the SMOTE algorithm to tackle this issue."
   ]
  },
  {
   "cell_type": "code",
   "execution_count": 139,
   "id": "daf884c5",
   "metadata": {
    "scrolled": true
   },
   "outputs": [],
   "source": [
    "# Importing necessary libraries\n",
    "from imblearn.over_sampling import SMOTE\n",
    "from collections import Counter"
   ]
  },
  {
   "cell_type": "code",
   "execution_count": 140,
   "id": "aeea38f9-e573-4e4f-bde4-bae11e5ac737",
   "metadata": {},
   "outputs": [],
   "source": [
    "# Splitting the data set\n",
    "df_train_X = df_train[['Pclass', 'Sex', 'Age', 'SibSp', 'Parch', 'Fare','Embarked_Q', 'Embarked_S']]\n",
    "df_train_y = df_train['Survived']"
   ]
  },
  {
   "cell_type": "code",
   "execution_count": 141,
   "id": "d89e6c38",
   "metadata": {},
   "outputs": [
    {
     "name": "stdout",
     "output_type": "stream",
     "text": [
      "Before : Counter({0: 445, 1: 267})\n"
     ]
    }
   ],
   "source": [
    "# Viewing Imbalance before Resampling\n",
    "counter = Counter(df_train_y)\n",
    "print( 'Before :' , counter)"
   ]
  },
  {
   "cell_type": "code",
   "execution_count": 142,
   "id": "49baf82e-420b-4fdf-a8dd-195daf87cefd",
   "metadata": {},
   "outputs": [],
   "source": [
    "# Oversampling the train dataset using SMOTE\n",
    "smt = SMOTE()\n",
    "\n",
    "# Fitting the data\n",
    "df_train_X_smt ,df_train_y_smt   = smt.fit_resample(df_train_X , df_train_y)"
   ]
  },
  {
   "cell_type": "code",
   "execution_count": 143,
   "id": "4b1fec4f-2ad7-4ea6-aa33-2e90691e8537",
   "metadata": {},
   "outputs": [
    {
     "name": "stdout",
     "output_type": "stream",
     "text": [
      "After : Counter({0: 445, 1: 445})\n"
     ]
    }
   ],
   "source": [
    "# Viewing Imbalance after Resampling\n",
    "counter = Counter(df_train_y_smt)\n",
    "print( 'After :' , counter)"
   ]
  },
  {
   "cell_type": "markdown",
   "id": "92d616d2-1b31-4573-b054-4e2cad987c8b",
   "metadata": {},
   "source": [
    "Now that both classes are balanced, let's proceed with scaling."
   ]
  },
  {
   "cell_type": "markdown",
   "id": "5ef60c20",
   "metadata": {},
   "source": [
    "#### 6.4 Feature Scaling"
   ]
  },
  {
   "cell_type": "code",
   "execution_count": 144,
   "id": "4131e409",
   "metadata": {},
   "outputs": [],
   "source": [
    "# Importing necesary library for scaling\n",
    "from sklearn.preprocessing import StandardScaler"
   ]
  },
  {
   "cell_type": "code",
   "execution_count": 145,
   "id": "aba5691d",
   "metadata": {},
   "outputs": [],
   "source": [
    "# Grouping all the variables except for the binary ones\n",
    "scale_var = ['Age','Fare','SibSp', 'Parch', 'Pclass']"
   ]
  },
  {
   "cell_type": "code",
   "execution_count": 146,
   "id": "e170ea51",
   "metadata": {},
   "outputs": [
    {
     "data": {
      "text/html": [
       "<div>\n",
       "<style scoped>\n",
       "    .dataframe tbody tr th:only-of-type {\n",
       "        vertical-align: middle;\n",
       "    }\n",
       "\n",
       "    .dataframe tbody tr th {\n",
       "        vertical-align: top;\n",
       "    }\n",
       "\n",
       "    .dataframe thead th {\n",
       "        text-align: right;\n",
       "    }\n",
       "</style>\n",
       "<table border=\"1\" class=\"dataframe\">\n",
       "  <thead>\n",
       "    <tr style=\"text-align: right;\">\n",
       "      <th></th>\n",
       "      <th>Pclass</th>\n",
       "      <th>Sex</th>\n",
       "      <th>Age</th>\n",
       "      <th>SibSp</th>\n",
       "      <th>Parch</th>\n",
       "      <th>Fare</th>\n",
       "      <th>Embarked_Q</th>\n",
       "      <th>Embarked_S</th>\n",
       "    </tr>\n",
       "  </thead>\n",
       "  <tbody>\n",
       "    <tr>\n",
       "      <th>count</th>\n",
       "      <td>8.900000e+02</td>\n",
       "      <td>890.000000</td>\n",
       "      <td>8.900000e+02</td>\n",
       "      <td>8.900000e+02</td>\n",
       "      <td>8.900000e+02</td>\n",
       "      <td>8.900000e+02</td>\n",
       "      <td>890.000000</td>\n",
       "      <td>890.000000</td>\n",
       "    </tr>\n",
       "    <tr>\n",
       "      <th>mean</th>\n",
       "      <td>-7.185264e-17</td>\n",
       "      <td>0.552809</td>\n",
       "      <td>4.790176e-17</td>\n",
       "      <td>-1.297339e-17</td>\n",
       "      <td>-4.390994e-17</td>\n",
       "      <td>-5.189357e-17</td>\n",
       "      <td>0.080899</td>\n",
       "      <td>0.680899</td>\n",
       "    </tr>\n",
       "    <tr>\n",
       "      <th>std</th>\n",
       "      <td>1.000562e+00</td>\n",
       "      <td>0.497483</td>\n",
       "      <td>1.000562e+00</td>\n",
       "      <td>1.000562e+00</td>\n",
       "      <td>1.000562e+00</td>\n",
       "      <td>1.000562e+00</td>\n",
       "      <td>0.272833</td>\n",
       "      <td>0.466390</td>\n",
       "    </tr>\n",
       "    <tr>\n",
       "      <th>min</th>\n",
       "      <td>-1.400783e+00</td>\n",
       "      <td>0.000000</td>\n",
       "      <td>-2.106638e+00</td>\n",
       "      <td>-4.788261e-01</td>\n",
       "      <td>-4.688773e-01</td>\n",
       "      <td>-6.537323e-01</td>\n",
       "      <td>0.000000</td>\n",
       "      <td>0.000000</td>\n",
       "    </tr>\n",
       "    <tr>\n",
       "      <th>25%</th>\n",
       "      <td>-1.400783e+00</td>\n",
       "      <td>0.000000</td>\n",
       "      <td>-6.833036e-01</td>\n",
       "      <td>-4.788261e-01</td>\n",
       "      <td>-4.688773e-01</td>\n",
       "      <td>-5.075043e-01</td>\n",
       "      <td>0.000000</td>\n",
       "      <td>0.000000</td>\n",
       "    </tr>\n",
       "    <tr>\n",
       "      <th>50%</th>\n",
       "      <td>-2.356457e-01</td>\n",
       "      <td>1.000000</td>\n",
       "      <td>-4.941816e-02</td>\n",
       "      <td>-4.788261e-01</td>\n",
       "      <td>-4.688773e-01</td>\n",
       "      <td>-3.657006e-01</td>\n",
       "      <td>0.000000</td>\n",
       "      <td>1.000000</td>\n",
       "    </tr>\n",
       "    <tr>\n",
       "      <th>75%</th>\n",
       "      <td>9.294914e-01</td>\n",
       "      <td>1.000000</td>\n",
       "      <td>6.251755e-01</td>\n",
       "      <td>4.919148e-01</td>\n",
       "      <td>-4.688773e-01</td>\n",
       "      <td>-2.931176e-02</td>\n",
       "      <td>0.000000</td>\n",
       "      <td>1.000000</td>\n",
       "    </tr>\n",
       "    <tr>\n",
       "      <th>max</th>\n",
       "      <td>9.294914e-01</td>\n",
       "      <td>1.000000</td>\n",
       "      <td>3.242134e+00</td>\n",
       "      <td>7.287101e+00</td>\n",
       "      <td>6.240139e+00</td>\n",
       "      <td>8.652707e+00</td>\n",
       "      <td>1.000000</td>\n",
       "      <td>1.000000</td>\n",
       "    </tr>\n",
       "  </tbody>\n",
       "</table>\n",
       "</div>"
      ],
      "text/plain": [
       "             Pclass         Sex           Age         SibSp         Parch  \\\n",
       "count  8.900000e+02  890.000000  8.900000e+02  8.900000e+02  8.900000e+02   \n",
       "mean  -7.185264e-17    0.552809  4.790176e-17 -1.297339e-17 -4.390994e-17   \n",
       "std    1.000562e+00    0.497483  1.000562e+00  1.000562e+00  1.000562e+00   \n",
       "min   -1.400783e+00    0.000000 -2.106638e+00 -4.788261e-01 -4.688773e-01   \n",
       "25%   -1.400783e+00    0.000000 -6.833036e-01 -4.788261e-01 -4.688773e-01   \n",
       "50%   -2.356457e-01    1.000000 -4.941816e-02 -4.788261e-01 -4.688773e-01   \n",
       "75%    9.294914e-01    1.000000  6.251755e-01  4.919148e-01 -4.688773e-01   \n",
       "max    9.294914e-01    1.000000  3.242134e+00  7.287101e+00  6.240139e+00   \n",
       "\n",
       "               Fare  Embarked_Q  Embarked_S  \n",
       "count  8.900000e+02  890.000000  890.000000  \n",
       "mean  -5.189357e-17    0.080899    0.680899  \n",
       "std    1.000562e+00    0.272833    0.466390  \n",
       "min   -6.537323e-01    0.000000    0.000000  \n",
       "25%   -5.075043e-01    0.000000    0.000000  \n",
       "50%   -3.657006e-01    0.000000    1.000000  \n",
       "75%   -2.931176e-02    0.000000    1.000000  \n",
       "max    8.652707e+00    1.000000    1.000000  "
      ]
     },
     "execution_count": 146,
     "metadata": {},
     "output_type": "execute_result"
    }
   ],
   "source": [
    "# Using the Standardisation method on the variables\n",
    "scaler = StandardScaler()\n",
    "\n",
    "df_train_X_smt[scale_var] = scaler.fit_transform(df_train_X_smt[scale_var])\n",
    "\n",
    "# Verify\n",
    "df_train_X_smt.describe()"
   ]
  },
  {
   "cell_type": "markdown",
   "id": "0bf4cb55-8cb9-413a-9d85-7b2641338d14",
   "metadata": {},
   "source": [
    "## 7. Training the model"
   ]
  },
  {
   "cell_type": "markdown",
   "id": "70b91f7f-1cb6-40c6-8dea-31595cb4b03a",
   "metadata": {},
   "source": [
    "Let's create the model using `statsmodels` with all the variables first to examine the statistical summary."
   ]
  },
  {
   "cell_type": "markdown",
   "id": "d712f932-80e8-42d4-ade5-a9f47c045f34",
   "metadata": {},
   "source": [
    "#### 7.1 Model Creation"
   ]
  },
  {
   "cell_type": "code",
   "execution_count": 147,
   "id": "a6058d57",
   "metadata": {},
   "outputs": [],
   "source": [
    "# Importing necessary Libraries\n",
    "import statsmodels.api as sm"
   ]
  },
  {
   "cell_type": "code",
   "execution_count": 148,
   "id": "681d9015",
   "metadata": {
    "scrolled": true
   },
   "outputs": [
    {
     "data": {
      "text/html": [
       "<div>\n",
       "<style scoped>\n",
       "    .dataframe tbody tr th:only-of-type {\n",
       "        vertical-align: middle;\n",
       "    }\n",
       "\n",
       "    .dataframe tbody tr th {\n",
       "        vertical-align: top;\n",
       "    }\n",
       "\n",
       "    .dataframe thead th {\n",
       "        text-align: right;\n",
       "    }\n",
       "</style>\n",
       "<table border=\"1\" class=\"dataframe\">\n",
       "  <thead>\n",
       "    <tr style=\"text-align: right;\">\n",
       "      <th></th>\n",
       "      <th>const</th>\n",
       "      <th>Pclass</th>\n",
       "      <th>Sex</th>\n",
       "      <th>Age</th>\n",
       "      <th>SibSp</th>\n",
       "      <th>Parch</th>\n",
       "      <th>Fare</th>\n",
       "      <th>Embarked_Q</th>\n",
       "      <th>Embarked_S</th>\n",
       "    </tr>\n",
       "  </thead>\n",
       "  <tbody>\n",
       "    <tr>\n",
       "      <th>0</th>\n",
       "      <td>1.0</td>\n",
       "      <td>0.929491</td>\n",
       "      <td>1</td>\n",
       "      <td>-0.610610</td>\n",
       "      <td>-0.478826</td>\n",
       "      <td>-0.468877</td>\n",
       "      <td>-0.512500</td>\n",
       "      <td>0</td>\n",
       "      <td>1</td>\n",
       "    </tr>\n",
       "    <tr>\n",
       "      <th>1</th>\n",
       "      <td>1.0</td>\n",
       "      <td>0.929491</td>\n",
       "      <td>1</td>\n",
       "      <td>-1.482930</td>\n",
       "      <td>4.374878</td>\n",
       "      <td>2.214729</td>\n",
       "      <td>0.198204</td>\n",
       "      <td>0</td>\n",
       "      <td>1</td>\n",
       "    </tr>\n",
       "    <tr>\n",
       "      <th>2</th>\n",
       "      <td>1.0</td>\n",
       "      <td>0.929491</td>\n",
       "      <td>1</td>\n",
       "      <td>-0.029064</td>\n",
       "      <td>-0.478826</td>\n",
       "      <td>-0.468877</td>\n",
       "      <td>-0.512954</td>\n",
       "      <td>1</td>\n",
       "      <td>0</td>\n",
       "    </tr>\n",
       "    <tr>\n",
       "      <th>3</th>\n",
       "      <td>1.0</td>\n",
       "      <td>-1.400783</td>\n",
       "      <td>0</td>\n",
       "      <td>0.770562</td>\n",
       "      <td>-0.478826</td>\n",
       "      <td>-0.468877</td>\n",
       "      <td>2.133908</td>\n",
       "      <td>0</td>\n",
       "      <td>1</td>\n",
       "    </tr>\n",
       "    <tr>\n",
       "      <th>4</th>\n",
       "      <td>1.0</td>\n",
       "      <td>-0.235646</td>\n",
       "      <td>1</td>\n",
       "      <td>0.244990</td>\n",
       "      <td>-0.478826</td>\n",
       "      <td>-0.468877</td>\n",
       "      <td>-0.401921</td>\n",
       "      <td>0</td>\n",
       "      <td>0</td>\n",
       "    </tr>\n",
       "  </tbody>\n",
       "</table>\n",
       "</div>"
      ],
      "text/plain": [
       "   const    Pclass  Sex       Age     SibSp     Parch      Fare  Embarked_Q  \\\n",
       "0    1.0  0.929491    1 -0.610610 -0.478826 -0.468877 -0.512500           0   \n",
       "1    1.0  0.929491    1 -1.482930  4.374878  2.214729  0.198204           0   \n",
       "2    1.0  0.929491    1 -0.029064 -0.478826 -0.468877 -0.512954           1   \n",
       "3    1.0 -1.400783    0  0.770562 -0.478826 -0.468877  2.133908           0   \n",
       "4    1.0 -0.235646    1  0.244990 -0.478826 -0.468877 -0.401921           0   \n",
       "\n",
       "   Embarked_S  \n",
       "0           1  \n",
       "1           1  \n",
       "2           0  \n",
       "3           1  \n",
       "4           0  "
      ]
     },
     "execution_count": 148,
     "metadata": {},
     "output_type": "execute_result"
    }
   ],
   "source": [
    "# Adding constant to the dataset\n",
    "X_train_sm = sm.add_constant(df_train_X_smt)\n",
    "y_train = df_train_y_smt\n",
    "\n",
    "# Verify\n",
    "X_train_sm.head()"
   ]
  },
  {
   "cell_type": "code",
   "execution_count": 149,
   "id": "51218cba",
   "metadata": {},
   "outputs": [
    {
     "data": {
      "text/html": [
       "<table class=\"simpletable\">\n",
       "<caption>Generalized Linear Model Regression Results</caption>\n",
       "<tr>\n",
       "  <th>Dep. Variable:</th>       <td>Survived</td>     <th>  No. Observations:  </th>  <td>   890</td> \n",
       "</tr>\n",
       "<tr>\n",
       "  <th>Model:</th>                  <td>GLM</td>       <th>  Df Residuals:      </th>  <td>   881</td> \n",
       "</tr>\n",
       "<tr>\n",
       "  <th>Model Family:</th>        <td>Binomial</td>     <th>  Df Model:          </th>  <td>     8</td> \n",
       "</tr>\n",
       "<tr>\n",
       "  <th>Link Function:</th>         <td>Logit</td>      <th>  Scale:             </th> <td>  1.0000</td>\n",
       "</tr>\n",
       "<tr>\n",
       "  <th>Method:</th>                <td>IRLS</td>       <th>  Log-Likelihood:    </th> <td> -361.86</td>\n",
       "</tr>\n",
       "<tr>\n",
       "  <th>Date:</th>            <td>Sun, 14 Jul 2024</td> <th>  Deviance:          </th> <td>  723.71</td>\n",
       "</tr>\n",
       "<tr>\n",
       "  <th>Time:</th>                <td>22:21:06</td>     <th>  Pearson chi2:      </th>  <td>  877.</td> \n",
       "</tr>\n",
       "<tr>\n",
       "  <th>No. Iterations:</th>          <td>6</td>        <th>  Pseudo R-squ. (CS):</th>  <td>0.4362</td> \n",
       "</tr>\n",
       "<tr>\n",
       "  <th>Covariance Type:</th>     <td>nonrobust</td>    <th>                     </th>     <td> </td>   \n",
       "</tr>\n",
       "</table>\n",
       "<table class=\"simpletable\">\n",
       "<tr>\n",
       "       <td></td>         <th>coef</th>     <th>std err</th>      <th>z</th>      <th>P>|z|</th>  <th>[0.025</th>    <th>0.975]</th>  \n",
       "</tr>\n",
       "<tr>\n",
       "  <th>const</th>      <td>    2.2387</td> <td>    0.250</td> <td>    8.972</td> <td> 0.000</td> <td>    1.750</td> <td>    2.728</td>\n",
       "</tr>\n",
       "<tr>\n",
       "  <th>Pclass</th>     <td>   -1.1129</td> <td>    0.132</td> <td>   -8.419</td> <td> 0.000</td> <td>   -1.372</td> <td>   -0.854</td>\n",
       "</tr>\n",
       "<tr>\n",
       "  <th>Sex</th>        <td>   -3.0873</td> <td>    0.214</td> <td>  -14.412</td> <td> 0.000</td> <td>   -3.507</td> <td>   -2.667</td>\n",
       "</tr>\n",
       "<tr>\n",
       "  <th>Age</th>        <td>   -0.7555</td> <td>    0.116</td> <td>   -6.535</td> <td> 0.000</td> <td>   -0.982</td> <td>   -0.529</td>\n",
       "</tr>\n",
       "<tr>\n",
       "  <th>SibSp</th>      <td>   -0.3868</td> <td>    0.116</td> <td>   -3.322</td> <td> 0.001</td> <td>   -0.615</td> <td>   -0.159</td>\n",
       "</tr>\n",
       "<tr>\n",
       "  <th>Parch</th>      <td>   -0.1822</td> <td>    0.106</td> <td>   -1.723</td> <td> 0.085</td> <td>   -0.389</td> <td>    0.025</td>\n",
       "</tr>\n",
       "<tr>\n",
       "  <th>Fare</th>       <td>    0.0378</td> <td>    0.133</td> <td>    0.284</td> <td> 0.776</td> <td>   -0.223</td> <td>    0.299</td>\n",
       "</tr>\n",
       "<tr>\n",
       "  <th>Embarked_Q</th> <td>   -0.6244</td> <td>    0.416</td> <td>   -1.501</td> <td> 0.133</td> <td>   -1.440</td> <td>    0.191</td>\n",
       "</tr>\n",
       "<tr>\n",
       "  <th>Embarked_S</th> <td>   -0.5549</td> <td>    0.241</td> <td>   -2.302</td> <td> 0.021</td> <td>   -1.027</td> <td>   -0.082</td>\n",
       "</tr>\n",
       "</table>"
      ],
      "text/latex": [
       "\\begin{center}\n",
       "\\begin{tabular}{lclc}\n",
       "\\toprule\n",
       "\\textbf{Dep. Variable:}   &     Survived     & \\textbf{  No. Observations:  } &      890    \\\\\n",
       "\\textbf{Model:}           &       GLM        & \\textbf{  Df Residuals:      } &      881    \\\\\n",
       "\\textbf{Model Family:}    &     Binomial     & \\textbf{  Df Model:          } &        8    \\\\\n",
       "\\textbf{Link Function:}   &      Logit       & \\textbf{  Scale:             } &    1.0000   \\\\\n",
       "\\textbf{Method:}          &       IRLS       & \\textbf{  Log-Likelihood:    } &   -361.86   \\\\\n",
       "\\textbf{Date:}            & Sun, 14 Jul 2024 & \\textbf{  Deviance:          } &    723.71   \\\\\n",
       "\\textbf{Time:}            &     22:21:06     & \\textbf{  Pearson chi2:      } &     877.    \\\\\n",
       "\\textbf{No. Iterations:}  &        6         & \\textbf{  Pseudo R-squ. (CS):} &   0.4362    \\\\\n",
       "\\textbf{Covariance Type:} &    nonrobust     & \\textbf{                     } &             \\\\\n",
       "\\bottomrule\n",
       "\\end{tabular}\n",
       "\\begin{tabular}{lcccccc}\n",
       "                     & \\textbf{coef} & \\textbf{std err} & \\textbf{z} & \\textbf{P$> |$z$|$} & \\textbf{[0.025} & \\textbf{0.975]}  \\\\\n",
       "\\midrule\n",
       "\\textbf{const}       &       2.2387  &        0.250     &     8.972  &         0.000        &        1.750    &        2.728     \\\\\n",
       "\\textbf{Pclass}      &      -1.1129  &        0.132     &    -8.419  &         0.000        &       -1.372    &       -0.854     \\\\\n",
       "\\textbf{Sex}         &      -3.0873  &        0.214     &   -14.412  &         0.000        &       -3.507    &       -2.667     \\\\\n",
       "\\textbf{Age}         &      -0.7555  &        0.116     &    -6.535  &         0.000        &       -0.982    &       -0.529     \\\\\n",
       "\\textbf{SibSp}       &      -0.3868  &        0.116     &    -3.322  &         0.001        &       -0.615    &       -0.159     \\\\\n",
       "\\textbf{Parch}       &      -0.1822  &        0.106     &    -1.723  &         0.085        &       -0.389    &        0.025     \\\\\n",
       "\\textbf{Fare}        &       0.0378  &        0.133     &     0.284  &         0.776        &       -0.223    &        0.299     \\\\\n",
       "\\textbf{Embarked\\_Q} &      -0.6244  &        0.416     &    -1.501  &         0.133        &       -1.440    &        0.191     \\\\\n",
       "\\textbf{Embarked\\_S} &      -0.5549  &        0.241     &    -2.302  &         0.021        &       -1.027    &       -0.082     \\\\\n",
       "\\bottomrule\n",
       "\\end{tabular}\n",
       "%\\caption{Generalized Linear Model Regression Results}\n",
       "\\end{center}"
      ],
      "text/plain": [
       "<class 'statsmodels.iolib.summary.Summary'>\n",
       "\"\"\"\n",
       "                 Generalized Linear Model Regression Results                  \n",
       "==============================================================================\n",
       "Dep. Variable:               Survived   No. Observations:                  890\n",
       "Model:                            GLM   Df Residuals:                      881\n",
       "Model Family:                Binomial   Df Model:                            8\n",
       "Link Function:                  Logit   Scale:                          1.0000\n",
       "Method:                          IRLS   Log-Likelihood:                -361.86\n",
       "Date:                Sun, 14 Jul 2024   Deviance:                       723.71\n",
       "Time:                        22:21:06   Pearson chi2:                     877.\n",
       "No. Iterations:                     6   Pseudo R-squ. (CS):             0.4362\n",
       "Covariance Type:            nonrobust                                         \n",
       "==============================================================================\n",
       "                 coef    std err          z      P>|z|      [0.025      0.975]\n",
       "------------------------------------------------------------------------------\n",
       "const          2.2387      0.250      8.972      0.000       1.750       2.728\n",
       "Pclass        -1.1129      0.132     -8.419      0.000      -1.372      -0.854\n",
       "Sex           -3.0873      0.214    -14.412      0.000      -3.507      -2.667\n",
       "Age           -0.7555      0.116     -6.535      0.000      -0.982      -0.529\n",
       "SibSp         -0.3868      0.116     -3.322      0.001      -0.615      -0.159\n",
       "Parch         -0.1822      0.106     -1.723      0.085      -0.389       0.025\n",
       "Fare           0.0378      0.133      0.284      0.776      -0.223       0.299\n",
       "Embarked_Q    -0.6244      0.416     -1.501      0.133      -1.440       0.191\n",
       "Embarked_S    -0.5549      0.241     -2.302      0.021      -1.027      -0.082\n",
       "==============================================================================\n",
       "\"\"\""
      ]
     },
     "execution_count": 149,
     "metadata": {},
     "output_type": "execute_result"
    }
   ],
   "source": [
    "# Model Creation 1\n",
    "lm = sm.GLM(y_train , X_train_sm , family = sm.families.Binomial())\n",
    "\n",
    "# Viewing Summary\n",
    "model1 = lm.fit()\n",
    "model1.summary()"
   ]
  },
  {
   "cell_type": "markdown",
   "id": "9092e37b-90de-4b5e-9fbe-5496a68754c8",
   "metadata": {},
   "source": [
    "Embarked_Q and Fare have higher p-values, indicating these variables are insignificant for the model. Next, let's examine the Variance Inflation Factor (VIF)."
   ]
  },
  {
   "cell_type": "markdown",
   "id": "1075ff1c-0290-4c41-9410-5a29fecc947f",
   "metadata": {},
   "source": [
    "#### 7.2 VIF"
   ]
  },
  {
   "cell_type": "code",
   "execution_count": 150,
   "id": "4c4eea68-234b-40fe-9cd2-adbdb185e4d6",
   "metadata": {},
   "outputs": [],
   "source": [
    "# Importing necesary libraries\n",
    "from statsmodels.stats.outliers_influence import variance_inflation_factor"
   ]
  },
  {
   "cell_type": "code",
   "execution_count": 151,
   "id": "07cfe197-5ebf-4af7-9f9d-957d6320a7bc",
   "metadata": {},
   "outputs": [
    {
     "data": {
      "text/html": [
       "<div>\n",
       "<style scoped>\n",
       "    .dataframe tbody tr th:only-of-type {\n",
       "        vertical-align: middle;\n",
       "    }\n",
       "\n",
       "    .dataframe tbody tr th {\n",
       "        vertical-align: top;\n",
       "    }\n",
       "\n",
       "    .dataframe thead th {\n",
       "        text-align: right;\n",
       "    }\n",
       "</style>\n",
       "<table border=\"1\" class=\"dataframe\">\n",
       "  <thead>\n",
       "    <tr style=\"text-align: right;\">\n",
       "      <th></th>\n",
       "      <th>Features</th>\n",
       "      <th>VIF</th>\n",
       "    </tr>\n",
       "  </thead>\n",
       "  <tbody>\n",
       "    <tr>\n",
       "      <th>1</th>\n",
       "      <td>Sex</td>\n",
       "      <td>2.12</td>\n",
       "    </tr>\n",
       "    <tr>\n",
       "      <th>7</th>\n",
       "      <td>Embarked_S</td>\n",
       "      <td>2.04</td>\n",
       "    </tr>\n",
       "    <tr>\n",
       "      <th>0</th>\n",
       "      <td>Pclass</td>\n",
       "      <td>1.81</td>\n",
       "    </tr>\n",
       "    <tr>\n",
       "      <th>5</th>\n",
       "      <td>Fare</td>\n",
       "      <td>1.54</td>\n",
       "    </tr>\n",
       "    <tr>\n",
       "      <th>2</th>\n",
       "      <td>Age</td>\n",
       "      <td>1.32</td>\n",
       "    </tr>\n",
       "    <tr>\n",
       "      <th>4</th>\n",
       "      <td>Parch</td>\n",
       "      <td>1.32</td>\n",
       "    </tr>\n",
       "    <tr>\n",
       "      <th>3</th>\n",
       "      <td>SibSp</td>\n",
       "      <td>1.30</td>\n",
       "    </tr>\n",
       "    <tr>\n",
       "      <th>6</th>\n",
       "      <td>Embarked_Q</td>\n",
       "      <td>1.12</td>\n",
       "    </tr>\n",
       "  </tbody>\n",
       "</table>\n",
       "</div>"
      ],
      "text/plain": [
       "     Features   VIF\n",
       "1         Sex  2.12\n",
       "7  Embarked_S  2.04\n",
       "0      Pclass  1.81\n",
       "5        Fare  1.54\n",
       "2         Age  1.32\n",
       "4       Parch  1.32\n",
       "3       SibSp  1.30\n",
       "6  Embarked_Q  1.12"
      ]
     },
     "execution_count": 151,
     "metadata": {},
     "output_type": "execute_result"
    }
   ],
   "source": [
    "# Viewing the VIF\n",
    "vif = pd.DataFrame()\n",
    "vif['Features'] = df_train_X_smt.columns\n",
    "vif['VIF'] = [variance_inflation_factor(df_train_X_smt.values , i) for i in range(df_train_X_smt.shape[1])]\n",
    "vif['VIF'] = round(vif['VIF'], 2)\n",
    "vif  = vif.sort_values( by = 'VIF' , ascending = False)\n",
    "vif"
   ]
  },
  {
   "cell_type": "markdown",
   "id": "2c74a9bf-0970-4599-9c40-34282a9740bb",
   "metadata": {},
   "source": [
    "The VIF values indicate that ther is no multicollinearity among the variables. Let us view the accuracy of the model."
   ]
  },
  {
   "cell_type": "code",
   "execution_count": 152,
   "id": "7aea8e85-8eb8-45a9-893a-acae9f9301f5",
   "metadata": {},
   "outputs": [],
   "source": [
    "# Accuracy\n",
    "# Importing  Library\n",
    "from sklearn import metrics"
   ]
  },
  {
   "cell_type": "code",
   "execution_count": 153,
   "id": "8208687b-203a-4233-8748-52a534b78222",
   "metadata": {},
   "outputs": [
    {
     "name": "stdout",
     "output_type": "stream",
     "text": [
      "1. Model Accuracy:  81.57 %\n"
     ]
    }
   ],
   "source": [
    "# predicting the target variable\n",
    "y_train_pred = model1.predict(X_train_sm)\n",
    "\n",
    "# Verifying\n",
    "y_train_pred[:10]\n",
    "\n",
    "# Setting the threshold\n",
    "survive = y_train_pred.apply(lambda x : 1 if x >= 0.5 else 0)\n",
    "\n",
    "# Viewing accuracy\n",
    "print('1. Model Accuracy: ', round(metrics.accuracy_score(y_train , survive)*100 , 2),'%')"
   ]
  },
  {
   "cell_type": "markdown",
   "id": "f980b5af-295a-441e-8598-073a0f1aee63",
   "metadata": {},
   "source": [
    "With an attained accuracy of 81%, let's proceed by removing the insignificant variables. Fare has the higher insignificance, hence dropping 'Fare'."
   ]
  },
  {
   "cell_type": "code",
   "execution_count": 154,
   "id": "8ced08a1-1da8-4550-97cd-5c31eccee974",
   "metadata": {},
   "outputs": [],
   "source": [
    "# Dropping 'Fare' column\n",
    "X_train_sm.drop('Fare' , axis = 1, inplace = True)"
   ]
  },
  {
   "cell_type": "code",
   "execution_count": 155,
   "id": "f4b1bcbf-c408-4147-8470-c9dcb01112a6",
   "metadata": {},
   "outputs": [
    {
     "data": {
      "text/html": [
       "<table class=\"simpletable\">\n",
       "<caption>Generalized Linear Model Regression Results</caption>\n",
       "<tr>\n",
       "  <th>Dep. Variable:</th>       <td>Survived</td>     <th>  No. Observations:  </th>  <td>   890</td> \n",
       "</tr>\n",
       "<tr>\n",
       "  <th>Model:</th>                  <td>GLM</td>       <th>  Df Residuals:      </th>  <td>   882</td> \n",
       "</tr>\n",
       "<tr>\n",
       "  <th>Model Family:</th>        <td>Binomial</td>     <th>  Df Model:          </th>  <td>     7</td> \n",
       "</tr>\n",
       "<tr>\n",
       "  <th>Link Function:</th>         <td>Logit</td>      <th>  Scale:             </th> <td>  1.0000</td>\n",
       "</tr>\n",
       "<tr>\n",
       "  <th>Method:</th>                <td>IRLS</td>       <th>  Log-Likelihood:    </th> <td> -361.90</td>\n",
       "</tr>\n",
       "<tr>\n",
       "  <th>Date:</th>            <td>Sun, 14 Jul 2024</td> <th>  Deviance:          </th> <td>  723.80</td>\n",
       "</tr>\n",
       "<tr>\n",
       "  <th>Time:</th>                <td>22:21:06</td>     <th>  Pearson chi2:      </th>  <td>  876.</td> \n",
       "</tr>\n",
       "<tr>\n",
       "  <th>No. Iterations:</th>          <td>5</td>        <th>  Pseudo R-squ. (CS):</th>  <td>0.4362</td> \n",
       "</tr>\n",
       "<tr>\n",
       "  <th>Covariance Type:</th>     <td>nonrobust</td>    <th>                     </th>     <td> </td>   \n",
       "</tr>\n",
       "</table>\n",
       "<table class=\"simpletable\">\n",
       "<tr>\n",
       "       <td></td>         <th>coef</th>     <th>std err</th>      <th>z</th>      <th>P>|z|</th>  <th>[0.025</th>    <th>0.975]</th>  \n",
       "</tr>\n",
       "<tr>\n",
       "  <th>const</th>      <td>    2.2455</td> <td>    0.248</td> <td>    9.040</td> <td> 0.000</td> <td>    1.759</td> <td>    2.732</td>\n",
       "</tr>\n",
       "<tr>\n",
       "  <th>Pclass</th>     <td>   -1.1299</td> <td>    0.118</td> <td>   -9.559</td> <td> 0.000</td> <td>   -1.362</td> <td>   -0.898</td>\n",
       "</tr>\n",
       "<tr>\n",
       "  <th>Sex</th>        <td>   -3.0882</td> <td>    0.214</td> <td>  -14.421</td> <td> 0.000</td> <td>   -3.508</td> <td>   -2.669</td>\n",
       "</tr>\n",
       "<tr>\n",
       "  <th>Age</th>        <td>   -0.7572</td> <td>    0.115</td> <td>   -6.558</td> <td> 0.000</td> <td>   -0.983</td> <td>   -0.531</td>\n",
       "</tr>\n",
       "<tr>\n",
       "  <th>SibSp</th>      <td>   -0.3826</td> <td>    0.116</td> <td>   -3.312</td> <td> 0.001</td> <td>   -0.609</td> <td>   -0.156</td>\n",
       "</tr>\n",
       "<tr>\n",
       "  <th>Parch</th>      <td>   -0.1767</td> <td>    0.104</td> <td>   -1.700</td> <td> 0.089</td> <td>   -0.380</td> <td>    0.027</td>\n",
       "</tr>\n",
       "<tr>\n",
       "  <th>Embarked_Q</th> <td>   -0.6315</td> <td>    0.415</td> <td>   -1.520</td> <td> 0.129</td> <td>   -1.446</td> <td>    0.183</td>\n",
       "</tr>\n",
       "<tr>\n",
       "  <th>Embarked_S</th> <td>   -0.5683</td> <td>    0.236</td> <td>   -2.404</td> <td> 0.016</td> <td>   -1.032</td> <td>   -0.105</td>\n",
       "</tr>\n",
       "</table>"
      ],
      "text/latex": [
       "\\begin{center}\n",
       "\\begin{tabular}{lclc}\n",
       "\\toprule\n",
       "\\textbf{Dep. Variable:}   &     Survived     & \\textbf{  No. Observations:  } &      890    \\\\\n",
       "\\textbf{Model:}           &       GLM        & \\textbf{  Df Residuals:      } &      882    \\\\\n",
       "\\textbf{Model Family:}    &     Binomial     & \\textbf{  Df Model:          } &        7    \\\\\n",
       "\\textbf{Link Function:}   &      Logit       & \\textbf{  Scale:             } &    1.0000   \\\\\n",
       "\\textbf{Method:}          &       IRLS       & \\textbf{  Log-Likelihood:    } &   -361.90   \\\\\n",
       "\\textbf{Date:}            & Sun, 14 Jul 2024 & \\textbf{  Deviance:          } &    723.80   \\\\\n",
       "\\textbf{Time:}            &     22:21:06     & \\textbf{  Pearson chi2:      } &     876.    \\\\\n",
       "\\textbf{No. Iterations:}  &        5         & \\textbf{  Pseudo R-squ. (CS):} &   0.4362    \\\\\n",
       "\\textbf{Covariance Type:} &    nonrobust     & \\textbf{                     } &             \\\\\n",
       "\\bottomrule\n",
       "\\end{tabular}\n",
       "\\begin{tabular}{lcccccc}\n",
       "                     & \\textbf{coef} & \\textbf{std err} & \\textbf{z} & \\textbf{P$> |$z$|$} & \\textbf{[0.025} & \\textbf{0.975]}  \\\\\n",
       "\\midrule\n",
       "\\textbf{const}       &       2.2455  &        0.248     &     9.040  &         0.000        &        1.759    &        2.732     \\\\\n",
       "\\textbf{Pclass}      &      -1.1299  &        0.118     &    -9.559  &         0.000        &       -1.362    &       -0.898     \\\\\n",
       "\\textbf{Sex}         &      -3.0882  &        0.214     &   -14.421  &         0.000        &       -3.508    &       -2.669     \\\\\n",
       "\\textbf{Age}         &      -0.7572  &        0.115     &    -6.558  &         0.000        &       -0.983    &       -0.531     \\\\\n",
       "\\textbf{SibSp}       &      -0.3826  &        0.116     &    -3.312  &         0.001        &       -0.609    &       -0.156     \\\\\n",
       "\\textbf{Parch}       &      -0.1767  &        0.104     &    -1.700  &         0.089        &       -0.380    &        0.027     \\\\\n",
       "\\textbf{Embarked\\_Q} &      -0.6315  &        0.415     &    -1.520  &         0.129        &       -1.446    &        0.183     \\\\\n",
       "\\textbf{Embarked\\_S} &      -0.5683  &        0.236     &    -2.404  &         0.016        &       -1.032    &       -0.105     \\\\\n",
       "\\bottomrule\n",
       "\\end{tabular}\n",
       "%\\caption{Generalized Linear Model Regression Results}\n",
       "\\end{center}"
      ],
      "text/plain": [
       "<class 'statsmodels.iolib.summary.Summary'>\n",
       "\"\"\"\n",
       "                 Generalized Linear Model Regression Results                  \n",
       "==============================================================================\n",
       "Dep. Variable:               Survived   No. Observations:                  890\n",
       "Model:                            GLM   Df Residuals:                      882\n",
       "Model Family:                Binomial   Df Model:                            7\n",
       "Link Function:                  Logit   Scale:                          1.0000\n",
       "Method:                          IRLS   Log-Likelihood:                -361.90\n",
       "Date:                Sun, 14 Jul 2024   Deviance:                       723.80\n",
       "Time:                        22:21:06   Pearson chi2:                     876.\n",
       "No. Iterations:                     5   Pseudo R-squ. (CS):             0.4362\n",
       "Covariance Type:            nonrobust                                         \n",
       "==============================================================================\n",
       "                 coef    std err          z      P>|z|      [0.025      0.975]\n",
       "------------------------------------------------------------------------------\n",
       "const          2.2455      0.248      9.040      0.000       1.759       2.732\n",
       "Pclass        -1.1299      0.118     -9.559      0.000      -1.362      -0.898\n",
       "Sex           -3.0882      0.214    -14.421      0.000      -3.508      -2.669\n",
       "Age           -0.7572      0.115     -6.558      0.000      -0.983      -0.531\n",
       "SibSp         -0.3826      0.116     -3.312      0.001      -0.609      -0.156\n",
       "Parch         -0.1767      0.104     -1.700      0.089      -0.380       0.027\n",
       "Embarked_Q    -0.6315      0.415     -1.520      0.129      -1.446       0.183\n",
       "Embarked_S    -0.5683      0.236     -2.404      0.016      -1.032      -0.105\n",
       "==============================================================================\n",
       "\"\"\""
      ]
     },
     "execution_count": 155,
     "metadata": {},
     "output_type": "execute_result"
    }
   ],
   "source": [
    "# Model Creation 2\n",
    "lm = sm.GLM(y_train , X_train_sm , family = sm.families.Binomial())\n",
    "\n",
    "# Viewing Summary\n",
    "model2 = lm.fit()\n",
    "model2.summary()"
   ]
  },
  {
   "cell_type": "markdown",
   "id": "a0482dbc-b18d-49e3-a220-1c422127f421",
   "metadata": {},
   "source": [
    "The variable 'Embarked_Q' has a p-value of 0.051, which is above the threshold of 0.05, indicating insignificance. Therefore, it needs to be dropped."
   ]
  },
  {
   "cell_type": "code",
   "execution_count": 156,
   "id": "604f131f-3fb6-4d7e-89bb-1fa20556572a",
   "metadata": {},
   "outputs": [
    {
     "name": "stdout",
     "output_type": "stream",
     "text": [
      "2. Model Accuracy:  81.57 %\n"
     ]
    }
   ],
   "source": [
    "# predicting the target variable\n",
    "y_train_pred = model2.predict(X_train_sm)\n",
    "\n",
    "# Verifying\n",
    "y_train_pred[:10]\n",
    "\n",
    "# Setting the threshold\n",
    "survive = y_train_pred.apply(lambda x : 1 if x >= 0.5 else 0)\n",
    "\n",
    "# Viewing accuracy\n",
    "print('2. Model Accuracy: ', round(metrics.accuracy_score(y_train , survive)*100 , 2),'%')"
   ]
  },
  {
   "cell_type": "markdown",
   "id": "070b4369-1d88-4b6d-99c5-836ef2ec3dc8",
   "metadata": {},
   "source": [
    "After dropping the variable 'Fare,' the current accuracy is 82.13%. Now, let's proceed with creating the next model after dropping 'Embarked_Q'."
   ]
  },
  {
   "cell_type": "code",
   "execution_count": 157,
   "id": "82f82352-3760-4fe1-9388-2555d840b89c",
   "metadata": {},
   "outputs": [],
   "source": [
    "# Dropping 'Embarked_Q' column\n",
    "X_train_sm.drop('Embarked_Q' , axis = 1, inplace = True)"
   ]
  },
  {
   "cell_type": "code",
   "execution_count": 158,
   "id": "6abe2d6a-670d-4a34-a763-7b11c584d78c",
   "metadata": {},
   "outputs": [
    {
     "data": {
      "text/html": [
       "<table class=\"simpletable\">\n",
       "<caption>Generalized Linear Model Regression Results</caption>\n",
       "<tr>\n",
       "  <th>Dep. Variable:</th>       <td>Survived</td>     <th>  No. Observations:  </th>  <td>   890</td> \n",
       "</tr>\n",
       "<tr>\n",
       "  <th>Model:</th>                  <td>GLM</td>       <th>  Df Residuals:      </th>  <td>   883</td> \n",
       "</tr>\n",
       "<tr>\n",
       "  <th>Model Family:</th>        <td>Binomial</td>     <th>  Df Model:          </th>  <td>     6</td> \n",
       "</tr>\n",
       "<tr>\n",
       "  <th>Link Function:</th>         <td>Logit</td>      <th>  Scale:             </th> <td>  1.0000</td>\n",
       "</tr>\n",
       "<tr>\n",
       "  <th>Method:</th>                <td>IRLS</td>       <th>  Log-Likelihood:    </th> <td> -363.06</td>\n",
       "</tr>\n",
       "<tr>\n",
       "  <th>Date:</th>            <td>Sun, 14 Jul 2024</td> <th>  Deviance:          </th> <td>  726.11</td>\n",
       "</tr>\n",
       "<tr>\n",
       "  <th>Time:</th>                <td>22:21:06</td>     <th>  Pearson chi2:      </th>  <td>  880.</td> \n",
       "</tr>\n",
       "<tr>\n",
       "  <th>No. Iterations:</th>          <td>5</td>        <th>  Pseudo R-squ. (CS):</th>  <td>0.4347</td> \n",
       "</tr>\n",
       "<tr>\n",
       "  <th>Covariance Type:</th>     <td>nonrobust</td>    <th>                     </th>     <td> </td>   \n",
       "</tr>\n",
       "</table>\n",
       "<table class=\"simpletable\">\n",
       "<tr>\n",
       "       <td></td>         <th>coef</th>     <th>std err</th>      <th>z</th>      <th>P>|z|</th>  <th>[0.025</th>    <th>0.975]</th>  \n",
       "</tr>\n",
       "<tr>\n",
       "  <th>const</th>      <td>    2.0553</td> <td>    0.211</td> <td>    9.757</td> <td> 0.000</td> <td>    1.642</td> <td>    2.468</td>\n",
       "</tr>\n",
       "<tr>\n",
       "  <th>Pclass</th>     <td>   -1.1668</td> <td>    0.115</td> <td>  -10.112</td> <td> 0.000</td> <td>   -1.393</td> <td>   -0.941</td>\n",
       "</tr>\n",
       "<tr>\n",
       "  <th>Sex</th>        <td>   -3.0501</td> <td>    0.211</td> <td>  -14.488</td> <td> 0.000</td> <td>   -3.463</td> <td>   -2.637</td>\n",
       "</tr>\n",
       "<tr>\n",
       "  <th>Age</th>        <td>   -0.7507</td> <td>    0.115</td> <td>   -6.541</td> <td> 0.000</td> <td>   -0.976</td> <td>   -0.526</td>\n",
       "</tr>\n",
       "<tr>\n",
       "  <th>SibSp</th>      <td>   -0.3749</td> <td>    0.114</td> <td>   -3.279</td> <td> 0.001</td> <td>   -0.599</td> <td>   -0.151</td>\n",
       "</tr>\n",
       "<tr>\n",
       "  <th>Parch</th>      <td>   -0.1665</td> <td>    0.103</td> <td>   -1.622</td> <td> 0.105</td> <td>   -0.368</td> <td>    0.035</td>\n",
       "</tr>\n",
       "<tr>\n",
       "  <th>Embarked_S</th> <td>   -0.4039</td> <td>    0.209</td> <td>   -1.933</td> <td> 0.053</td> <td>   -0.813</td> <td>    0.006</td>\n",
       "</tr>\n",
       "</table>"
      ],
      "text/latex": [
       "\\begin{center}\n",
       "\\begin{tabular}{lclc}\n",
       "\\toprule\n",
       "\\textbf{Dep. Variable:}   &     Survived     & \\textbf{  No. Observations:  } &      890    \\\\\n",
       "\\textbf{Model:}           &       GLM        & \\textbf{  Df Residuals:      } &      883    \\\\\n",
       "\\textbf{Model Family:}    &     Binomial     & \\textbf{  Df Model:          } &        6    \\\\\n",
       "\\textbf{Link Function:}   &      Logit       & \\textbf{  Scale:             } &    1.0000   \\\\\n",
       "\\textbf{Method:}          &       IRLS       & \\textbf{  Log-Likelihood:    } &   -363.06   \\\\\n",
       "\\textbf{Date:}            & Sun, 14 Jul 2024 & \\textbf{  Deviance:          } &    726.11   \\\\\n",
       "\\textbf{Time:}            &     22:21:06     & \\textbf{  Pearson chi2:      } &     880.    \\\\\n",
       "\\textbf{No. Iterations:}  &        5         & \\textbf{  Pseudo R-squ. (CS):} &   0.4347    \\\\\n",
       "\\textbf{Covariance Type:} &    nonrobust     & \\textbf{                     } &             \\\\\n",
       "\\bottomrule\n",
       "\\end{tabular}\n",
       "\\begin{tabular}{lcccccc}\n",
       "                     & \\textbf{coef} & \\textbf{std err} & \\textbf{z} & \\textbf{P$> |$z$|$} & \\textbf{[0.025} & \\textbf{0.975]}  \\\\\n",
       "\\midrule\n",
       "\\textbf{const}       &       2.0553  &        0.211     &     9.757  &         0.000        &        1.642    &        2.468     \\\\\n",
       "\\textbf{Pclass}      &      -1.1668  &        0.115     &   -10.112  &         0.000        &       -1.393    &       -0.941     \\\\\n",
       "\\textbf{Sex}         &      -3.0501  &        0.211     &   -14.488  &         0.000        &       -3.463    &       -2.637     \\\\\n",
       "\\textbf{Age}         &      -0.7507  &        0.115     &    -6.541  &         0.000        &       -0.976    &       -0.526     \\\\\n",
       "\\textbf{SibSp}       &      -0.3749  &        0.114     &    -3.279  &         0.001        &       -0.599    &       -0.151     \\\\\n",
       "\\textbf{Parch}       &      -0.1665  &        0.103     &    -1.622  &         0.105        &       -0.368    &        0.035     \\\\\n",
       "\\textbf{Embarked\\_S} &      -0.4039  &        0.209     &    -1.933  &         0.053        &       -0.813    &        0.006     \\\\\n",
       "\\bottomrule\n",
       "\\end{tabular}\n",
       "%\\caption{Generalized Linear Model Regression Results}\n",
       "\\end{center}"
      ],
      "text/plain": [
       "<class 'statsmodels.iolib.summary.Summary'>\n",
       "\"\"\"\n",
       "                 Generalized Linear Model Regression Results                  \n",
       "==============================================================================\n",
       "Dep. Variable:               Survived   No. Observations:                  890\n",
       "Model:                            GLM   Df Residuals:                      883\n",
       "Model Family:                Binomial   Df Model:                            6\n",
       "Link Function:                  Logit   Scale:                          1.0000\n",
       "Method:                          IRLS   Log-Likelihood:                -363.06\n",
       "Date:                Sun, 14 Jul 2024   Deviance:                       726.11\n",
       "Time:                        22:21:06   Pearson chi2:                     880.\n",
       "No. Iterations:                     5   Pseudo R-squ. (CS):             0.4347\n",
       "Covariance Type:            nonrobust                                         \n",
       "==============================================================================\n",
       "                 coef    std err          z      P>|z|      [0.025      0.975]\n",
       "------------------------------------------------------------------------------\n",
       "const          2.0553      0.211      9.757      0.000       1.642       2.468\n",
       "Pclass        -1.1668      0.115    -10.112      0.000      -1.393      -0.941\n",
       "Sex           -3.0501      0.211    -14.488      0.000      -3.463      -2.637\n",
       "Age           -0.7507      0.115     -6.541      0.000      -0.976      -0.526\n",
       "SibSp         -0.3749      0.114     -3.279      0.001      -0.599      -0.151\n",
       "Parch         -0.1665      0.103     -1.622      0.105      -0.368       0.035\n",
       "Embarked_S    -0.4039      0.209     -1.933      0.053      -0.813       0.006\n",
       "==============================================================================\n",
       "\"\"\""
      ]
     },
     "execution_count": 158,
     "metadata": {},
     "output_type": "execute_result"
    }
   ],
   "source": [
    "# Model Creation 3\n",
    "lm = sm.GLM(y_train , X_train_sm , family = sm.families.Binomial())\n",
    "\n",
    "# Viewing Summary\n",
    "model3 = lm.fit()\n",
    "model3.summary()"
   ]
  },
  {
   "cell_type": "markdown",
   "id": "aee0480f-6b46-44bf-babd-05cc0c44b5fe",
   "metadata": {},
   "source": [
    "We have one remaining variable with a p-value of 0.079 that should be dropped, which is 'Parch'."
   ]
  },
  {
   "cell_type": "code",
   "execution_count": 159,
   "id": "56e99318-c014-4ba4-945b-3ad00be50b79",
   "metadata": {},
   "outputs": [
    {
     "name": "stdout",
     "output_type": "stream",
     "text": [
      "3. Model Accuracy:  81.8 %\n"
     ]
    }
   ],
   "source": [
    "# Predicting the target variable\n",
    "y_train_pred = model3.predict(X_train_sm)\n",
    "\n",
    "# Verifying\n",
    "y_train_pred[:10]\n",
    "\n",
    "# Setting the threshold\n",
    "survive = y_train_pred.apply(lambda x : 1 if x >= 0.5 else 0)\n",
    "\n",
    "# Viewing accuracy\n",
    "print('3. Model Accuracy: ', round(metrics.accuracy_score(y_train , survive)*100 , 2),'%')"
   ]
  },
  {
   "cell_type": "markdown",
   "id": "1e13054a-62dc-4df0-b982-2de46d4ecff7",
   "metadata": {},
   "source": [
    "The Accuracy has been increased by 0.13% after dropping 'Embarked_Q'"
   ]
  },
  {
   "cell_type": "code",
   "execution_count": 160,
   "id": "681d75da-60be-44f9-a593-4657e34dc699",
   "metadata": {},
   "outputs": [],
   "source": [
    "# Dropping 'Parch' column\n",
    "X_train_sm.drop('Parch' , axis = 1, inplace = True)"
   ]
  },
  {
   "cell_type": "code",
   "execution_count": 161,
   "id": "c5744e25-160f-49ae-bbec-79e4b6dd6c3d",
   "metadata": {},
   "outputs": [
    {
     "data": {
      "text/html": [
       "<table class=\"simpletable\">\n",
       "<caption>Generalized Linear Model Regression Results</caption>\n",
       "<tr>\n",
       "  <th>Dep. Variable:</th>       <td>Survived</td>     <th>  No. Observations:  </th>  <td>   890</td> \n",
       "</tr>\n",
       "<tr>\n",
       "  <th>Model:</th>                  <td>GLM</td>       <th>  Df Residuals:      </th>  <td>   884</td> \n",
       "</tr>\n",
       "<tr>\n",
       "  <th>Model Family:</th>        <td>Binomial</td>     <th>  Df Model:          </th>  <td>     5</td> \n",
       "</tr>\n",
       "<tr>\n",
       "  <th>Link Function:</th>         <td>Logit</td>      <th>  Scale:             </th> <td>  1.0000</td>\n",
       "</tr>\n",
       "<tr>\n",
       "  <th>Method:</th>                <td>IRLS</td>       <th>  Log-Likelihood:    </th> <td> -364.40</td>\n",
       "</tr>\n",
       "<tr>\n",
       "  <th>Date:</th>            <td>Sun, 14 Jul 2024</td> <th>  Deviance:          </th> <td>  728.80</td>\n",
       "</tr>\n",
       "<tr>\n",
       "  <th>Time:</th>                <td>22:21:06</td>     <th>  Pearson chi2:      </th>  <td>  906.</td> \n",
       "</tr>\n",
       "<tr>\n",
       "  <th>No. Iterations:</th>          <td>5</td>        <th>  Pseudo R-squ. (CS):</th>  <td>0.4330</td> \n",
       "</tr>\n",
       "<tr>\n",
       "  <th>Covariance Type:</th>     <td>nonrobust</td>    <th>                     </th>     <td> </td>   \n",
       "</tr>\n",
       "</table>\n",
       "<table class=\"simpletable\">\n",
       "<tr>\n",
       "       <td></td>         <th>coef</th>     <th>std err</th>      <th>z</th>      <th>P>|z|</th>  <th>[0.025</th>    <th>0.975]</th>  \n",
       "</tr>\n",
       "<tr>\n",
       "  <th>const</th>      <td>    2.0348</td> <td>    0.208</td> <td>    9.801</td> <td> 0.000</td> <td>    1.628</td> <td>    2.442</td>\n",
       "</tr>\n",
       "<tr>\n",
       "  <th>Pclass</th>     <td>   -1.1580</td> <td>    0.115</td> <td>  -10.028</td> <td> 0.000</td> <td>   -1.384</td> <td>   -0.932</td>\n",
       "</tr>\n",
       "<tr>\n",
       "  <th>Sex</th>        <td>   -2.9958</td> <td>    0.206</td> <td>  -14.538</td> <td> 0.000</td> <td>   -3.400</td> <td>   -2.592</td>\n",
       "</tr>\n",
       "<tr>\n",
       "  <th>Age</th>        <td>   -0.7283</td> <td>    0.113</td> <td>   -6.420</td> <td> 0.000</td> <td>   -0.951</td> <td>   -0.506</td>\n",
       "</tr>\n",
       "<tr>\n",
       "  <th>SibSp</th>      <td>   -0.4376</td> <td>    0.109</td> <td>   -4.010</td> <td> 0.000</td> <td>   -0.651</td> <td>   -0.224</td>\n",
       "</tr>\n",
       "<tr>\n",
       "  <th>Embarked_S</th> <td>   -0.4263</td> <td>    0.207</td> <td>   -2.055</td> <td> 0.040</td> <td>   -0.833</td> <td>   -0.020</td>\n",
       "</tr>\n",
       "</table>"
      ],
      "text/latex": [
       "\\begin{center}\n",
       "\\begin{tabular}{lclc}\n",
       "\\toprule\n",
       "\\textbf{Dep. Variable:}   &     Survived     & \\textbf{  No. Observations:  } &      890    \\\\\n",
       "\\textbf{Model:}           &       GLM        & \\textbf{  Df Residuals:      } &      884    \\\\\n",
       "\\textbf{Model Family:}    &     Binomial     & \\textbf{  Df Model:          } &        5    \\\\\n",
       "\\textbf{Link Function:}   &      Logit       & \\textbf{  Scale:             } &    1.0000   \\\\\n",
       "\\textbf{Method:}          &       IRLS       & \\textbf{  Log-Likelihood:    } &   -364.40   \\\\\n",
       "\\textbf{Date:}            & Sun, 14 Jul 2024 & \\textbf{  Deviance:          } &    728.80   \\\\\n",
       "\\textbf{Time:}            &     22:21:06     & \\textbf{  Pearson chi2:      } &     906.    \\\\\n",
       "\\textbf{No. Iterations:}  &        5         & \\textbf{  Pseudo R-squ. (CS):} &   0.4330    \\\\\n",
       "\\textbf{Covariance Type:} &    nonrobust     & \\textbf{                     } &             \\\\\n",
       "\\bottomrule\n",
       "\\end{tabular}\n",
       "\\begin{tabular}{lcccccc}\n",
       "                     & \\textbf{coef} & \\textbf{std err} & \\textbf{z} & \\textbf{P$> |$z$|$} & \\textbf{[0.025} & \\textbf{0.975]}  \\\\\n",
       "\\midrule\n",
       "\\textbf{const}       &       2.0348  &        0.208     &     9.801  &         0.000        &        1.628    &        2.442     \\\\\n",
       "\\textbf{Pclass}      &      -1.1580  &        0.115     &   -10.028  &         0.000        &       -1.384    &       -0.932     \\\\\n",
       "\\textbf{Sex}         &      -2.9958  &        0.206     &   -14.538  &         0.000        &       -3.400    &       -2.592     \\\\\n",
       "\\textbf{Age}         &      -0.7283  &        0.113     &    -6.420  &         0.000        &       -0.951    &       -0.506     \\\\\n",
       "\\textbf{SibSp}       &      -0.4376  &        0.109     &    -4.010  &         0.000        &       -0.651    &       -0.224     \\\\\n",
       "\\textbf{Embarked\\_S} &      -0.4263  &        0.207     &    -2.055  &         0.040        &       -0.833    &       -0.020     \\\\\n",
       "\\bottomrule\n",
       "\\end{tabular}\n",
       "%\\caption{Generalized Linear Model Regression Results}\n",
       "\\end{center}"
      ],
      "text/plain": [
       "<class 'statsmodels.iolib.summary.Summary'>\n",
       "\"\"\"\n",
       "                 Generalized Linear Model Regression Results                  \n",
       "==============================================================================\n",
       "Dep. Variable:               Survived   No. Observations:                  890\n",
       "Model:                            GLM   Df Residuals:                      884\n",
       "Model Family:                Binomial   Df Model:                            5\n",
       "Link Function:                  Logit   Scale:                          1.0000\n",
       "Method:                          IRLS   Log-Likelihood:                -364.40\n",
       "Date:                Sun, 14 Jul 2024   Deviance:                       728.80\n",
       "Time:                        22:21:06   Pearson chi2:                     906.\n",
       "No. Iterations:                     5   Pseudo R-squ. (CS):             0.4330\n",
       "Covariance Type:            nonrobust                                         \n",
       "==============================================================================\n",
       "                 coef    std err          z      P>|z|      [0.025      0.975]\n",
       "------------------------------------------------------------------------------\n",
       "const          2.0348      0.208      9.801      0.000       1.628       2.442\n",
       "Pclass        -1.1580      0.115    -10.028      0.000      -1.384      -0.932\n",
       "Sex           -2.9958      0.206    -14.538      0.000      -3.400      -2.592\n",
       "Age           -0.7283      0.113     -6.420      0.000      -0.951      -0.506\n",
       "SibSp         -0.4376      0.109     -4.010      0.000      -0.651      -0.224\n",
       "Embarked_S    -0.4263      0.207     -2.055      0.040      -0.833      -0.020\n",
       "==============================================================================\n",
       "\"\"\""
      ]
     },
     "execution_count": 161,
     "metadata": {},
     "output_type": "execute_result"
    }
   ],
   "source": [
    "# Model Creation 4\n",
    "lm = sm.GLM(y_train , X_train_sm , family = sm.families.Binomial())\n",
    "\n",
    "# Viewing Summary\n",
    "model4 = lm.fit()\n",
    "model4.summary()"
   ]
  },
  {
   "cell_type": "markdown",
   "id": "7ef71e2d-fe65-4ea3-ab65-0a2e1c4dd1b9",
   "metadata": {},
   "source": [
    "Now that all variables have p-values under 0.05, indicating significance."
   ]
  },
  {
   "cell_type": "code",
   "execution_count": 162,
   "id": "66837f87-1726-47e2-bdc0-fb60ea92f4fe",
   "metadata": {},
   "outputs": [
    {
     "name": "stdout",
     "output_type": "stream",
     "text": [
      "4. Model Accuracy:  82.02 %\n"
     ]
    }
   ],
   "source": [
    "# predicting the target variable\n",
    "y_train_pred = model4.predict(X_train_sm)\n",
    "\n",
    "# Verifying\n",
    "y_train_pred[:10]\n",
    "\n",
    "# Setting the threshold\n",
    "survive_pred = y_train_pred.apply(lambda x : 1 if x >= 0.5 else 0)\n",
    "\n",
    "# Viewing accuracy\n",
    "print('4. Model Accuracy: ', round(metrics.accuracy_score(y_train , survive_pred)*100 , 2),'%')"
   ]
  },
  {
   "cell_type": "markdown",
   "id": "79f05db1-6907-4a0a-be0c-a71207bbbf11",
   "metadata": {},
   "source": [
    "Now that we have finalized Model 4 with 81% accuracy based on p-values, VIF, and overall model performance, let's proceed to analyze precision and recall."
   ]
  },
  {
   "cell_type": "markdown",
   "id": "78dc31cb-8f7c-4649-9a87-8d7b7bfcad30",
   "metadata": {},
   "source": [
    "## 8. Precision - Recall Analysis"
   ]
  },
  {
   "cell_type": "markdown",
   "id": "06327b4e-e109-4346-85f3-04d3f6646d2d",
   "metadata": {},
   "source": [
    "#### 8.1 Confusion Matrix"
   ]
  },
  {
   "cell_type": "code",
   "execution_count": 163,
   "id": "32f3441a-2baa-4147-acc5-67a02e5ff6b1",
   "metadata": {},
   "outputs": [
    {
     "data": {
      "text/plain": [
       "array([[369,  76],\n",
       "       [ 84, 361]], dtype=int64)"
      ]
     },
     "execution_count": 163,
     "metadata": {},
     "output_type": "execute_result"
    }
   ],
   "source": [
    "# Viewing Confusion matrix\n",
    "metrics.confusion_matrix(y_train , survive_pred)"
   ]
  },
  {
   "cell_type": "code",
   "execution_count": 164,
   "id": "b894c9eb-a73e-4a2b-9171-46bb23515a45",
   "metadata": {},
   "outputs": [],
   "source": [
    "#Predicted      Not_Survived  Survived\n",
    "\n",
    "#Actual\n",
    "#Not_Survived    461            88\n",
    "#Survived        108           441"
   ]
  },
  {
   "cell_type": "markdown",
   "id": "404b3012-548b-4f94-94d9-089bb2a572c8",
   "metadata": {},
   "source": [
    "#### 8.2 Precison and Recall"
   ]
  },
  {
   "cell_type": "code",
   "execution_count": 165,
   "id": "53629836-339a-4ea5-ba6a-25826155d949",
   "metadata": {},
   "outputs": [
    {
     "name": "stdout",
     "output_type": "stream",
     "text": [
      "Precision : 82.61 %\n",
      "Recall    : 81.12 %\n"
     ]
    }
   ],
   "source": [
    "# Viewing the percent score of Precision and Recall\n",
    "print('Precision :',round(metrics.precision_score(y_train , survive_pred)*100,2) ,'%')\n",
    "print('Recall    :',round(metrics.recall_score(y_train , survive_pred)*100,2) ,'%')"
   ]
  },
  {
   "cell_type": "markdown",
   "id": "cd15dab2-ec2f-490b-86c9-3668c6788359",
   "metadata": {},
   "source": [
    "The model achieved higher Precision and Recall scores, indicating that it correctly identifies about 83% of its positive predictions (survivors) and captures approximately 80% of all actual survivors. \n",
    "\n",
    "Overall the model is performing well. Let's just have a look at the precision_recall_curve"
   ]
  },
  {
   "cell_type": "markdown",
   "id": "9fae9433-a1bf-4022-8432-0b39a6977b99",
   "metadata": {},
   "source": [
    "#### 8.3 Optimal Cut off - Precision_Recall_Curve"
   ]
  },
  {
   "cell_type": "code",
   "execution_count": 166,
   "id": "4f86d1e4-36dc-479d-acf6-835ebdff1a22",
   "metadata": {},
   "outputs": [
    {
     "data": {
      "text/html": [
       "<div>\n",
       "<style scoped>\n",
       "    .dataframe tbody tr th:only-of-type {\n",
       "        vertical-align: middle;\n",
       "    }\n",
       "\n",
       "    .dataframe tbody tr th {\n",
       "        vertical-align: top;\n",
       "    }\n",
       "\n",
       "    .dataframe thead th {\n",
       "        text-align: right;\n",
       "    }\n",
       "</style>\n",
       "<table border=\"1\" class=\"dataframe\">\n",
       "  <thead>\n",
       "    <tr style=\"text-align: right;\">\n",
       "      <th></th>\n",
       "      <th>PassengerID</th>\n",
       "      <th>Actual</th>\n",
       "      <th>Predicted</th>\n",
       "      <th>0.1</th>\n",
       "      <th>0.2</th>\n",
       "      <th>0.3</th>\n",
       "      <th>0.4</th>\n",
       "      <th>0.5</th>\n",
       "      <th>0.6</th>\n",
       "      <th>0.7</th>\n",
       "      <th>0.8</th>\n",
       "      <th>0.9</th>\n",
       "    </tr>\n",
       "  </thead>\n",
       "  <tbody>\n",
       "    <tr>\n",
       "      <th>885</th>\n",
       "      <td>885</td>\n",
       "      <td>1</td>\n",
       "      <td>0.863816</td>\n",
       "      <td>1</td>\n",
       "      <td>1</td>\n",
       "      <td>1</td>\n",
       "      <td>1</td>\n",
       "      <td>1</td>\n",
       "      <td>1</td>\n",
       "      <td>1</td>\n",
       "      <td>1</td>\n",
       "      <td>0</td>\n",
       "    </tr>\n",
       "    <tr>\n",
       "      <th>886</th>\n",
       "      <td>886</td>\n",
       "      <td>1</td>\n",
       "      <td>0.628316</td>\n",
       "      <td>1</td>\n",
       "      <td>1</td>\n",
       "      <td>1</td>\n",
       "      <td>1</td>\n",
       "      <td>1</td>\n",
       "      <td>1</td>\n",
       "      <td>0</td>\n",
       "      <td>0</td>\n",
       "      <td>0</td>\n",
       "    </tr>\n",
       "    <tr>\n",
       "      <th>887</th>\n",
       "      <td>887</td>\n",
       "      <td>1</td>\n",
       "      <td>0.813311</td>\n",
       "      <td>1</td>\n",
       "      <td>1</td>\n",
       "      <td>1</td>\n",
       "      <td>1</td>\n",
       "      <td>1</td>\n",
       "      <td>1</td>\n",
       "      <td>1</td>\n",
       "      <td>1</td>\n",
       "      <td>0</td>\n",
       "    </tr>\n",
       "    <tr>\n",
       "      <th>888</th>\n",
       "      <td>888</td>\n",
       "      <td>1</td>\n",
       "      <td>0.966713</td>\n",
       "      <td>1</td>\n",
       "      <td>1</td>\n",
       "      <td>1</td>\n",
       "      <td>1</td>\n",
       "      <td>1</td>\n",
       "      <td>1</td>\n",
       "      <td>1</td>\n",
       "      <td>1</td>\n",
       "      <td>1</td>\n",
       "    </tr>\n",
       "    <tr>\n",
       "      <th>889</th>\n",
       "      <td>889</td>\n",
       "      <td>1</td>\n",
       "      <td>0.949471</td>\n",
       "      <td>1</td>\n",
       "      <td>1</td>\n",
       "      <td>1</td>\n",
       "      <td>1</td>\n",
       "      <td>1</td>\n",
       "      <td>1</td>\n",
       "      <td>1</td>\n",
       "      <td>1</td>\n",
       "      <td>1</td>\n",
       "    </tr>\n",
       "  </tbody>\n",
       "</table>\n",
       "</div>"
      ],
      "text/plain": [
       "     PassengerID  Actual  Predicted  0.1  0.2  0.3  0.4  0.5  0.6  0.7  0.8  \\\n",
       "885          885       1   0.863816    1    1    1    1    1    1    1    1   \n",
       "886          886       1   0.628316    1    1    1    1    1    1    0    0   \n",
       "887          887       1   0.813311    1    1    1    1    1    1    1    1   \n",
       "888          888       1   0.966713    1    1    1    1    1    1    1    1   \n",
       "889          889       1   0.949471    1    1    1    1    1    1    1    1   \n",
       "\n",
       "     0.9  \n",
       "885    0  \n",
       "886    0  \n",
       "887    0  \n",
       "888    1  \n",
       "889    1  "
      ]
     },
     "execution_count": 166,
     "metadata": {},
     "output_type": "execute_result"
    }
   ],
   "source": [
    "# Creating a Dataframe with different thresholds\n",
    "df_curve = pd.DataFrame()\n",
    "df_curve['PassengerID']= y_train.index\n",
    "df_curve['Actual'] = y_train\n",
    "df_curve['Predicted'] = y_train_pred\n",
    "\n",
    "threshold =[0.1, 0.2,0.3,0.4,0.5,0.6,0.7,0.8,0.9]\n",
    "\n",
    "\n",
    "\n",
    "for i in threshold:\n",
    "    df_curve[i] = df_curve['Predicted'].apply(lambda x: 0 if x< i else 1)\n",
    "\n",
    "# Verify\n",
    "df_curve.tail()"
   ]
  },
  {
   "cell_type": "code",
   "execution_count": 167,
   "id": "7bb2e333-f722-46f0-9014-fe244d59e49b",
   "metadata": {
    "scrolled": true
   },
   "outputs": [
    {
     "name": "stdout",
     "output_type": "stream",
     "text": [
      "     Threshold  Accuracy  Precision    Recall\n",
      "0.1        0.1  0.629213   0.964045  0.577389\n",
      "0.2        0.2  0.762921   0.921348  0.699659\n",
      "0.3        0.3  0.785393   0.885393  0.737828\n",
      "0.4        0.4  0.806742   0.853933  0.780287\n",
      "0.5        0.5  0.820225   0.811236  0.826087\n",
      "0.6        0.6  0.814607   0.752809  0.858974\n",
      "0.7        0.7  0.808989   0.694382  0.900875\n",
      "0.8        0.8  0.796629   0.631461  0.942953\n",
      "0.9        0.9  0.682022   0.373034  0.976471\n"
     ]
    }
   ],
   "source": [
    "# Crating a table with different Thresholds and their metrics\n",
    "prcurve = pd.DataFrame(columns =['Threshold','Accuracy','Precision' , 'Recall' ])\n",
    "\n",
    "for i in threshold:\n",
    "    cm = metrics.confusion_matrix(df_curve['Actual'] , df_curve[i])\n",
    "    total = sum(sum(cm))\n",
    "    accuracy = (cm[1,1]+cm[0,0])/total\n",
    "\n",
    "    recall = cm[1,1]/(cm[1,1]+cm[1,0])\n",
    "    precision = cm[1,1]/(cm[1,1]+cm[0,1])\n",
    "    prcurve.loc[i] = [i, accuracy , recall, precision]\n",
    "\n",
    "print(prcurve)"
   ]
  },
  {
   "cell_type": "code",
   "execution_count": 168,
   "id": "12a540de-beaa-4074-954f-9ff3d867b7a5",
   "metadata": {},
   "outputs": [
    {
     "data": {
      "image/png": "[encoded data removed]",
      "text/plain": [
       "<Figure size 640x480 with 1 Axes>"
      ]
     },
     "metadata": {},
     "output_type": "display_data"
    }
   ],
   "source": [
    "# Plotting different Thresholds and their metrics\n",
    "prcurve.plot.line(x= 'Threshold' , y = ['Accuracy','Precision' , 'Recall' ])\n",
    "plt.axvline(x=0.465, color='black')  \n",
    "plt.show()"
   ]
  },
  {
   "cell_type": "markdown",
   "id": "2d1e0d91-5eed-4016-95bd-3c6f70578c02",
   "metadata": {},
   "source": [
    "From the above results, we identified the optimal threshold as 0.465, where the accuracy, precision, and recall are all above 80%. Therefore, we are finalizing the threshold at 0.465."
   ]
  },
  {
   "cell_type": "code",
   "execution_count": 169,
   "id": "8e065a95-20f1-42c7-82fa-f4ca2cb32e71",
   "metadata": {},
   "outputs": [],
   "source": [
    "# Finding the predictions for threshold  0.45\n",
    "y_train_pred_final = y_train_pred.apply(lambda x: 1 if x>0.465 else 0)"
   ]
  },
  {
   "cell_type": "code",
   "execution_count": 170,
   "id": "1ef86f0b-ea2b-4bf3-be17-c55befe6e866",
   "metadata": {
    "scrolled": true
   },
   "outputs": [
    {
     "name": "stdout",
     "output_type": "stream",
     "text": [
      "Accuracy:  81.35 %\n",
      "Precision : 81.21 %\n",
      "Recall    : 81.57 %\n"
     ]
    }
   ],
   "source": [
    "print('Accuracy: ', round(metrics.accuracy_score(y_train , y_train_pred_final)*100 , 2),'%')\n",
    "print('Precision :',round(metrics.precision_score(y_train , y_train_pred_final)*100,2) ,'%')\n",
    "print('Recall    :',round(metrics.recall_score(y_train , y_train_pred_final)*100,2) ,'%')"
   ]
  },
  {
   "cell_type": "markdown",
   "id": "1886d810-9c3b-4642-840b-392cf31b5049",
   "metadata": {},
   "source": [
    "Based on our findings, we have achieved optimal metrics—accuracy, precision, and recall—by using the identified optimal threshold, which gives more than 80% of all three metrics."
   ]
  },
  {
   "cell_type": "markdown",
   "id": "5d57bbf8-5795-4f44-baf3-eb3b63968cd1",
   "metadata": {},
   "source": [
    "## 9. Predicting on the test data"
   ]
  },
  {
   "cell_type": "code",
   "execution_count": 171,
   "id": "653b66ee-05e9-4adb-abbd-8da4e53a7e0f",
   "metadata": {},
   "outputs": [],
   "source": [
    "# Splitting X and y variables\n",
    "df_test_X = df_test[['Pclass', 'Sex', 'Age', 'SibSp', 'Parch', 'Fare','Embarked_Q', 'Embarked_S']]\n",
    "df_test_y = df_test['Survived']\n",
    "\n",
    "# Scaling test data\n",
    "df_test_X[scale_var] = scaler.transform(df_test_X[scale_var])\n",
    "\n",
    "#Dropping columns that are not in training data\n",
    "df_test_X.drop(['Parch', 'Fare','Embarked_Q'] , inplace = True , axis = 1)\n",
    "\n",
    "# Adding constant \n",
    "df_test_X_sm = sm.add_constant(df_test_X)\n",
    "\n",
    "# Predicting on the test set\n",
    "test_predict = model4.predict(df_test_X_sm)\n",
    "\n",
    "# Finding the predictions\n",
    "y_test_pred_final = test_predict.apply(lambda x: 1 if x>0.465 else 0)"
   ]
  },
  {
   "cell_type": "code",
   "execution_count": 172,
   "id": "3b0811b1-1f7c-43a4-9844-62b45d32c92d",
   "metadata": {},
   "outputs": [
    {
     "data": {
      "text/html": [
       "<div>\n",
       "<style scoped>\n",
       "    .dataframe tbody tr th:only-of-type {\n",
       "        vertical-align: middle;\n",
       "    }\n",
       "\n",
       "    .dataframe tbody tr th {\n",
       "        vertical-align: top;\n",
       "    }\n",
       "\n",
       "    .dataframe thead th {\n",
       "        text-align: right;\n",
       "    }\n",
       "</style>\n",
       "<table border=\"1\" class=\"dataframe\">\n",
       "  <thead>\n",
       "    <tr style=\"text-align: right;\">\n",
       "      <th></th>\n",
       "      <th>Passenger ID</th>\n",
       "      <th>Actual</th>\n",
       "      <th>Pred_prob</th>\n",
       "      <th>Prediction</th>\n",
       "    </tr>\n",
       "  </thead>\n",
       "  <tbody>\n",
       "    <tr>\n",
       "      <th>0</th>\n",
       "      <td>206</td>\n",
       "      <td>0</td>\n",
       "      <td>0.899553</td>\n",
       "      <td>1</td>\n",
       "    </tr>\n",
       "    <tr>\n",
       "      <th>1</th>\n",
       "      <td>45</td>\n",
       "      <td>1</td>\n",
       "      <td>0.847937</td>\n",
       "      <td>1</td>\n",
       "    </tr>\n",
       "    <tr>\n",
       "      <th>2</th>\n",
       "      <td>822</td>\n",
       "      <td>1</td>\n",
       "      <td>0.106490</td>\n",
       "      <td>0</td>\n",
       "    </tr>\n",
       "    <tr>\n",
       "      <th>3</th>\n",
       "      <td>459</td>\n",
       "      <td>1</td>\n",
       "      <td>0.731112</td>\n",
       "      <td>1</td>\n",
       "    </tr>\n",
       "    <tr>\n",
       "      <th>4</th>\n",
       "      <td>796</td>\n",
       "      <td>0</td>\n",
       "      <td>0.195733</td>\n",
       "      <td>0</td>\n",
       "    </tr>\n",
       "  </tbody>\n",
       "</table>\n",
       "</div>"
      ],
      "text/plain": [
       "   Passenger ID  Actual  Pred_prob  Prediction\n",
       "0           206       0   0.899553           1\n",
       "1            45       1   0.847937           1\n",
       "2           822       1   0.106490           0\n",
       "3           459       1   0.731112           1\n",
       "4           796       0   0.195733           0"
      ]
     },
     "execution_count": 172,
     "metadata": {},
     "output_type": "execute_result"
    }
   ],
   "source": [
    "# Creating table for easy calculation of metrics\n",
    "cmtable = pd.DataFrame()\n",
    "cmtable['Passenger ID'] = df_test_X.index + 1\n",
    "cmtable['Actual']  = df_test_y.values\n",
    "cmtable['Pred_prob'] = test_predict.values\n",
    "cmtable['Prediction'] = y_test_pred_final.values\n",
    "cmtable.head()"
   ]
  },
  {
   "cell_type": "code",
   "execution_count": 173,
   "id": "305294da-a276-4c3f-88b9-70364391314c",
   "metadata": {},
   "outputs": [
    {
     "name": "stdout",
     "output_type": "stream",
     "text": [
      "Accuracy:  82.12 %\n",
      "Precision : 78.67 %\n",
      "Recall    : 78.67 %\n"
     ]
    }
   ],
   "source": [
    "# Calculating metrics\n",
    "print('Accuracy: ', round(metrics.accuracy_score(cmtable['Actual'] , cmtable['Prediction'])*100 , 2),'%')\n",
    "print('Precision :',round(metrics.precision_score(cmtable['Actual'] , cmtable['Prediction'])*100,2) ,'%')\n",
    "print('Recall    :',round(metrics.recall_score(cmtable['Actual'] , cmtable['Prediction'])*100,2) ,'%')"
   ]
  },
  {
   "cell_type": "markdown",
   "id": "b9f73393-1153-4360-8bbd-3a2a969792cc",
   "metadata": {},
   "source": [
    "While comparing the metrics between the train and test set, We could infer, Although the accuracy remains consistent between the training and test datasets, there is a noticeable decrease in precision and recall by 3% and 4%, respectively. Nonetheless, the model continues to perform adequately well."
   ]
  },
  {
   "cell_type": "markdown",
   "id": "c99bf422-2eb1-47a9-b0bd-6c4f7842c7b7",
   "metadata": {},
   "source": [
    "## 10.  Preparing for Submission"
   ]
  },
  {
   "cell_type": "code",
   "execution_count": 174,
   "id": "def8f0f5-4395-42c0-a377-c6bff05ba637",
   "metadata": {},
   "outputs": [
    {
     "data": {
      "text/html": [
       "<div>\n",
       "<style scoped>\n",
       "    .dataframe tbody tr th:only-of-type {\n",
       "        vertical-align: middle;\n",
       "    }\n",
       "\n",
       "    .dataframe tbody tr th {\n",
       "        vertical-align: top;\n",
       "    }\n",
       "\n",
       "    .dataframe thead th {\n",
       "        text-align: right;\n",
       "    }\n",
       "</style>\n",
       "<table border=\"1\" class=\"dataframe\">\n",
       "  <thead>\n",
       "    <tr style=\"text-align: right;\">\n",
       "      <th></th>\n",
       "      <th>PassengerId</th>\n",
       "      <th>Pclass</th>\n",
       "      <th>Name</th>\n",
       "      <th>Sex</th>\n",
       "      <th>Age</th>\n",
       "      <th>SibSp</th>\n",
       "      <th>Parch</th>\n",
       "      <th>Ticket</th>\n",
       "      <th>Fare</th>\n",
       "      <th>Cabin</th>\n",
       "      <th>Embarked</th>\n",
       "    </tr>\n",
       "  </thead>\n",
       "  <tbody>\n",
       "    <tr>\n",
       "      <th>0</th>\n",
       "      <td>892</td>\n",
       "      <td>3</td>\n",
       "      <td>Kelly, Mr. James</td>\n",
       "      <td>male</td>\n",
       "      <td>34.5</td>\n",
       "      <td>0</td>\n",
       "      <td>0</td>\n",
       "      <td>330911</td>\n",
       "      <td>7.8292</td>\n",
       "      <td>NaN</td>\n",
       "      <td>Q</td>\n",
       "    </tr>\n",
       "    <tr>\n",
       "      <th>1</th>\n",
       "      <td>893</td>\n",
       "      <td>3</td>\n",
       "      <td>Wilkes, Mrs. James (Ellen Needs)</td>\n",
       "      <td>female</td>\n",
       "      <td>47.0</td>\n",
       "      <td>1</td>\n",
       "      <td>0</td>\n",
       "      <td>363272</td>\n",
       "      <td>7.0000</td>\n",
       "      <td>NaN</td>\n",
       "      <td>S</td>\n",
       "    </tr>\n",
       "    <tr>\n",
       "      <th>2</th>\n",
       "      <td>894</td>\n",
       "      <td>2</td>\n",
       "      <td>Myles, Mr. Thomas Francis</td>\n",
       "      <td>male</td>\n",
       "      <td>62.0</td>\n",
       "      <td>0</td>\n",
       "      <td>0</td>\n",
       "      <td>240276</td>\n",
       "      <td>9.6875</td>\n",
       "      <td>NaN</td>\n",
       "      <td>Q</td>\n",
       "    </tr>\n",
       "    <tr>\n",
       "      <th>3</th>\n",
       "      <td>895</td>\n",
       "      <td>3</td>\n",
       "      <td>Wirz, Mr. Albert</td>\n",
       "      <td>male</td>\n",
       "      <td>27.0</td>\n",
       "      <td>0</td>\n",
       "      <td>0</td>\n",
       "      <td>315154</td>\n",
       "      <td>8.6625</td>\n",
       "      <td>NaN</td>\n",
       "      <td>S</td>\n",
       "    </tr>\n",
       "    <tr>\n",
       "      <th>4</th>\n",
       "      <td>896</td>\n",
       "      <td>3</td>\n",
       "      <td>Hirvonen, Mrs. Alexander (Helga E Lindqvist)</td>\n",
       "      <td>female</td>\n",
       "      <td>22.0</td>\n",
       "      <td>1</td>\n",
       "      <td>1</td>\n",
       "      <td>3101298</td>\n",
       "      <td>12.2875</td>\n",
       "      <td>NaN</td>\n",
       "      <td>S</td>\n",
       "    </tr>\n",
       "  </tbody>\n",
       "</table>\n",
       "</div>"
      ],
      "text/plain": [
       "   PassengerId  Pclass                                          Name     Sex  \\\n",
       "0          892       3                              Kelly, Mr. James    male   \n",
       "1          893       3              Wilkes, Mrs. James (Ellen Needs)  female   \n",
       "2          894       2                     Myles, Mr. Thomas Francis    male   \n",
       "3          895       3                              Wirz, Mr. Albert    male   \n",
       "4          896       3  Hirvonen, Mrs. Alexander (Helga E Lindqvist)  female   \n",
       "\n",
       "    Age  SibSp  Parch   Ticket     Fare Cabin Embarked  \n",
       "0  34.5      0      0   330911   7.8292   NaN        Q  \n",
       "1  47.0      1      0   363272   7.0000   NaN        S  \n",
       "2  62.0      0      0   240276   9.6875   NaN        Q  \n",
       "3  27.0      0      0   315154   8.6625   NaN        S  \n",
       "4  22.0      1      1  3101298  12.2875   NaN        S  "
      ]
     },
     "execution_count": 174,
     "metadata": {},
     "output_type": "execute_result"
    }
   ],
   "source": [
    "# Viewing the data\n",
    "test.head()"
   ]
  },
  {
   "cell_type": "markdown",
   "id": "cadd08c4-0825-4727-8f14-624764333df7",
   "metadata": {},
   "source": [
    "#### 10.1 Missing values"
   ]
  },
  {
   "cell_type": "markdown",
   "id": "ab433915-d518-474b-a483-27956f5eb2b6",
   "metadata": {},
   "source": [
    "We should apply the same treatment to the test set as we did to the training set."
   ]
  },
  {
   "cell_type": "code",
   "execution_count": 175,
   "id": "7c4464e7",
   "metadata": {
    "scrolled": true
   },
   "outputs": [
    {
     "data": {
      "text/plain": [
       "Age       86\n",
       "Fare       1\n",
       "Cabin    327\n",
       "dtype: int64"
      ]
     },
     "execution_count": 175,
     "metadata": {},
     "output_type": "execute_result"
    }
   ],
   "source": [
    "# Viewing the missing values\n",
    "test.isnull().sum()[test.isnull().sum()>0]"
   ]
  },
  {
   "cell_type": "markdown",
   "id": "ab2630bf-8fdf-4a88-b0fe-dc70356a37a2",
   "metadata": {},
   "source": [
    "#### 10.1.1 Handling missing values - Imputing"
   ]
  },
  {
   "cell_type": "code",
   "execution_count": 176,
   "id": "6267d958-9e8f-462e-8a26-7413a9b505c2",
   "metadata": {},
   "outputs": [
    {
     "data": {
      "text/plain": [
       "Title\n",
       "Mr        57\n",
       "Miss      14\n",
       "Mrs       10\n",
       "Master     4\n",
       "Ms         1\n",
       "Name: count, dtype: int64"
      ]
     },
     "execution_count": 176,
     "metadata": {},
     "output_type": "execute_result"
    }
   ],
   "source": [
    "# Creating a new column to help us to impute the \n",
    "test['Title'] = test['Name'].str.extract('([A-Za-z]+)\\.' , expand = False)\n",
    "\n",
    "# Viewing the missing age for each title\n",
    "test.Title[test.Age.isna()].value_counts()"
   ]
  },
  {
   "cell_type": "code",
   "execution_count": 177,
   "id": "7c1c3c3f-38fc-4d40-bebf-f55d629a9eb8",
   "metadata": {},
   "outputs": [
    {
     "data": {
      "text/html": [
       "<div>\n",
       "<style scoped>\n",
       "    .dataframe tbody tr th:only-of-type {\n",
       "        vertical-align: middle;\n",
       "    }\n",
       "\n",
       "    .dataframe tbody tr th {\n",
       "        vertical-align: top;\n",
       "    }\n",
       "\n",
       "    .dataframe thead th {\n",
       "        text-align: right;\n",
       "    }\n",
       "</style>\n",
       "<table border=\"1\" class=\"dataframe\">\n",
       "  <thead>\n",
       "    <tr style=\"text-align: right;\">\n",
       "      <th></th>\n",
       "      <th>PassengerId</th>\n",
       "      <th>Pclass</th>\n",
       "      <th>Name</th>\n",
       "      <th>Sex</th>\n",
       "      <th>Age</th>\n",
       "      <th>SibSp</th>\n",
       "      <th>Parch</th>\n",
       "      <th>Ticket</th>\n",
       "      <th>Fare</th>\n",
       "      <th>Cabin</th>\n",
       "      <th>Embarked</th>\n",
       "      <th>Title</th>\n",
       "    </tr>\n",
       "  </thead>\n",
       "  <tbody>\n",
       "    <tr>\n",
       "      <th>244</th>\n",
       "      <td>1136</td>\n",
       "      <td>3</td>\n",
       "      <td>Johnston, Master. William Arthur Willie\"\"</td>\n",
       "      <td>male</td>\n",
       "      <td>NaN</td>\n",
       "      <td>1</td>\n",
       "      <td>2</td>\n",
       "      <td>W./C. 6607</td>\n",
       "      <td>23.4500</td>\n",
       "      <td>NaN</td>\n",
       "      <td>S</td>\n",
       "      <td>Master</td>\n",
       "    </tr>\n",
       "    <tr>\n",
       "      <th>339</th>\n",
       "      <td>1231</td>\n",
       "      <td>3</td>\n",
       "      <td>Betros, Master. Seman</td>\n",
       "      <td>male</td>\n",
       "      <td>NaN</td>\n",
       "      <td>0</td>\n",
       "      <td>0</td>\n",
       "      <td>2622</td>\n",
       "      <td>7.2292</td>\n",
       "      <td>NaN</td>\n",
       "      <td>C</td>\n",
       "      <td>Master</td>\n",
       "    </tr>\n",
       "    <tr>\n",
       "      <th>344</th>\n",
       "      <td>1236</td>\n",
       "      <td>3</td>\n",
       "      <td>van Billiard, Master. James William</td>\n",
       "      <td>male</td>\n",
       "      <td>NaN</td>\n",
       "      <td>1</td>\n",
       "      <td>1</td>\n",
       "      <td>A/5. 851</td>\n",
       "      <td>14.5000</td>\n",
       "      <td>NaN</td>\n",
       "      <td>S</td>\n",
       "      <td>Master</td>\n",
       "    </tr>\n",
       "    <tr>\n",
       "      <th>417</th>\n",
       "      <td>1309</td>\n",
       "      <td>3</td>\n",
       "      <td>Peter, Master. Michael J</td>\n",
       "      <td>male</td>\n",
       "      <td>NaN</td>\n",
       "      <td>1</td>\n",
       "      <td>1</td>\n",
       "      <td>2668</td>\n",
       "      <td>22.3583</td>\n",
       "      <td>NaN</td>\n",
       "      <td>C</td>\n",
       "      <td>Master</td>\n",
       "    </tr>\n",
       "  </tbody>\n",
       "</table>\n",
       "</div>"
      ],
      "text/plain": [
       "     PassengerId  Pclass                                       Name   Sex  \\\n",
       "244         1136       3  Johnston, Master. William Arthur Willie\"\"  male   \n",
       "339         1231       3                      Betros, Master. Seman  male   \n",
       "344         1236       3        van Billiard, Master. James William  male   \n",
       "417         1309       3                   Peter, Master. Michael J  male   \n",
       "\n",
       "     Age  SibSp  Parch      Ticket     Fare Cabin Embarked   Title  \n",
       "244  NaN      1      2  W./C. 6607  23.4500   NaN        S  Master  \n",
       "339  NaN      0      0        2622   7.2292   NaN        C  Master  \n",
       "344  NaN      1      1    A/5. 851  14.5000   NaN        S  Master  \n",
       "417  NaN      1      1        2668  22.3583   NaN        C  Master  "
      ]
     },
     "execution_count": 177,
     "metadata": {},
     "output_type": "execute_result"
    }
   ],
   "source": [
    "# 1. Combining Miss and Ms into a single category: Miss.\n",
    "test.Title[(test.Age.isna()) & (test.Title == 'Ms')] = 'Miss'\n",
    "\n",
    "# Viewing the missing values of Masters\n",
    "test[(test.Age.isna()) & (test.Title == 'Master')]"
   ]
  },
  {
   "cell_type": "code",
   "execution_count": 178,
   "id": "4a562881-4327-45fc-92fe-b9884a452f51",
   "metadata": {},
   "outputs": [],
   "source": [
    "# 2. Imputing the Age of Master travelling alone as 14(highest age to be categorized as Master)\n",
    "test.Age[(test.Title == 'Master') & (test.Parch == 0)] = 14\n",
    "\n",
    "# 3. Imputing Age for other Masters traveling in P3 with 5, which is the mean age of Masters in P3\n",
    "test.Age[(test.Title == 'Master') & (test.Age.isna())] = 5"
   ]
  },
  {
   "cell_type": "markdown",
   "id": "ba95993c-73dd-4425-873b-b63cd97f141c",
   "metadata": {},
   "source": [
    "Imputing the Age for the test set using the function we created earlier for the training set."
   ]
  },
  {
   "cell_type": "code",
   "execution_count": 179,
   "id": "a5e50d42-a800-47f3-9de6-90a377be62c9",
   "metadata": {
    "scrolled": true
   },
   "outputs": [
    {
     "data": {
      "text/plain": [
       "Fare       1\n",
       "Cabin    327\n",
       "dtype: int64"
      ]
     },
     "execution_count": 179,
     "metadata": {},
     "output_type": "execute_result"
    }
   ],
   "source": [
    "# 4. Calling function to impute the missing values\n",
    "test = impute(test)\n",
    "\n",
    "# Verify\n",
    "test.isnull().sum()[test.isnull().sum()>0]"
   ]
  },
  {
   "cell_type": "code",
   "execution_count": 180,
   "id": "cf949ae0-6ee1-408d-a6bf-5eefaee9acf4",
   "metadata": {
    "scrolled": true
   },
   "outputs": [
    {
     "data": {
      "text/plain": [
       "Cabin    327\n",
       "dtype: int64"
      ]
     },
     "execution_count": 180,
     "metadata": {},
     "output_type": "execute_result"
    }
   ],
   "source": [
    "# 5. Imputing Fare with dummy value\n",
    "# Fare column will be dropped in future, but we need it since we have to perform the transform scaling, hence imputing the Fare with 0 as dummy value\n",
    "test.Fare[(test.Fare.isna())] = 0\n",
    "\n",
    "# Verify\n",
    "test.isnull().sum()[test.isnull().sum()>0]"
   ]
  },
  {
   "cell_type": "markdown",
   "id": "e09b0515-8347-4592-b7cc-3e8959f87ddb",
   "metadata": {},
   "source": [
    "We can safely disregard the 'Cabin' column as it will be dropped later. Currently, all missing values have been successfully handled."
   ]
  },
  {
   "cell_type": "markdown",
   "id": "c50c2ab5-f25a-48b5-9cb7-a8407b2ef735",
   "metadata": {
    "scrolled": true
   },
   "source": [
    "#### 10.2 Binary Encoding   "
   ]
  },
  {
   "cell_type": "code",
   "execution_count": 181,
   "id": "5a3d5e40-5e4d-42fd-b899-1f3eb782ebbb",
   "metadata": {},
   "outputs": [
    {
     "data": {
      "text/html": [
       "<div>\n",
       "<style scoped>\n",
       "    .dataframe tbody tr th:only-of-type {\n",
       "        vertical-align: middle;\n",
       "    }\n",
       "\n",
       "    .dataframe tbody tr th {\n",
       "        vertical-align: top;\n",
       "    }\n",
       "\n",
       "    .dataframe thead th {\n",
       "        text-align: right;\n",
       "    }\n",
       "</style>\n",
       "<table border=\"1\" class=\"dataframe\">\n",
       "  <thead>\n",
       "    <tr style=\"text-align: right;\">\n",
       "      <th></th>\n",
       "      <th>PassengerId</th>\n",
       "      <th>Pclass</th>\n",
       "      <th>Name</th>\n",
       "      <th>Sex</th>\n",
       "      <th>Age</th>\n",
       "      <th>SibSp</th>\n",
       "      <th>Parch</th>\n",
       "      <th>Ticket</th>\n",
       "      <th>Fare</th>\n",
       "      <th>Cabin</th>\n",
       "      <th>Title</th>\n",
       "      <th>Embarked_Q</th>\n",
       "      <th>Embarked_S</th>\n",
       "    </tr>\n",
       "  </thead>\n",
       "  <tbody>\n",
       "    <tr>\n",
       "      <th>0</th>\n",
       "      <td>892</td>\n",
       "      <td>3</td>\n",
       "      <td>Kelly, Mr. James</td>\n",
       "      <td>male</td>\n",
       "      <td>34.5</td>\n",
       "      <td>0</td>\n",
       "      <td>0</td>\n",
       "      <td>330911</td>\n",
       "      <td>7.8292</td>\n",
       "      <td>NaN</td>\n",
       "      <td>Mr</td>\n",
       "      <td>1</td>\n",
       "      <td>0</td>\n",
       "    </tr>\n",
       "    <tr>\n",
       "      <th>1</th>\n",
       "      <td>893</td>\n",
       "      <td>3</td>\n",
       "      <td>Wilkes, Mrs. James (Ellen Needs)</td>\n",
       "      <td>female</td>\n",
       "      <td>47.0</td>\n",
       "      <td>1</td>\n",
       "      <td>0</td>\n",
       "      <td>363272</td>\n",
       "      <td>7.0000</td>\n",
       "      <td>NaN</td>\n",
       "      <td>Mrs</td>\n",
       "      <td>0</td>\n",
       "      <td>1</td>\n",
       "    </tr>\n",
       "    <tr>\n",
       "      <th>2</th>\n",
       "      <td>894</td>\n",
       "      <td>2</td>\n",
       "      <td>Myles, Mr. Thomas Francis</td>\n",
       "      <td>male</td>\n",
       "      <td>62.0</td>\n",
       "      <td>0</td>\n",
       "      <td>0</td>\n",
       "      <td>240276</td>\n",
       "      <td>9.6875</td>\n",
       "      <td>NaN</td>\n",
       "      <td>Mr</td>\n",
       "      <td>1</td>\n",
       "      <td>0</td>\n",
       "    </tr>\n",
       "    <tr>\n",
       "      <th>3</th>\n",
       "      <td>895</td>\n",
       "      <td>3</td>\n",
       "      <td>Wirz, Mr. Albert</td>\n",
       "      <td>male</td>\n",
       "      <td>27.0</td>\n",
       "      <td>0</td>\n",
       "      <td>0</td>\n",
       "      <td>315154</td>\n",
       "      <td>8.6625</td>\n",
       "      <td>NaN</td>\n",
       "      <td>Mr</td>\n",
       "      <td>0</td>\n",
       "      <td>1</td>\n",
       "    </tr>\n",
       "    <tr>\n",
       "      <th>4</th>\n",
       "      <td>896</td>\n",
       "      <td>3</td>\n",
       "      <td>Hirvonen, Mrs. Alexander (Helga E Lindqvist)</td>\n",
       "      <td>female</td>\n",
       "      <td>22.0</td>\n",
       "      <td>1</td>\n",
       "      <td>1</td>\n",
       "      <td>3101298</td>\n",
       "      <td>12.2875</td>\n",
       "      <td>NaN</td>\n",
       "      <td>Mrs</td>\n",
       "      <td>0</td>\n",
       "      <td>1</td>\n",
       "    </tr>\n",
       "  </tbody>\n",
       "</table>\n",
       "</div>"
      ],
      "text/plain": [
       "   PassengerId  Pclass                                          Name     Sex  \\\n",
       "0          892       3                              Kelly, Mr. James    male   \n",
       "1          893       3              Wilkes, Mrs. James (Ellen Needs)  female   \n",
       "2          894       2                     Myles, Mr. Thomas Francis    male   \n",
       "3          895       3                              Wirz, Mr. Albert    male   \n",
       "4          896       3  Hirvonen, Mrs. Alexander (Helga E Lindqvist)  female   \n",
       "\n",
       "    Age  SibSp  Parch   Ticket     Fare Cabin Title  Embarked_Q  Embarked_S  \n",
       "0  34.5      0      0   330911   7.8292   NaN    Mr           1           0  \n",
       "1  47.0      1      0   363272   7.0000   NaN   Mrs           0           1  \n",
       "2  62.0      0      0   240276   9.6875   NaN    Mr           1           0  \n",
       "3  27.0      0      0   315154   8.6625   NaN    Mr           0           1  \n",
       "4  22.0      1      1  3101298  12.2875   NaN   Mrs           0           1  "
      ]
     },
     "execution_count": 181,
     "metadata": {},
     "output_type": "execute_result"
    }
   ],
   "source": [
    "# 1. Let us encode the Embarked port based on the binary coding\n",
    "# Embarked code - Function to convert to 0s and 1s - reused\n",
    "    \n",
    "# Saving the embarked coded in a separate variable as a DF\n",
    "embarked_coded = pd.get_dummies(test.Embarked , drop_first = True , prefix = 'Embarked').apply(embarked_code)\n",
    "\n",
    "# Merging to the actual df\n",
    "test = pd.concat([test , embarked_coded] , axis = 1)\n",
    "\n",
    "# Dropping the original Embarked column\n",
    "test.drop('Embarked' , inplace = True , axis = 1)\n",
    "\n",
    "# Verify\n",
    "test.head()"
   ]
  },
  {
   "cell_type": "code",
   "execution_count": 182,
   "id": "3dbb86e2-aad8-4f72-a5ce-c49eba17207c",
   "metadata": {},
   "outputs": [
    {
     "data": {
      "text/html": [
       "<div>\n",
       "<style scoped>\n",
       "    .dataframe tbody tr th:only-of-type {\n",
       "        vertical-align: middle;\n",
       "    }\n",
       "\n",
       "    .dataframe tbody tr th {\n",
       "        vertical-align: top;\n",
       "    }\n",
       "\n",
       "    .dataframe thead th {\n",
       "        text-align: right;\n",
       "    }\n",
       "</style>\n",
       "<table border=\"1\" class=\"dataframe\">\n",
       "  <thead>\n",
       "    <tr style=\"text-align: right;\">\n",
       "      <th></th>\n",
       "      <th>PassengerId</th>\n",
       "      <th>Pclass</th>\n",
       "      <th>Name</th>\n",
       "      <th>Sex</th>\n",
       "      <th>Age</th>\n",
       "      <th>SibSp</th>\n",
       "      <th>Parch</th>\n",
       "      <th>Ticket</th>\n",
       "      <th>Fare</th>\n",
       "      <th>Cabin</th>\n",
       "      <th>Title</th>\n",
       "      <th>Embarked_Q</th>\n",
       "      <th>Embarked_S</th>\n",
       "    </tr>\n",
       "  </thead>\n",
       "  <tbody>\n",
       "    <tr>\n",
       "      <th>0</th>\n",
       "      <td>892</td>\n",
       "      <td>3</td>\n",
       "      <td>Kelly, Mr. James</td>\n",
       "      <td>1</td>\n",
       "      <td>34.5</td>\n",
       "      <td>0</td>\n",
       "      <td>0</td>\n",
       "      <td>330911</td>\n",
       "      <td>7.8292</td>\n",
       "      <td>NaN</td>\n",
       "      <td>Mr</td>\n",
       "      <td>1</td>\n",
       "      <td>0</td>\n",
       "    </tr>\n",
       "    <tr>\n",
       "      <th>1</th>\n",
       "      <td>893</td>\n",
       "      <td>3</td>\n",
       "      <td>Wilkes, Mrs. James (Ellen Needs)</td>\n",
       "      <td>0</td>\n",
       "      <td>47.0</td>\n",
       "      <td>1</td>\n",
       "      <td>0</td>\n",
       "      <td>363272</td>\n",
       "      <td>7.0000</td>\n",
       "      <td>NaN</td>\n",
       "      <td>Mrs</td>\n",
       "      <td>0</td>\n",
       "      <td>1</td>\n",
       "    </tr>\n",
       "    <tr>\n",
       "      <th>2</th>\n",
       "      <td>894</td>\n",
       "      <td>2</td>\n",
       "      <td>Myles, Mr. Thomas Francis</td>\n",
       "      <td>1</td>\n",
       "      <td>62.0</td>\n",
       "      <td>0</td>\n",
       "      <td>0</td>\n",
       "      <td>240276</td>\n",
       "      <td>9.6875</td>\n",
       "      <td>NaN</td>\n",
       "      <td>Mr</td>\n",
       "      <td>1</td>\n",
       "      <td>0</td>\n",
       "    </tr>\n",
       "    <tr>\n",
       "      <th>3</th>\n",
       "      <td>895</td>\n",
       "      <td>3</td>\n",
       "      <td>Wirz, Mr. Albert</td>\n",
       "      <td>1</td>\n",
       "      <td>27.0</td>\n",
       "      <td>0</td>\n",
       "      <td>0</td>\n",
       "      <td>315154</td>\n",
       "      <td>8.6625</td>\n",
       "      <td>NaN</td>\n",
       "      <td>Mr</td>\n",
       "      <td>0</td>\n",
       "      <td>1</td>\n",
       "    </tr>\n",
       "    <tr>\n",
       "      <th>4</th>\n",
       "      <td>896</td>\n",
       "      <td>3</td>\n",
       "      <td>Hirvonen, Mrs. Alexander (Helga E Lindqvist)</td>\n",
       "      <td>0</td>\n",
       "      <td>22.0</td>\n",
       "      <td>1</td>\n",
       "      <td>1</td>\n",
       "      <td>3101298</td>\n",
       "      <td>12.2875</td>\n",
       "      <td>NaN</td>\n",
       "      <td>Mrs</td>\n",
       "      <td>0</td>\n",
       "      <td>1</td>\n",
       "    </tr>\n",
       "  </tbody>\n",
       "</table>\n",
       "</div>"
      ],
      "text/plain": [
       "   PassengerId  Pclass                                          Name  Sex  \\\n",
       "0          892       3                              Kelly, Mr. James    1   \n",
       "1          893       3              Wilkes, Mrs. James (Ellen Needs)    0   \n",
       "2          894       2                     Myles, Mr. Thomas Francis    1   \n",
       "3          895       3                              Wirz, Mr. Albert    1   \n",
       "4          896       3  Hirvonen, Mrs. Alexander (Helga E Lindqvist)    0   \n",
       "\n",
       "    Age  SibSp  Parch   Ticket     Fare Cabin Title  Embarked_Q  Embarked_S  \n",
       "0  34.5      0      0   330911   7.8292   NaN    Mr           1           0  \n",
       "1  47.0      1      0   363272   7.0000   NaN   Mrs           0           1  \n",
       "2  62.0      0      0   240276   9.6875   NaN    Mr           1           0  \n",
       "3  27.0      0      0   315154   8.6625   NaN    Mr           0           1  \n",
       "4  22.0      1      1  3101298  12.2875   NaN   Mrs           0           1  "
      ]
     },
     "execution_count": 182,
     "metadata": {},
     "output_type": "execute_result"
    }
   ],
   "source": [
    "# 2. Converting Sex [Binary variable] to 0s and 1s\n",
    "# Reusing gender_code function \n",
    "test.Sex = test.Sex.apply(lambda x: gender_code(x))\n",
    "\n",
    "# Verify\n",
    "test.head()"
   ]
  },
  {
   "cell_type": "markdown",
   "id": "be050606-c072-48e2-8c8f-f8202e64d05a",
   "metadata": {},
   "source": [
    "#### 10.3 Scaling the Features"
   ]
  },
  {
   "cell_type": "code",
   "execution_count": 183,
   "id": "69dc476d-a31e-4950-a527-725e1d68c60b",
   "metadata": {},
   "outputs": [
    {
     "data": {
      "text/html": [
       "<div>\n",
       "<style scoped>\n",
       "    .dataframe tbody tr th:only-of-type {\n",
       "        vertical-align: middle;\n",
       "    }\n",
       "\n",
       "    .dataframe tbody tr th {\n",
       "        vertical-align: top;\n",
       "    }\n",
       "\n",
       "    .dataframe thead th {\n",
       "        text-align: right;\n",
       "    }\n",
       "</style>\n",
       "<table border=\"1\" class=\"dataframe\">\n",
       "  <thead>\n",
       "    <tr style=\"text-align: right;\">\n",
       "      <th></th>\n",
       "      <th>PassengerId</th>\n",
       "      <th>Pclass</th>\n",
       "      <th>Sex</th>\n",
       "      <th>Age</th>\n",
       "      <th>SibSp</th>\n",
       "      <th>Parch</th>\n",
       "      <th>Fare</th>\n",
       "      <th>Embarked_Q</th>\n",
       "      <th>Embarked_S</th>\n",
       "    </tr>\n",
       "  </thead>\n",
       "  <tbody>\n",
       "    <tr>\n",
       "      <th>count</th>\n",
       "      <td>418.000000</td>\n",
       "      <td>418.000000</td>\n",
       "      <td>418.000000</td>\n",
       "      <td>418.000000</td>\n",
       "      <td>418.000000</td>\n",
       "      <td>418.000000</td>\n",
       "      <td>418.000000</td>\n",
       "      <td>418.000000</td>\n",
       "      <td>418.000000</td>\n",
       "    </tr>\n",
       "    <tr>\n",
       "      <th>mean</th>\n",
       "      <td>1100.500000</td>\n",
       "      <td>0.073757</td>\n",
       "      <td>0.636364</td>\n",
       "      <td>0.015354</td>\n",
       "      <td>-0.044547</td>\n",
       "      <td>0.057572</td>\n",
       "      <td>-0.008114</td>\n",
       "      <td>0.110048</td>\n",
       "      <td>0.645933</td>\n",
       "    </tr>\n",
       "    <tr>\n",
       "      <th>std</th>\n",
       "      <td>120.810458</td>\n",
       "      <td>0.980856</td>\n",
       "      <td>0.481622</td>\n",
       "      <td>0.954831</td>\n",
       "      <td>0.870521</td>\n",
       "      <td>1.316884</td>\n",
       "      <td>1.014834</td>\n",
       "      <td>0.313324</td>\n",
       "      <td>0.478803</td>\n",
       "    </tr>\n",
       "    <tr>\n",
       "      <th>min</th>\n",
       "      <td>892.000000</td>\n",
       "      <td>-1.400783</td>\n",
       "      <td>0.000000</td>\n",
       "      <td>-2.124811</td>\n",
       "      <td>-0.478826</td>\n",
       "      <td>-0.468877</td>\n",
       "      <td>-0.653732</td>\n",
       "      <td>0.000000</td>\n",
       "      <td>0.000000</td>\n",
       "    </tr>\n",
       "    <tr>\n",
       "      <th>25%</th>\n",
       "      <td>996.250000</td>\n",
       "      <td>-1.400783</td>\n",
       "      <td>0.000000</td>\n",
       "      <td>-0.592437</td>\n",
       "      <td>-0.478826</td>\n",
       "      <td>-0.468877</td>\n",
       "      <td>-0.510305</td>\n",
       "      <td>0.000000</td>\n",
       "      <td>0.000000</td>\n",
       "    </tr>\n",
       "    <tr>\n",
       "      <th>50%</th>\n",
       "      <td>1100.500000</td>\n",
       "      <td>0.929491</td>\n",
       "      <td>1.000000</td>\n",
       "      <td>-0.159912</td>\n",
       "      <td>-0.478826</td>\n",
       "      <td>-0.468877</td>\n",
       "      <td>-0.391172</td>\n",
       "      <td>0.000000</td>\n",
       "      <td>1.000000</td>\n",
       "    </tr>\n",
       "    <tr>\n",
       "      <th>75%</th>\n",
       "      <td>1204.750000</td>\n",
       "      <td>0.929491</td>\n",
       "      <td>1.000000</td>\n",
       "      <td>0.507049</td>\n",
       "      <td>0.491915</td>\n",
       "      <td>-0.468877</td>\n",
       "      <td>-0.082047</td>\n",
       "      <td>0.000000</td>\n",
       "      <td>1.000000</td>\n",
       "    </tr>\n",
       "    <tr>\n",
       "      <th>max</th>\n",
       "      <td>1309.000000</td>\n",
       "      <td>0.929491</td>\n",
       "      <td>1.000000</td>\n",
       "      <td>3.387520</td>\n",
       "      <td>7.287101</td>\n",
       "      <td>11.607352</td>\n",
       "      <td>8.652707</td>\n",
       "      <td>1.000000</td>\n",
       "      <td>1.000000</td>\n",
       "    </tr>\n",
       "  </tbody>\n",
       "</table>\n",
       "</div>"
      ],
      "text/plain": [
       "       PassengerId      Pclass         Sex         Age       SibSp  \\\n",
       "count   418.000000  418.000000  418.000000  418.000000  418.000000   \n",
       "mean   1100.500000    0.073757    0.636364    0.015354   -0.044547   \n",
       "std     120.810458    0.980856    0.481622    0.954831    0.870521   \n",
       "min     892.000000   -1.400783    0.000000   -2.124811   -0.478826   \n",
       "25%     996.250000   -1.400783    0.000000   -0.592437   -0.478826   \n",
       "50%    1100.500000    0.929491    1.000000   -0.159912   -0.478826   \n",
       "75%    1204.750000    0.929491    1.000000    0.507049    0.491915   \n",
       "max    1309.000000    0.929491    1.000000    3.387520    7.287101   \n",
       "\n",
       "            Parch        Fare  Embarked_Q  Embarked_S  \n",
       "count  418.000000  418.000000  418.000000  418.000000  \n",
       "mean     0.057572   -0.008114    0.110048    0.645933  \n",
       "std      1.316884    1.014834    0.313324    0.478803  \n",
       "min     -0.468877   -0.653732    0.000000    0.000000  \n",
       "25%     -0.468877   -0.510305    0.000000    0.000000  \n",
       "50%     -0.468877   -0.391172    0.000000    1.000000  \n",
       "75%     -0.468877   -0.082047    0.000000    1.000000  \n",
       "max     11.607352    8.652707    1.000000    1.000000  "
      ]
     },
     "execution_count": 183,
     "metadata": {},
     "output_type": "execute_result"
    }
   ],
   "source": [
    "# Scaling the features\n",
    "test[scale_var] = scaler.transform(test[scale_var])\n",
    "\n",
    "# Verify\n",
    "test.describe()"
   ]
  },
  {
   "cell_type": "markdown",
   "id": "dba66049-daa7-4cf9-a4fe-f55a14d2aa91",
   "metadata": {},
   "source": [
    "#### 10.4 Dropping the unnecessary columns"
   ]
  },
  {
   "cell_type": "code",
   "execution_count": 184,
   "id": "de646bd1-7d48-4aa3-8e21-0e17828f7e7f",
   "metadata": {},
   "outputs": [
    {
     "data": {
      "text/html": [
       "<div>\n",
       "<style scoped>\n",
       "    .dataframe tbody tr th:only-of-type {\n",
       "        vertical-align: middle;\n",
       "    }\n",
       "\n",
       "    .dataframe tbody tr th {\n",
       "        vertical-align: top;\n",
       "    }\n",
       "\n",
       "    .dataframe thead th {\n",
       "        text-align: right;\n",
       "    }\n",
       "</style>\n",
       "<table border=\"1\" class=\"dataframe\">\n",
       "  <thead>\n",
       "    <tr style=\"text-align: right;\">\n",
       "      <th></th>\n",
       "      <th>Pclass</th>\n",
       "      <th>Sex</th>\n",
       "      <th>Age</th>\n",
       "      <th>SibSp</th>\n",
       "      <th>Embarked_S</th>\n",
       "    </tr>\n",
       "  </thead>\n",
       "  <tbody>\n",
       "    <tr>\n",
       "      <th>0</th>\n",
       "      <td>0.929491</td>\n",
       "      <td>1</td>\n",
       "      <td>0.370749</td>\n",
       "      <td>-0.478826</td>\n",
       "      <td>0</td>\n",
       "    </tr>\n",
       "    <tr>\n",
       "      <th>1</th>\n",
       "      <td>0.929491</td>\n",
       "      <td>0</td>\n",
       "      <td>1.279415</td>\n",
       "      <td>0.491915</td>\n",
       "      <td>1</td>\n",
       "    </tr>\n",
       "    <tr>\n",
       "      <th>2</th>\n",
       "      <td>-0.235646</td>\n",
       "      <td>1</td>\n",
       "      <td>2.369814</td>\n",
       "      <td>-0.478826</td>\n",
       "      <td>0</td>\n",
       "    </tr>\n",
       "    <tr>\n",
       "      <th>3</th>\n",
       "      <td>0.929491</td>\n",
       "      <td>1</td>\n",
       "      <td>-0.174451</td>\n",
       "      <td>-0.478826</td>\n",
       "      <td>1</td>\n",
       "    </tr>\n",
       "    <tr>\n",
       "      <th>4</th>\n",
       "      <td>0.929491</td>\n",
       "      <td>0</td>\n",
       "      <td>-0.537917</td>\n",
       "      <td>0.491915</td>\n",
       "      <td>1</td>\n",
       "    </tr>\n",
       "  </tbody>\n",
       "</table>\n",
       "</div>"
      ],
      "text/plain": [
       "     Pclass  Sex       Age     SibSp  Embarked_S\n",
       "0  0.929491    1  0.370749 -0.478826           0\n",
       "1  0.929491    0  1.279415  0.491915           1\n",
       "2 -0.235646    1  2.369814 -0.478826           0\n",
       "3  0.929491    1 -0.174451 -0.478826           1\n",
       "4  0.929491    0 -0.537917  0.491915           1"
      ]
     },
     "execution_count": 184,
     "metadata": {},
     "output_type": "execute_result"
    }
   ],
   "source": [
    "# Creating a new data set with the columns for machine learning model\n",
    "test_X = test[['Pclass' , 'Sex' , 'Age' , 'SibSp'  , 'Embarked_S']]\n",
    "\n",
    "# Verify\n",
    "test_X.head()"
   ]
  },
  {
   "cell_type": "markdown",
   "id": "25fbccaf-ba5d-423b-9cf0-2f467fd8c543",
   "metadata": {},
   "source": [
    "#### 10.5 Prediction and Submission\n"
   ]
  },
  {
   "cell_type": "code",
   "execution_count": 185,
   "id": "a30ad740-201c-407c-a0b0-0a01f203c3ac",
   "metadata": {},
   "outputs": [],
   "source": [
    "#  Adding constant\n",
    "test_sm = sm.add_constant(test_X)\n",
    "\n",
    "# Predicting\n",
    "predicted_prob = model4.predict(test_sm)\n",
    "\n",
    "# Converting the prediction values based on the finalised threshold\n",
    "Survival_predicted = predicted_prob.apply(lambda x: 1 if x>0.465 else 0)"
   ]
  },
  {
   "cell_type": "code",
   "execution_count": 186,
   "id": "8871d2e1-b00d-4605-adc9-74c76c46b19b",
   "metadata": {},
   "outputs": [],
   "source": [
    "# Adding predicted values to the original data frame\n",
    "test['predicted_probab'] = predicted_prob.values\n",
    "\n",
    "# Adding predicted values to the original data frame\n",
    "test['Survived'] = Survival_predicted.values"
   ]
  },
  {
   "cell_type": "code",
   "execution_count": 187,
   "id": "7483296e-5b98-451b-aa08-1c92d2b76ed7",
   "metadata": {},
   "outputs": [],
   "source": [
    "# Creating the Submission file\n",
    "submission = pd.DataFrame(test[['PassengerId' , 'Survived']])"
   ]
  },
  {
   "cell_type": "code",
   "execution_count": 189,
   "id": "247e666b-7f8b-4bca-befb-e51fadf76afb",
   "metadata": {},
   "outputs": [],
   "source": [
    "# Exporting\n",
    "submission.to_csv('submission.csv' , index=False)"
   ]
  },
  {
   "cell_type": "markdown",
   "id": "ad079360-9a04-4c0d-9bc6-af8e09426a58",
   "metadata": {},
   "source": [
    "I have submitted the above file to Kaggle Titanic set competion and got a public score of 0.74"
   ]
  }
 ],
 "metadata": {
  "kernelspec": {
   "display_name": "Python 3 (ipykernel)",
   "language": "python",
   "name": "python3"
  },
  "language_info": {
   "codemirror_mode": {
    "name": "ipython",
    "version": 3
   },
   "file_extension": ".py",
   "mimetype": "text/x-python",
   "name": "python",
   "nbconvert_exporter": "python",
   "pygments_lexer": "ipython3",
   "version": "3.11.5"
  }
 },
 "nbformat": 4,
 "nbformat_minor": 5
}
